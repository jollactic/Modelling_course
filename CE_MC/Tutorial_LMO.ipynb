{
  "cells": [
    {
      "cell_type": "markdown",
      "metadata": {
        "id": "view-in-github",
        "colab_type": "text"
      },
      "source": [
        "<a href=\"https://colab.research.google.com/github/jollactic/Modelling_course/blob/main/CE_MC/Tutorial_LMO.ipynb\" target=\"_parent\"><img src=\"https://colab.research.google.com/assets/colab-badge.svg\" alt=\"Open In Colab\"/></a>"
      ]
    },
    {
      "cell_type": "code",
      "source": [
        "!wget https://raw.githubusercontent.com/jollactic/Modelling_course/main/CE_MC/DFT_norm.db\n",
        "!wget https://raw.githubusercontent.com/jollactic/Modelling_course/main/CE_MC/helper.py"
      ],
      "metadata": {
        "id": "Fz-ErBAAhEX9"
      },
      "execution_count": null,
      "outputs": []
    },
    {
      "cell_type": "code",
      "source": [
        "!pip install icet\n",
        "!pip install py3dmol"
      ],
      "metadata": {
        "id": "xhWhfJ2hfEVJ"
      },
      "execution_count": null,
      "outputs": []
    },
    {
      "cell_type": "markdown",
      "metadata": {
        "id": "OrTmwRJ4fCGR"
      },
      "source": [
        "# Li intercalation in $LiMn_2O_4$ \n",
        "\n",
        "In this tutorial we will build a cluster expansion (CE) model for $LiMn_2O_4$ and try to compute a voltage profile. We use a data-set of DFT calculated energies to fit a cluster expansion model. We will use a code called Ice-T.\n",
        "\n",
        "Mn and O atoms makes up the host of this intercalation material. Li can be filled into vacant holes in the structure. When using a CE model we need to point out exactly where this positions are located in the strucutre. This is done by using a template strucutre where \"X\" marks the spot. Thus vacancies, \"X\", and lithium ions, \"Li\", are treated in the same way as two components of alloy. See Ag-Pd example from the Ice-T page: https://icet.materialsmodeling.org/background/index.html which also provide details of all the command used in this tutorial.\n",
        "\n",
        "\n",
        "\n"
      ]
    },
    {
      "cell_type": "markdown",
      "metadata": {
        "id": "BW-pOASAfCGT"
      },
      "source": [
        "### The magic number 7!\n",
        "\n",
        "Often in these CE-codes everything is phrased in terms of atom concentrations rather than in terms of number of atoms. This means that we need to know the natural bounds of e.g. Li in the structure. Since Li makes up 1/7 of the atoms in the  formula $LiMn_2O_4$ (1+2+4=7) we need to normlize accordingly. Therefore the number 7 appear as a factor at some places in this example...\n",
        "\n"
      ]
    },
    {
      "cell_type": "markdown",
      "metadata": {
        "id": "b-XgKCHkfCGT"
      },
      "source": [
        "# 0. A rough estimate of the voltage profile"
      ]
    },
    {
      "cell_type": "markdown",
      "metadata": {
        "id": "UqN7R2gmfCGU"
      },
      "source": [
        "### Use the DFT energies provided below to make an estimate of the expected voltage profile from a battery using LMO as the intercalating material.\n",
        "\n",
        "Tip #1: Nearst equation...\n",
        "\n",
        "Tip #2: Faradays constant is 1 when the energy unit is eV!\n",
        "\n",
        "The DFT energies provided are the results of an geometry optimization where both the cell and coordinates of the atoms have been optimized.\n",
        "\n",
        "What important energy contributions are we neglecting when using these DFT energies?"
      ]
    },
    {
      "cell_type": "code",
      "execution_count": null,
      "metadata": {
        "id": "ZhDoQD-oG97I"
      },
      "outputs": [],
      "source": [
        "from ase.db import connect\n",
        "from icet import ClusterSpace, StructureContainer, ClusterExpansion\n",
        "from trainstation import CrossValidationEstimator\n",
        "from ase.io import read\n",
        "from helper import show\n",
        "\n",
        "db = connect('DFT_norm.db')\n",
        "\n",
        "# Some useful and importnant DFT reference energies\n",
        "E_Li_metal=-1.9              # The energy for Li-metal (eV)\n",
        "E_MO  =   -.34377483E+03 /8. # The energy for a \"formula unit\" of the host material Mn2O4 (eV)\n",
        "E_LMO =   -.38704327E+03 /8. # The energy for a formula unit of the lithiated material LiMn2O4 (eV)\n",
        "\n",
        "OCV_ref=-(E_LMO-E_MO-E_Li_metal) "
      ]
    },
    {
      "cell_type": "markdown",
      "metadata": {
        "id": "QRzFnFnOfCGV"
      },
      "source": [
        "### Next we will consider a more realistic situation where the intercalation happens gradually, i.e. where we move (almost) continously from $Mn_2O_4$ to $LiMn_2O_4$\n",
        "\n",
        "In order to adress this we make use of an cluster expansion approach. You are provided a small data-base with precomputed DFT energies for a number of cases with varying Li content ($Li_xMn2O4$). These are generated from $2\\times 2 \\times2$ repetitions of the crystallografic $LiMn_2O_4$ cells. For each structure in the data-base, some Li atoms have been removed at random.\n",
        "\n",
        "The idea is now to fit a so-called cluster expansion model to reproduce the energies in the data-base. With a fitted model we can target much larger systems and explore the way that Li prefers to order on the lattice in a systematic way.\n"
      ]
    },
    {
      "cell_type": "markdown",
      "metadata": {
        "id": "wNz6qH0nfCGW"
      },
      "source": [
        "# 1. Fit the cluster expansion model"
      ]
    },
    {
      "cell_type": "code",
      "execution_count": null,
      "metadata": {
        "id": "FSjDPL6EfCGW"
      },
      "outputs": [],
      "source": [
        "# step 1: Basic setup\n",
        "\n",
        "primitive_structure=db.get(\"id=1\").toatoms()\n",
        "#primitive_structure = read(\"template.POSCAR\") # This is the template structure describing the lattice\n",
        "# If you recall how to, you can visualize it! \n",
        "\n",
        "chemical_symbols=[]\n",
        "for c in primitive_structure.symbols:\n",
        "    if c == \"Li\" or c == \"X\":\n",
        "        c= [\"Li\",\"X\"]\n",
        "    else:\n",
        "        c=[c]\n",
        "    chemical_symbols.append(c)\n",
        "    \n",
        "# step 2: Set up the basic structure and a cluster space\n",
        "# Setting reasonable values in the cuttofs is the key to get a good model... \n",
        "cs = ClusterSpace(structure=primitive_structure,\n",
        "                  cutoffs=[8.0,6.0],\n",
        "                  chemical_symbols=chemical_symbols)\n",
        "print(cs)\n",
        "\n",
        "# step 3: Parse the input structures and set up a structure container\n",
        "sc = StructureContainer(cluster_space=cs)\n",
        "for row in db.select(): \n",
        "    sc.add_structure(structure=row.toatoms(),\n",
        "                     properties={'mixing_energy': row.mixing_energy})\n",
        "print(sc)\n",
        "\n",
        "# step 4: Train parameters\n",
        "opt = CrossValidationEstimator(fit_data=sc.get_fit_data(key='mixing_energy'),fit_method='ardr')\n",
        "opt.validate()\n",
        "opt.train()\n",
        "print(opt)\n",
        "\n",
        "# step 5: Construct cluster expansion and write it to file\n",
        "ce = ClusterExpansion(cluster_space=cs, parameters=opt.parameters, metadata=opt.summary)\n",
        "print(ce)\n",
        "ce.write('mixing_energy.ce')"
      ]
    },
    {
      "cell_type": "code",
      "source": [
        "# To get an impression of what we are dealing with we an take a look at the structure...\n",
        "show(primitive_structure*[2,2,2])"
      ],
      "metadata": {
        "id": "1gRShKRCRJ98"
      },
      "execution_count": null,
      "outputs": []
    },
    {
      "cell_type": "markdown",
      "metadata": {
        "id": "-LYuJVz8fCGX"
      },
      "source": [
        "### The quality of the fitted cluster expansion parameters can be checked comparing energies predicted with the CE-model and those computed with DFT."
      ]
    },
    {
      "cell_type": "code",
      "execution_count": null,
      "metadata": {
        "id": "TNFiVNaMfCGY"
      },
      "outputs": [],
      "source": [
        "import matplotlib.pyplot as plt\n",
        "from ase.db import connect\n",
        "from icet import ClusterExpansion\n",
        "\n",
        "# step 1: Compile predicted and reference data for plotting\n",
        "ce = ClusterExpansion.read('mixing_energy.ce')\n",
        "data = {'x': [], 'reference_energy': [], 'predicted_energy': []}\n",
        "for row in db.select():\n",
        "    data['reference_energy'].append(row.mixing_energy)\n",
        "    data['predicted_energy'].append(ce.predict(row.toatoms()))\n",
        "    aa=row.toatoms()\n",
        "    N=len(aa)\n",
        "    mask= aa.symbols == \"Li\"\n",
        "    N_Li= len(aa[mask])\n",
        "    data['x'].append(N_Li*7.0/N)\n",
        "# step 2: Plot results\n",
        "fig, ax = plt.subplots(figsize=(8, 6))\n",
        "ax.set_xlabel(r'x in Li$_x$Mn$_2$O$_4$')\n",
        "ax.set_ylabel(r'Mixing energy (meV/atom)')\n",
        "ax.set_xlim([0, 1])\n",
        "ax.scatter(data['x'], data['reference_energy'],\n",
        "           marker='o', label='reference')\n",
        "ax.scatter(data['x'], data['predicted_energy'],\n",
        "           marker='x', label='CE prediction')\n",
        "ax.legend()"
      ]
    },
    {
      "cell_type": "markdown",
      "metadata": {
        "id": "a9aD2DdKfCGZ"
      },
      "source": [
        "### We can inspect the CE coefficients in the following plot."
      ]
    },
    {
      "cell_type": "code",
      "execution_count": null,
      "metadata": {
        "id": "z6GX7ahwIjNA"
      },
      "outputs": [],
      "source": [
        "import matplotlib.pyplot as plt\n",
        "from icet import ClusterExpansion\n",
        "import numpy as np\n",
        "\n",
        "# step 1: Collect ECIs in dictionary\n",
        "ce = ClusterExpansion.read('mixing_energy.ce')\n",
        "df_ecis = ce.to_dataframe()\n",
        "\n",
        "# step 2: Plot ECIs\n",
        "fig, axs = plt.subplots(1, 3, sharey=True, figsize=(12, 6))\n",
        "for k, order in enumerate(ce.orders):\n",
        "    df_order = df_ecis.loc[df_ecis['order'] == order]\n",
        "    if k < 2 or k > 4:\n",
        "        continue\n",
        "    ax = axs[k - 2]\n",
        "    #ax.set_ylim((-1, 8))\n",
        "    ax.set_xlabel(r'Cluster radius (Å)')\n",
        "    ax.text(0.05, 0.55, 'zerolet: {:.1f} meV'\n",
        "            .format(1e3 * df_ecis.eci.iloc[0]),\n",
        "            transform=ax.transAxes)\n",
        "    ax.text(0.05, 0.45, 'singlet: {:.1f} meV'\n",
        "            .format(1e3 * df_ecis.eci.iloc[1]),\n",
        "            transform=ax.transAxes)\n",
        "    ax.plot([0, 5], [0, 0], color='black')\n",
        "    ax.bar(df_order.radius, 1e3 * df_order.eci, width=0.05)\n",
        "    ax.scatter(df_order.radius, len(df_order) * [-0.7],\n",
        "               marker='o', s=2.0)\n",
        "    ax.text(0.05, 0.91, 'order: {}'.format(order),\n",
        "            transform=ax.transAxes)\n",
        "    ax.text(0.05, 0.81, '#parameters: {}'.format(len(df_order)),\n",
        "            transform=ax.transAxes,)\n",
        "    ax.text(0.05, 0.71, '#non-zero params: {}'\n",
        "            .format(np.count_nonzero(df_order.eci)),\n",
        "            transform=ax.transAxes,)"
      ]
    },
    {
      "cell_type": "markdown",
      "metadata": {
        "id": "Ng1OLdl6fCGa"
      },
      "source": [
        "# 2. Generate new strucutres\n",
        "### We can use the CE model to generate much more structures, mote than we could ever afford to do with DFT.\n",
        "\n",
        "The `enumerate_structures` function systematically generates structures by filling in the ['X','Li'] sublattice \"combinatoriacally\"."
      ]
    },
    {
      "cell_type": "code",
      "execution_count": null,
      "metadata": {
        "id": "TW7NaxWmfCGa"
      },
      "outputs": [],
      "source": [
        "import matplotlib.pyplot as plt\n",
        "from numpy import array\n",
        "from icet import ClusterExpansion\n",
        "from icet.tools import ConvexHull, enumerate_structures\n",
        "\n",
        "# step 1: Predict energies for enumerated structures\n",
        "ce = ClusterExpansion.read('mixing_energy.ce')\n",
        "species = ['Li', 'X','Mn','O']\n",
        "data = {'concentration': [], 'mixing_energy': [],'x':[]}\n",
        "structures = []\n",
        "cluster_space = ce.get_cluster_space_copy()\n",
        "chemical_symbols = cluster_space.chemical_symbols\n",
        "primitive_structure = cluster_space.primitive_structure\n",
        "for structure in enumerate_structures(structure=primitive_structure,\n",
        "                                      sizes=range(1,8),\n",
        "                                      chemical_symbols=chemical_symbols):\n",
        "    conc = structure.get_chemical_symbols().count('Li') / len(structure)\n",
        "    data['concentration'].append(conc)\n",
        "    data['x'].append(conc*7.0)\n",
        "    data['mixing_energy'].append(ce.predict(structure)) \n",
        "    structures.append(structure)\n",
        "print('Predicted energies for {} structures'.format(len(structures)))\n",
        "\n",
        "# step 2: Construct convex hull\n",
        "hull = ConvexHull(data['x'], data['mixing_energy'])\n",
        "\n",
        "# step 3: Plot the results\n",
        "fig, ax = plt.subplots(figsize=(4, 3))\n",
        "ax.set_xlabel(r'x in Li$_x$Mn$_2$O$_4$')\n",
        "ax.set_ylabel(r'Mixing energy (eV/atom)')\n",
        "ax.scatter(data['x'], array(data['mixing_energy']),\n",
        "           marker='x')\n",
        "ax.plot(hull.concentrations,  hull.energies, '-o', color='green')\n",
        "plt.show()\n",
        "\n",
        "# step 4: Extract candidate ground state structures\n",
        "tol = 0.0005\n",
        "low_energy_structures = hull.extract_low_energy_structures(\n",
        "    data['x'], data['mixing_energy'], tol)\n",
        "print('Found {} structures within {} meV/atom of the convex hull'.\n",
        "      format(len(low_energy_structures), 1e3 * tol))"
      ]
    },
    {
      "cell_type": "markdown",
      "metadata": {
        "id": "BzxhJdHtfCGb"
      },
      "source": [
        "# 3. An improved voltage profile \n",
        "### hull.concentrations and  hull.energies (shown by the green curve in the plot above) can be used to estimate a voltage profile.\n",
        "\n",
        "The slope can be seen as an approximation to $\\Delta G$...\n",
        "\n",
        "Try computing them!"
      ]
    },
    {
      "cell_type": "markdown",
      "metadata": {
        "id": "Vn3F7k9YfCGb"
      },
      "source": [
        "# 4. Performing Monte-Carlo simulations\n",
        "\n",
        "With Monte-Carlo simulation we can introduce temperature to the mix!\n",
        "\n",
        "We can use a number of different ensambles when performing MC. The most useful ones here are:\n",
        "\n",
        "1. Canonical ensamble (N,V,T fixed). With this ensamble we can calculate the average internal energy U.\n",
        "\n",
        "2. (Semi) Grand canonocal ensamble (V,T, chemical potential fixed). Chemical potential and voltage can be related via Nearnst equation...\n",
        "\n",
        "(Note! that our zero level for the chemical potential of Li is related to $LiMn_2O_4$ and $Mn_2O_4$ and not to Li-metal. We need to take this into account when relating voltage and \"our\" chemcial potential)\n",
        "\n",
        "When running a MC simulation we are generating a collection of strucutres that represents what is typical at the specified conditions (V, T etc.). This collection is saved to a file and can be used to compute thermal average properties. (This is done separatelly below).\n",
        "\n",
        "More details about how to control the MC simulations can be found here:\n",
        "https://icet.materialsmodeling.org/tutorial/run_monte_carlo.html"
      ]
    },
    {
      "cell_type": "code",
      "execution_count": null,
      "metadata": {
        "id": "3h03MhRoVjz2"
      },
      "outputs": [],
      "source": [
        "from ase.build import make_supercell\n",
        "from icet import ClusterExpansion\n",
        "from mchammer.calculators import ClusterExpansionCalculator\n",
        "from mchammer.ensembles import SemiGrandCanonicalEnsemble\n",
        "from mchammer.ensembles import CanonicalEnsemble\n",
        "import numpy as np\n",
        "from os import mkdir\n",
        "\n",
        "# step 1: Set up structure to simulate as well as calculator\n",
        "ce = ClusterExpansion.read('mixing_energy.ce')\n",
        "structure = make_supercell(ce.get_cluster_space_copy().primitive_structure,\n",
        "                           4 * np.array([[-1, 1, 1],\n",
        "                                         [1, -1, 1],\n",
        "                                         [1, 1, -1]]))\n",
        "calculator = ClusterExpansionCalculator(structure, ce)\n",
        "\n",
        "# step 2: Carry out Monte Carlo simulations and write to files\n",
        "# Make sure output directory exists\n",
        "output_directory = 'monte_carlo_data'\n",
        "try:\n",
        "    mkdir(output_directory)\n",
        "except FileExistsError:\n",
        "    pass\n",
        "\n",
        "for temperature in [300]:\n",
        "    # We can calculate the average Li content as a function of Li chemical potential\n",
        "    for dmu in np.arange(-4.0 , +4.0, 1.0):\n",
        "        # Initialize MC ensemble\n",
        "        mc = SemiGrandCanonicalEnsemble(\n",
        "            structure=structure,\n",
        "            calculator=calculator,\n",
        "            temperature=temperature,\n",
        "            dc_filename='{}/sgc-T{}-dmu{:+.3f}.dc'.format(output_directory, temperature, dmu),\n",
        "            chemical_potentials={'X': 0, 'Li': dmu})\n",
        "\n",
        "        mc.run(number_of_trial_steps=  100000)\n",
        "        structure = mc.structure\n",
        "\n",
        "for temperature in [300]:\n",
        "    # We can calculate the average internal energy as a function of x\n",
        "    for x in np.arange(0.0, 1.0, 0.1):\n",
        "        \n",
        "\n",
        "        # We need to insert the correct number of Li and X into the structure\n",
        "        N_Li_and_X=int( len(structure)/7)\n",
        "        N_Li = round( x*N_Li_and_X)\n",
        "        actual_x= float(N_Li)/float(N_Li_and_X)\n",
        "        mask=N_Li_and_X*['X']\n",
        "        mask[0:N_Li]=N_Li*['Li']     \n",
        "        symbols= structure.symbols\n",
        "        symbols[(symbols == 'X') | (symbols == 'Li')]=mask\n",
        "        structure.symbols=symbols\n",
        "\n",
        "        \n",
        "        # Run canonical MC and save to file \n",
        "        if N_Li >0: \n",
        "          print(\"Running Canonical MC at x=\",actual_x)\n",
        "          # Initialize MC ensemble\n",
        "          mc = CanonicalEnsemble(\n",
        "              structure=structure,\n",
        "              calculator=calculator,\n",
        "              temperature=temperature,\n",
        "              dc_filename='{}/NVT-T{}-x{}.dc'.format(output_directory, temperature,actual_x))\n",
        "\n",
        "          mc.run(number_of_trial_steps=  100000)\n",
        "          structure = mc.structure\n"
      ]
    },
    {
      "cell_type": "markdown",
      "metadata": {
        "id": "ojyYBhsHfCGc"
      },
      "source": [
        "### Next we can read in results from the Ice-T output files, compute average properties and collect them in a neat pandas data-frame. This will making plotting and manipulation of data more convinient."
      ]
    },
    {
      "cell_type": "code",
      "execution_count": null,
      "metadata": {
        "id": "fbbKiffZVrEK"
      },
      "outputs": [],
      "source": [
        "import pandas as pd\n",
        "from glob import glob\n",
        "from mchammer import DataContainer\n",
        "\n",
        "#Collect data from SGC\n",
        "data = []\n",
        "for filename in glob('monte_carlo_data/sgc-*.dc'):\n",
        "    dc = DataContainer.read(filename)\n",
        "    data_row = dc.ensemble_parameters\n",
        "    data_row['filename'] = filename\n",
        "    n_atoms = data_row['n_atoms']\n",
        "\n",
        "    equilibration = 1000\n",
        "\n",
        "    stats = dc.analyze_data('Li_count', start=equilibration)\n",
        "    data_row['Li_concentration'] = stats['mean'] / n_atoms\n",
        "    data_row['x']=data_row['Li_concentration']*7.\n",
        "    data_row['Li_concentration_error'] = stats['error_estimate'] / n_atoms\n",
        "\n",
        "    stats = dc.analyze_data('potential', start=equilibration)\n",
        "    data_row['mixing_energy'] = stats['mean'] / n_atoms\n",
        "    data_row['mixing_energy_error'] = stats['error_estimate'] / n_atoms\n",
        "\n",
        "    data_row['acceptance_ratio'] = \\\n",
        "        dc.get_average('acceptance_ratio', start=equilibration)\n",
        " \n",
        "    data_row['free_energy_derivative'] = \\\n",
        "        (dc.ensemble_parameters['mu_Li'] - \\\n",
        "        dc.ensemble_parameters['mu_X'])/7.\n",
        "\n",
        "    data.append(data_row)\n",
        "\n",
        "# Make pandas dataframe in csv format\n",
        "df_sgc = pd.DataFrame(data)\n",
        "\n",
        "\n",
        "#Collect data from NVT\n",
        "data = []\n",
        "for filename in glob('monte_carlo_data/NVT-*.dc'):\n",
        "    dc = DataContainer.read(filename)\n",
        "    data_row = dc.ensemble_parameters\n",
        "    data_row['filename'] = filename\n",
        "    n_atoms = data_row['n_atoms']\n",
        "    n_Li    = data_row['n_atoms_Li']\n",
        "    equilibration = 1000\n",
        "\n",
        "    data_row['x']= float(n_Li)/(float(n_atoms)/7.)\n",
        "\n",
        "    stats = dc.analyze_data('potential', start=equilibration)\n",
        "    data_row['mixing_energy'] = stats['mean'] / n_atoms\n",
        "    data_row['mixing_energy_error'] = stats['error_estimate'] / n_atoms\n",
        "\n",
        "    data_row['acceptance_ratio'] = \\\n",
        "        dc.get_average('acceptance_ratio', start=equilibration)\n",
        "\n",
        "\n",
        "    data.append(data_row)\n",
        "\n",
        "# step 2: Make pandas dataframe\n",
        "df_NVT = pd.DataFrame(data)\n",
        "\n",
        "#Calculate dG/dx\n",
        "dE=np.diff(df_NVT['mixing_energy']  +df_NVT['x']*E_LMO + (1-df_NVT['x'])*E_MO)\n",
        "x=df_NVT['x']\n",
        "dx=np.diff(x)\n",
        "\n",
        "dG = - (dE/dx - E_Li_metal)\n",
        "\n",
        "V_NVT = [[G,G] for G in dG]\n",
        "V_NVT = np.array(V_NVT).flatten()\n",
        "X_NVT = []\n",
        "for i in range(len(x)-1):\n",
        "    X_NVT.extend([x[i],x[i+1]])   \n"
      ]
    },
    {
      "cell_type": "markdown",
      "metadata": {
        "id": "BBieVFu7fCGc"
      },
      "source": [
        "### Plot the profiles"
      ]
    }
  ],
  "metadata": {
    "colab": {
      "provenance": [],
      "include_colab_link": true
    },
    "kernelspec": {
      "display_name": "Python 3",
      "name": "python3"
    },
    "language_info": {
      "codemirror_mode": {
        "name": "ipython",
        "version": 3
      },
      "file_extension": ".py",
      "mimetype": "text/x-python",
      "name": "python",
      "nbconvert_exporter": "python",
      "pygments_lexer": "ipython3",
      "version": "3.10.9"
    }
  },
  "nbformat": 4,
  "nbformat_minor": 0
}