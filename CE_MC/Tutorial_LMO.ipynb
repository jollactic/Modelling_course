{
  "cells": [
    {
      "attachments": {},
      "cell_type": "markdown",
      "metadata": {},
      "source": [
        "# Li intercalation in $LiMn_2O_4$ \n",
        "\n",
        "In this tutorial we will build a cluster expansion (CE) model for $LiMn_2O_4$ and try to compute a voltage profile. We use a data-set of DFT calculated energies to fit a cluster expansion model. We will use a code called Ice-T.\n",
        "\n",
        "Mn and O atoms makes up the host of this intercalation material. Li can be filled into vacant holes in the structure. When using a CE model we need to point out exactly where this positions are located in the strucutre. This is done by using a template strucutre where \"X\" marks the spot. Thus vacancies, \"X\", and lithium ions, \"Li\", are treated in the same way as two components of alloy. See Ag-Pd example from the Ice-T page: https://icet.materialsmodeling.org/background/index.html which also provide details of all the command used in this tutorial.\n",
        "\n",
        "\n",
        "\n"
      ]
    },
    {
      "attachments": {},
      "cell_type": "markdown",
      "metadata": {},
      "source": [
        "### The magic number 7!\n",
        "\n",
        "Often in these CE-codes everything is phrased in terms of atom concentrations rather than in terms of number of atoms. This means that we need to know the natural bounds of e.g. Li in the structure. Since Li makes up 1/7 of the atoms in the  formula $LiMn_2O_4$ (1+2+4=7) we need to normlize accordingly. Therefore the number 7 appear as a factor at some places in this example...\n",
        "\n"
      ]
    },
    {
      "attachments": {},
      "cell_type": "markdown",
      "metadata": {},
      "source": [
        "# 0. A rough estimate of the voltage profile"
      ]
    },
    {
      "attachments": {},
      "cell_type": "markdown",
      "metadata": {},
      "source": [
        "### Use the DFT energies provided below to make an estimate of the expected voltage profile from a battery using LMO as the intercalating material.\n",
        "\n",
        "Tip #1: Nearst equation...\n",
        "\n",
        "Tip #2: Faradays constant is 1 when the energy unit is eV!\n",
        "\n",
        "The DFT energies provided are the results of an geometry optimization where both the cell and coordinates of the atoms have been optimized.\n",
        "\n",
        "What important energy contributions are we neglecting when using these DFT energies?"
      ]
    },
    {
      "cell_type": "code",
      "execution_count": 6,
      "metadata": {
        "colab": {
          "base_uri": "https://localhost:8080/"
        },
        "id": "ZhDoQD-oG97I",
        "outputId": "9513d6af-de15-43e4-fe43-199148d51451"
      },
      "outputs": [
        {
          "ename": "ModuleNotFoundError",
          "evalue": "No module named 'py3Dmol'",
          "output_type": "error",
          "traceback": [
            "\u001b[1;31m---------------------------------------------------------------------------\u001b[0m",
            "\u001b[1;31mModuleNotFoundError\u001b[0m                       Traceback (most recent call last)",
            "Cell \u001b[1;32mIn[6], line 5\u001b[0m\n\u001b[0;32m      3\u001b[0m \u001b[39mfrom\u001b[39;00m \u001b[39mtrainstation\u001b[39;00m \u001b[39mimport\u001b[39;00m CrossValidationEstimator\n\u001b[0;32m      4\u001b[0m \u001b[39mfrom\u001b[39;00m \u001b[39mase\u001b[39;00m\u001b[39m.\u001b[39;00m\u001b[39mio\u001b[39;00m \u001b[39mimport\u001b[39;00m read\n\u001b[1;32m----> 5\u001b[0m \u001b[39mfrom\u001b[39;00m \u001b[39mhelper\u001b[39;00m \u001b[39mimport\u001b[39;00m show\n\u001b[0;32m      7\u001b[0m db \u001b[39m=\u001b[39m connect(\u001b[39m'\u001b[39m\u001b[39mDFT_norm.db\u001b[39m\u001b[39m'\u001b[39m)\n\u001b[0;32m      9\u001b[0m \u001b[39m# Some useful and importnant DFT reference energies\u001b[39;00m\n",
            "File \u001b[1;32mc:\\Users\\jolku587\\PGMS\\Modelling_course\\CE_MC\\helper.py:1\u001b[0m\n\u001b[1;32m----> 1\u001b[0m \u001b[39mimport\u001b[39;00m \u001b[39mpy3Dmol\u001b[39;00m\n\u001b[0;32m      2\u001b[0m \u001b[39mfrom\u001b[39;00m \u001b[39mase\u001b[39;00m\u001b[39m.\u001b[39;00m\u001b[39mio\u001b[39;00m \u001b[39mimport\u001b[39;00m read, write\n\u001b[0;32m      4\u001b[0m \u001b[39mdef\u001b[39;00m \u001b[39mshow\u001b[39m(atoms, size\u001b[39m=\u001b[39m(\u001b[39m300\u001b[39m, \u001b[39m300\u001b[39m), style\u001b[39m=\u001b[39m\u001b[39m\"\u001b[39m\u001b[39msphere\u001b[39m\u001b[39m\"\u001b[39m, surface\u001b[39m=\u001b[39m\u001b[39mFalse\u001b[39;00m, opacity\u001b[39m=\u001b[39m\u001b[39m0.5\u001b[39m):\n",
            "\u001b[1;31mModuleNotFoundError\u001b[0m: No module named 'py3Dmol'"
          ]
        }
      ],
      "source": [
        "from ase.db import connect\n",
        "from icet import ClusterSpace, StructureContainer, ClusterExpansion\n",
        "from trainstation import CrossValidationEstimator\n",
        "from ase.io import read\n",
        "from helper import show\n",
        "\n",
        "db = connect('DFT_norm.db')\n",
        "\n",
        "# Some useful and importnant DFT reference energies\n",
        "E_Li_metal=-1.9              # The energy for Li-metal (eV)\n",
        "E_MO  =   -.34377483E+03 /8. # The energy for a \"formula unit\" of the host material Mn2O4 (eV)\n",
        "E_LMO =   -.38704327E+03 /8. # The energy for a formula unit of the lithiated material LiMn2O4 (eV)\n",
        "\n",
        "OCV_ref=-(E_LMO-E_MO-E_Li_metal) "
      ]
    },
    {
      "attachments": {},
      "cell_type": "markdown",
      "metadata": {},
      "source": [
        "### Next we will consider a more realistic situation where the intercalation happens gradually, i.e. where we move (almost) continously from $Mn_2O_4$ to $LiMn_2O_4$\n",
        "\n",
        "In order to adress this we make use of an cluster expansion approach. You are provided a small data-base with precomputed DFT energies for a number of cases with varying Li content ($Li_xMn2O4$). These are generated from $2\\times 2 \\times2$ repetitions of the crystallografic $LiMn_2O_4$ cells. For each structure in the data-base, some Li atoms have been removed at random.\n",
        "\n",
        "The idea is now to fit a so-called cluster expansion model to reproduce the energies in the data-base. With a fitted model we can target much larger systems and explore the way that Li prefers to order on the lattice in a systematic way.\n"
      ]
    },
    {
      "attachments": {},
      "cell_type": "markdown",
      "metadata": {},
      "source": [
        "# 1. Fit the cluster expansion model"
      ]
    },
    {
      "cell_type": "code",
      "execution_count": 2,
      "metadata": {},
      "outputs": [
        {
          "name": "stdout",
          "output_type": "stream",
          "text": [
            "====================================== Cluster Space ======================================\n",
            " space group                            : Fd-3m (227)\n",
            " chemical species                       : ['Li', 'X'] (sublattice A)\n",
            " cutoffs                                : 8.0000 6.0000\n",
            " total number of parameters             : 8\n",
            " number of parameters by order          : 0= 1  1= 1  2= 3  3= 3\n",
            " fractional_position_tolerance          : 2e-06\n",
            " position_tolerance                     : 1e-05\n",
            " symprec                                : 1e-05\n",
            "-------------------------------------------------------------------------------------------\n",
            "index | order |  radius  | multiplicity | orbit_index | multicomponent_vector | sublattices\n",
            "-------------------------------------------------------------------------------------------\n",
            "   0  |   0   |   0.0000 |        1     |      -1     |           .           |      .     \n",
            "   1  |   1   |   0.0000 |        2     |       0     |          [0]          |      A     \n",
            "   2  |   2   |   1.8129 |        4     |       1     |        [0, 0]         |     A-A    \n",
            "   3  |   2   |   2.9604 |       12     |       2     |        [0, 0]         |     A-A    \n",
            "   4  |   2   |   3.4714 |       12     |       3     |        [0, 0]         |     A-A    \n",
            "   5  |   3   |   2.4929 |       12     |       4     |       [0, 0, 0]       |    A-A-A   \n",
            "   6  |   3   |   3.4184 |        8     |       5     |       [0, 0, 0]       |    A-A-A   \n",
            "   7  |   3   |   3.4184 |        8     |       6     |       [0, 0, 0]       |    A-A-A   \n",
            "===========================================================================================\n"
          ]
        },
        {
          "name": "stderr",
          "output_type": "stream",
          "text": [
            "Condition number is large, 9.084341427251765e+16\n",
            "Condition number is large, 5.614260467256199e+16\n",
            "Condition number is large, 3.6889405710552344e+16\n",
            "Condition number is large, 3.9385217970586e+16\n",
            "Condition number is large, 6.498596655741496e+16\n",
            "Condition number is large, 9.471555518640522e+16\n",
            "Condition number is large, 1.1219194310226484e+18\n",
            "Condition number is large, 2.2911433615154584e+16\n",
            "Condition number is large, 7.455833095555376e+16\n",
            "Condition number is large, 3.982982345034238e+16\n",
            "Condition number is large, 2.1922721444539812e+16\n"
          ]
        },
        {
          "name": "stdout",
          "output_type": "stream",
          "text": [
            "===================== Structure Container ======================\n",
            "Total number of structures: 74\n",
            "----------------------------------------------------------------\n",
            "index | user_tag | n_atoms | chemical formula | mixing_energy\n",
            "----------------------------------------------------------------\n",
            "0     | None     | 56      | Li8Mn16O32       |   -0.0000    \n",
            "1     | None     | 56      | Mn16O32X8        |    0.0000    \n",
            "2     | None     | 56      | Li6Mn16O32X2     |   -0.0550    \n",
            "3     | None     | 56      | Li6Mn16O32X2     |   -0.0895    \n",
            "4     | None     | 56      | Li6Mn16O32X2     |   -0.0550    \n",
            "5     | None     | 56      | Li6Mn16O32X2     |   -0.0548    \n",
            "6     | None     | 56      | Li6Mn16O32X2     |   -0.0895    \n",
            "7     | None     | 56      | Li6Mn16O32X2     |   -0.0895    \n",
            "8     | None     | 56      | Li6Mn16O32X2     |   -0.0550    \n",
            "9     | None     | 56      | Li6Mn16O32X2     |   -0.0550    \n",
            "10    | None     | 56      | Li6Mn16O32X2     |   -0.0895    \n",
            "11    | None     | 56      | Li6Mn16O32X2     |   -0.0525    \n",
            "12    | None     | 56      | Li7Mn16O32X      |   -0.0768    \n",
            "13    | None     | 56      | LiMn16O32X7      |   -0.0098    \n",
            "14    | None     | 56      | Li2Mn16O32X6     |   -0.0244    \n",
            "15    | None     | 56      | Li2Mn16O32X6     |   -0.0249    \n",
            "16    | None     | 56      | Li2Mn16O32X6     |   -0.0141    \n",
            "17    | None     | 56      | Li2Mn16O32X6     |   -0.0249    \n",
            "18    | None     | 56      | Li2Mn16O32X6     |   -0.0141    \n",
            "19    | None     | 56      | Li2Mn16O32X6     |   -0.0246    \n",
            "20    | None     | 56      | Li2Mn16O32X6     |   -0.0248    \n",
            "21    | None     | 56      | Li2Mn16O32X6     |   -0.0249    \n",
            "22    | None     | 56      | Li2Mn16O32X6     |   -0.0249    \n",
            "23    | None     | 56      | Li2Mn16O32X6     |   -0.0246    \n",
            "24    | None     | 56      | Li2Mn16O32X6     |   -0.0141    \n",
            "25    | None     | 56      | Li2Mn16O32X6     |   -0.0141    \n",
            "26    | None     | 56      | Li2Mn16O32X6     |   -0.0249    \n",
            "27    | None     | 56      | Li2Mn16O32X6     |   -0.0141    \n",
            "28    | None     | 56      | Li2Mn16O32X6     |   -0.0249    \n",
            "29    | None     | 56      | Li2Mn16O32X6     |   -0.0141    \n",
            "30    | None     | 56      | Li2Mn16O32X6     |   -0.0141    \n",
            "31    | None     | 56      | Li2Mn16O32X6     |   -0.0249    \n",
            "32    | None     | 56      | Li2Mn16O32X6     |   -0.0141    \n",
            "33    | None     | 56      | Li2Mn16O32X6     |   -0.0141    \n",
            "34    | None     | 56      | Li5Mn16O32X3     |   -0.1178    \n",
            "35    | None     | 56      | Li5Mn16O32X3     |   -0.1178    \n",
            "36    | None     | 56      | Li5Mn16O32X3     |   -0.0313    \n",
            "37    | None     | 56      | Li5Mn16O32X3     |   -0.1178    \n",
            "38    | None     | 56      | Li5Mn16O32X3     |   -0.0313    \n",
            "39    | None     | 56      | Li5Mn16O32X3     |   -0.1178    \n",
            "40    | None     | 56      | Li5Mn16O32X3     |   -0.1178    \n",
            "41    | None     | 56      | Li5Mn16O32X3     |   -0.0313    \n",
            "42    | None     | 56      | Li5Mn16O32X3     |   -0.0731    \n",
            "43    | None     | 56      | Li5Mn16O32X3     |   -0.1178    \n",
            "44    | None     | 56      | Li5Mn16O32X3     |   -0.0731    \n",
            "45    | None     | 56      | Li5Mn16O32X3     |   -0.1178    \n",
            "46    | None     | 56      | Li5Mn16O32X3     |   -0.1178    \n",
            "47    | None     | 56      | Li5Mn16O32X3     |   -0.1178    \n",
            "48    | None     | 56      | Li5Mn16O32X3     |   -0.1178    \n",
            " ...\n",
            "73    | None     | 56      | Li4Mn16O32X4     |   -0.0426    \n",
            "================================================================\n",
            "============== CrossValidationEstimator ==============\n",
            "seed                           : 42\n",
            "fit_method                     : ardr\n",
            "standardize                    : True\n",
            "n_target_values                : 74\n",
            "n_parameters                   : 8\n",
            "n_nonzero_parameters           : 8\n",
            "parameters_norm                : 0.1207658\n",
            "target_values_std              : 0.03827488\n",
            "rmse_train                     : 0.01547155\n",
            "R2_train                       : 0.8355024\n",
            "AIC                            : -600.4779\n",
            "BIC                            : -582.0454\n",
            "validation_method              : k-fold\n",
            "n_splits                       : 10\n",
            "rmse_train_final               : 0.01552364\n",
            "rmse_validation                : 0.01584458\n",
            "R2_validation                  : 0.7542191\n",
            "shuffle                        : True\n",
            "======================================================\n",
            "================================================ Cluster Expansion ================================================\n",
            " space group                            : Fd-3m (227)\n",
            " chemical species                       : ['Li', 'X'] (sublattice A)\n",
            " cutoffs                                : 8.0000 6.0000\n",
            " total number of parameters             : 8\n",
            " number of parameters by order          : 0= 1  1= 1  2= 3  3= 3\n",
            " fractional_position_tolerance          : 2e-06\n",
            " position_tolerance                     : 1e-05\n",
            " symprec                                : 1e-05\n",
            " total number of nonzero parameters     : 8\n",
            " number of nonzero parameters by order  : 0= 1  1= 1  2= 3  3= 3 \n",
            "-------------------------------------------------------------------------------------------------------------------\n",
            "index | order |  radius  | multiplicity | orbit_index | multicomponent_vector | sublattices | parameter |    ECI   \n",
            "-------------------------------------------------------------------------------------------------------------------\n",
            "   0  |   0   |   0.0000 |        1     |      -1     |           .           |      .      |   -0.0607 |   -0.0607\n",
            "   1  |   1   |   0.0000 |        2     |       0     |          [0]          |      A      |   -0.0602 |   -0.0301\n",
            "   2  |   2   |   1.8129 |        4     |       1     |        [0, 0]         |     A-A     |  -0.00768 |  -0.00192\n",
            "   3  |   2   |   2.9604 |       12     |       2     |        [0, 0]         |     A-A     |    0.0723 |   0.00603\n",
            "   4  |   2   |   3.4714 |       12     |       3     |        [0, 0]         |     A-A     |  -0.00768 |  -0.00064\n",
            "   5  |   3   |   2.4929 |       12     |       4     |       [0, 0, 0]       |    A-A-A    |    0.0404 |   0.00337\n",
            "   6  |   3   |   3.4184 |        8     |       5     |       [0, 0, 0]       |    A-A-A    |    0.0121 |   0.00151\n",
            "   7  |   3   |   3.4184 |        8     |       6     |       [0, 0, 0]       |    A-A-A    |    0.0121 |   0.00151\n",
            "===================================================================================================================\n"
          ]
        }
      ],
      "source": [
        "# step 1: Basic setup\n",
        "\n",
        "primitive_structure = read(\"template.POSCAR\") # This is the template structure describing the lattice\n",
        "# If you recall how to, you can visualize it! \n",
        "\n",
        "chemical_symbols=[]\n",
        "for c in primitive_structure.symbols:\n",
        "    if c == \"Li\" or c == \"X\":\n",
        "        c= [\"Li\",\"X\"]\n",
        "    else:\n",
        "        c=[c]\n",
        "    chemical_symbols.append(c)\n",
        "    \n",
        "# step 2: Set up the basic structure and a cluster space\n",
        "# Setting reasonable values in the cuttofs is the key to get a good model... \n",
        "cs = ClusterSpace(structure=primitive_structure,\n",
        "                  cutoffs=[8.0,6.0],\n",
        "                  chemical_symbols=chemical_symbols)\n",
        "print(cs)\n",
        "\n",
        "# step 3: Parse the input structures and set up a structure container\n",
        "sc = StructureContainer(cluster_space=cs)\n",
        "for row in db.select():\n",
        "    sc.add_structure(structure=row.toatoms(),\n",
        "                     properties={'mixing_energy': row.mixing_energy})\n",
        "print(sc)\n",
        "\n",
        "# step 4: Train parameters\n",
        "opt = CrossValidationEstimator(fit_data=sc.get_fit_data(key='mixing_energy'),fit_method='ardr')\n",
        "opt.validate()\n",
        "opt.train()\n",
        "print(opt)\n",
        "\n",
        "# step 5: Construct cluster expansion and write it to file\n",
        "ce = ClusterExpansion(cluster_space=cs, parameters=opt.parameters, metadata=opt.summary)\n",
        "print(ce)\n",
        "ce.write('mixing_energy.ce')"
      ]
    },
    {
      "attachments": {},
      "cell_type": "markdown",
      "metadata": {},
      "source": [
        "### The quality of the fitted cluster expansion parameters can be checked comparing energies predicted with the CE-model and those computed with DFT."
      ]
    },
    {
      "attachments": {},
      "cell_type": "markdown",
      "metadata": {},
      "source": [
        "### "
      ]
    },
    {
      "cell_type": "code",
      "execution_count": 3,
      "metadata": {},
      "outputs": [
        {
          "data": {
            "text/plain": [
              "<matplotlib.legend.Legend at 0x232b5be90f0>"
            ]
          },
          "execution_count": 3,
          "metadata": {},
          "output_type": "execute_result"
        },
        {
          "data": {
            "image/png": "[encoded data removed]",
            "text/plain": [
              "<Figure size 800x600 with 1 Axes>"
            ]
          },
          "metadata": {},
          "output_type": "display_data"
        }
      ],
      "source": [
        "import matplotlib.pyplot as plt\n",
        "from ase.db import connect\n",
        "from icet import ClusterExpansion\n",
        "\n",
        "# step 1: Compile predicted and reference data for plotting\n",
        "ce = ClusterExpansion.read('mixing_energy.ce')\n",
        "data = {'x': [], 'reference_energy': [], 'predicted_energy': []}\n",
        "for row in db.select():\n",
        "    data['reference_energy'].append(row.mixing_energy)\n",
        "    data['predicted_energy'].append(ce.predict(row.toatoms()))\n",
        "    aa=row.toatoms()\n",
        "    N=len(aa)\n",
        "    mask= aa.symbols == \"Li\"\n",
        "    N_Li= len(aa[mask])\n",
        "    data['x'].append(N_Li*7.0/N)\n",
        "# step 2: Plot results\n",
        "fig, ax = plt.subplots(figsize=(8, 6))\n",
        "ax.set_xlabel(r'x in Li$_x$Mn$_2$O$_4$')\n",
        "ax.set_ylabel(r'Mixing energy (meV/atom)')\n",
        "ax.set_xlim([0, 1])\n",
        "ax.scatter(data['x'], data['reference_energy'],\n",
        "           marker='o', label='reference')\n",
        "ax.scatter(data['x'], data['predicted_energy'],\n",
        "           marker='x', label='CE prediction')\n",
        "ax.legend()"
      ]
    },
    {
      "cell_type": "markdown",
      "metadata": {},
      "source": [
        "### We can inspect the CE coefficients in the following plot."
      ]
    },
    {
      "cell_type": "code",
      "execution_count": 4,
      "metadata": {
        "colab": {
          "base_uri": "https://localhost:8080/",
          "height": 393
        },
        "id": "z6GX7ahwIjNA",
        "outputId": "fa82b882-728d-4a24-92fe-d19cea641ba3"
      },
      "outputs": [
        {
          "data": {
            "image/png": "[encoded data removed]",
            "text/plain": [
              "<Figure size 1200x600 with 3 Axes>"
            ]
          },
          "metadata": {},
          "output_type": "display_data"
        }
      ],
      "source": [
        "import matplotlib.pyplot as plt\n",
        "from icet import ClusterExpansion\n",
        "import numpy as np\n",
        "\n",
        "# step 1: Collect ECIs in dictionary\n",
        "ce = ClusterExpansion.read('mixing_energy.ce')\n",
        "df_ecis = ce.to_dataframe()\n",
        "\n",
        "# step 2: Plot ECIs\n",
        "fig, axs = plt.subplots(1, 3, sharey=True, figsize=(12, 6))\n",
        "for k, order in enumerate(ce.orders):\n",
        "    df_order = df_ecis.loc[df_ecis['order'] == order]\n",
        "    if k < 2 or k > 4:\n",
        "        continue\n",
        "    ax = axs[k - 2]\n",
        "    #ax.set_ylim((-1, 8))\n",
        "    ax.set_xlabel(r'Cluster radius (Å)')\n",
        "    ax.text(0.05, 0.55, 'zerolet: {:.1f} meV'\n",
        "            .format(1e3 * df_ecis.eci.iloc[0]),\n",
        "            transform=ax.transAxes)\n",
        "    ax.text(0.05, 0.45, 'singlet: {:.1f} meV'\n",
        "            .format(1e3 * df_ecis.eci.iloc[1]),\n",
        "            transform=ax.transAxes)\n",
        "    ax.plot([0, 5], [0, 0], color='black')\n",
        "    ax.bar(df_order.radius, 1e3 * df_order.eci, width=0.05)\n",
        "    ax.scatter(df_order.radius, len(df_order) * [-0.7],\n",
        "               marker='o', s=2.0)\n",
        "    ax.text(0.05, 0.91, 'order: {}'.format(order),\n",
        "            transform=ax.transAxes)\n",
        "    ax.text(0.05, 0.81, '#parameters: {}'.format(len(df_order)),\n",
        "            transform=ax.transAxes,)\n",
        "    ax.text(0.05, 0.71, '#non-zero params: {}'\n",
        "            .format(np.count_nonzero(df_order.eci)),\n",
        "            transform=ax.transAxes,)\n",
        "#plt.savefig('ecis.png', bbox_inches='tight')"
      ]
    },
    {
      "attachments": {},
      "cell_type": "markdown",
      "metadata": {},
      "source": [
        "# 2. Generate new strucutres\n",
        "### We can use the CE model to generate much more structures, mote than we could ever afford to do with DFT.\n",
        "\n",
        "The `enumerate_structures` function systematically generates structures by filling in the ['X','Li'] sublattice \"combinatoriacally\"."
      ]
    },
    {
      "cell_type": "code",
      "execution_count": 5,
      "metadata": {},
      "outputs": [
        {
          "ename": "KeyboardInterrupt",
          "evalue": "",
          "output_type": "error",
          "traceback": [
            "\u001b[1;31m---------------------------------------------------------------------------\u001b[0m",
            "\u001b[1;31mKeyboardInterrupt\u001b[0m                         Traceback (most recent call last)",
            "Cell \u001b[1;32mIn[5], line 14\u001b[0m\n\u001b[0;32m     12\u001b[0m chemical_symbols \u001b[39m=\u001b[39m cluster_space\u001b[39m.\u001b[39mchemical_symbols\n\u001b[0;32m     13\u001b[0m primitive_structure \u001b[39m=\u001b[39m cluster_space\u001b[39m.\u001b[39mprimitive_structure\n\u001b[1;32m---> 14\u001b[0m \u001b[39mfor\u001b[39;00m structure \u001b[39min\u001b[39;00m enumerate_structures(structure\u001b[39m=\u001b[39mprimitive_structure,\n\u001b[0;32m     15\u001b[0m                                       sizes\u001b[39m=\u001b[39m\u001b[39mrange\u001b[39m(\u001b[39m1\u001b[39m,\u001b[39m8\u001b[39m),\n\u001b[0;32m     16\u001b[0m                                       chemical_symbols\u001b[39m=\u001b[39mchemical_symbols):\n\u001b[0;32m     17\u001b[0m     conc \u001b[39m=\u001b[39m structure\u001b[39m.\u001b[39mget_chemical_symbols()\u001b[39m.\u001b[39mcount(\u001b[39m'\u001b[39m\u001b[39mLi\u001b[39m\u001b[39m'\u001b[39m) \u001b[39m/\u001b[39m \u001b[39mlen\u001b[39m(structure)\n\u001b[0;32m     18\u001b[0m     data[\u001b[39m'\u001b[39m\u001b[39mconcentration\u001b[39m\u001b[39m'\u001b[39m]\u001b[39m.\u001b[39mappend(conc)\n",
            "File \u001b[1;32mc:\\Users\\jolku587\\Anaconda3\\envs\\CCS_coding\\lib\\site-packages\\icet\\tools\\structure_enumeration.py:498\u001b[0m, in \u001b[0;36menumerate_structures\u001b[1;34m(structure, sizes, chemical_symbols, concentration_restrictions, niggli_reduce, symprec, position_tolerance)\u001b[0m\n\u001b[0;32m    495\u001b[0m     new_cell \u001b[39m=\u001b[39m np\u001b[39m.\u001b[39mdot(hnf\u001b[39m.\u001b[39mH\u001b[39m.\u001b[39mT, structure\u001b[39m.\u001b[39mcell)\n\u001b[0;32m    496\u001b[0m \u001b[39mfor\u001b[39;00m labeling \u001b[39min\u001b[39;00m _yield_unique_labelings(labelings, snf, hnf,\n\u001b[0;32m    497\u001b[0m                                         nsites):\n\u001b[1;32m--> 498\u001b[0m     \u001b[39myield\u001b[39;00m _labeling_to_ase_atoms(labeling, hnf,\n\u001b[0;32m    499\u001b[0m                                  structure\u001b[39m.\u001b[39;49mcell, new_cell,\n\u001b[0;32m    500\u001b[0m                                  basis, elements,\n\u001b[0;32m    501\u001b[0m                                  structure\u001b[39m.\u001b[39;49mpbc)\n",
            "File \u001b[1;32mc:\\Users\\jolku587\\Anaconda3\\envs\\CCS_coding\\lib\\site-packages\\icet\\tools\\structure_enumeration.py:256\u001b[0m, in \u001b[0;36m_labeling_to_ase_atoms\u001b[1;34m(labeling, hnf, cell, new_cell, basis, chemical_symbols, pbc)\u001b[0m\n\u001b[0;32m    253\u001b[0m                 ind \u001b[39m=\u001b[39m \u001b[39mlen\u001b[39m(basis) \u001b[39m*\u001b[39m (g[\u001b[39m0\u001b[39m] \u001b[39m*\u001b[39m hnf\u001b[39m.\u001b[39msnf\u001b[39m.\u001b[39mS[\u001b[39m1\u001b[39m] \u001b[39m*\u001b[39m hnf\u001b[39m.\u001b[39msnf\u001b[39m.\u001b[39mS[\u001b[39m2\u001b[39m] \u001b[39m+\u001b[39m\n\u001b[0;32m    254\u001b[0m                                     g[\u001b[39m1\u001b[39m] \u001b[39m*\u001b[39m hnf\u001b[39m.\u001b[39msnf\u001b[39m.\u001b[39mS[\u001b[39m2\u001b[39m] \u001b[39m+\u001b[39m g[\u001b[39m2\u001b[39m]) \u001b[39m+\u001b[39m basis_vector_i\n\u001b[0;32m    255\u001b[0m                 symbols\u001b[39m.\u001b[39mappend(chemical_symbols[labeling[ind]])\n\u001b[1;32m--> 256\u001b[0m structure \u001b[39m=\u001b[39m Atoms(symbols, positions, cell\u001b[39m=\u001b[39;49mnew_cell, pbc\u001b[39m=\u001b[39;49m(\u001b[39mTrue\u001b[39;49;00m, \u001b[39mTrue\u001b[39;49;00m, \u001b[39mTrue\u001b[39;49;00m))\n\u001b[0;32m    257\u001b[0m structure\u001b[39m.\u001b[39mwrap()\n\u001b[0;32m    258\u001b[0m structure\u001b[39m.\u001b[39mpbc \u001b[39m=\u001b[39m pbc\n",
            "File \u001b[1;32mc:\\Users\\jolku587\\Anaconda3\\envs\\CCS_coding\\lib\\site-packages\\ase\\atoms.py:231\u001b[0m, in \u001b[0;36mAtoms.__init__\u001b[1;34m(self, symbols, positions, numbers, tags, momenta, masses, magmoms, charges, scaled_positions, cell, pbc, celldisp, constraint, calculator, info, velocities)\u001b[0m\n\u001b[0;32m    228\u001b[0m     \u001b[39mif\u001b[39;00m scaled_positions \u001b[39mis\u001b[39;00m \u001b[39mnot\u001b[39;00m \u001b[39mNone\u001b[39;00m:\n\u001b[0;32m    229\u001b[0m         \u001b[39mraise\u001b[39;00m \u001b[39mTypeError\u001b[39;00m(\n\u001b[0;32m    230\u001b[0m             \u001b[39m'\u001b[39m\u001b[39mUse only one of \u001b[39m\u001b[39m\"\u001b[39m\u001b[39msymbols\u001b[39m\u001b[39m\"\u001b[39m\u001b[39m and \u001b[39m\u001b[39m\"\u001b[39m\u001b[39mnumbers\u001b[39m\u001b[39m\"\u001b[39m\u001b[39m.\u001b[39m\u001b[39m'\u001b[39m)\n\u001b[1;32m--> 231\u001b[0m \u001b[39mself\u001b[39;49m\u001b[39m.\u001b[39;49mnew_array(\u001b[39m'\u001b[39;49m\u001b[39mpositions\u001b[39;49m\u001b[39m'\u001b[39;49m, positions, \u001b[39mfloat\u001b[39;49m, (\u001b[39m3\u001b[39;49m,))\n\u001b[0;32m    233\u001b[0m \u001b[39mself\u001b[39m\u001b[39m.\u001b[39mset_constraint(constraint)\n\u001b[0;32m    234\u001b[0m \u001b[39mself\u001b[39m\u001b[39m.\u001b[39mset_tags(default(tags, \u001b[39m0\u001b[39m))\n",
            "File \u001b[1;32mc:\\Users\\jolku587\\Anaconda3\\envs\\CCS_coding\\lib\\site-packages\\ase\\atoms.py:456\u001b[0m, in \u001b[0;36mAtoms.new_array\u001b[1;34m(self, name, a, dtype, shape)\u001b[0m\n\u001b[0;32m    451\u001b[0m \u001b[39m\"\"\"Add new array.\u001b[39;00m\n\u001b[0;32m    452\u001b[0m \n\u001b[0;32m    453\u001b[0m \u001b[39mIf *shape* is not *None*, the shape of *a* will be checked.\"\"\"\u001b[39;00m\n\u001b[0;32m    455\u001b[0m \u001b[39mif\u001b[39;00m dtype \u001b[39mis\u001b[39;00m \u001b[39mnot\u001b[39;00m \u001b[39mNone\u001b[39;00m:\n\u001b[1;32m--> 456\u001b[0m     a \u001b[39m=\u001b[39m np\u001b[39m.\u001b[39;49marray(a, dtype, order\u001b[39m=\u001b[39;49m\u001b[39m'\u001b[39;49m\u001b[39mC\u001b[39;49m\u001b[39m'\u001b[39;49m)\n\u001b[0;32m    457\u001b[0m     \u001b[39mif\u001b[39;00m \u001b[39mlen\u001b[39m(a) \u001b[39m==\u001b[39m \u001b[39m0\u001b[39m \u001b[39mand\u001b[39;00m shape \u001b[39mis\u001b[39;00m \u001b[39mnot\u001b[39;00m \u001b[39mNone\u001b[39;00m:\n\u001b[0;32m    458\u001b[0m         a\u001b[39m.\u001b[39mshape \u001b[39m=\u001b[39m (\u001b[39m-\u001b[39m\u001b[39m1\u001b[39m,) \u001b[39m+\u001b[39m shape\n",
            "\u001b[1;31mKeyboardInterrupt\u001b[0m: "
          ]
        }
      ],
      "source": [
        "import matplotlib.pyplot as plt\n",
        "from numpy import array\n",
        "from icet import ClusterExpansion\n",
        "from icet.tools import ConvexHull, enumerate_structures\n",
        "\n",
        "# step 1: Predict energies for enumerated structures\n",
        "ce = ClusterExpansion.read('mixing_energy.ce')\n",
        "species = ['Li', 'X','Mn','O']\n",
        "data = {'concentration': [], 'mixing_energy': [],'x':[]}\n",
        "structures = []\n",
        "cluster_space = ce.get_cluster_space_copy()\n",
        "chemical_symbols = cluster_space.chemical_symbols\n",
        "primitive_structure = cluster_space.primitive_structure\n",
        "for structure in enumerate_structures(structure=primitive_structure,\n",
        "                                      sizes=range(1,8),\n",
        "                                      chemical_symbols=chemical_symbols):\n",
        "    conc = structure.get_chemical_symbols().count('Li') / len(structure)\n",
        "    data['concentration'].append(conc)\n",
        "    data['x'].append(conc*7.0)\n",
        "    data['mixing_energy'].append(ce.predict(structure)) \n",
        "    structures.append(structure)\n",
        "print('Predicted energies for {} structures'.format(len(structures)))\n",
        "\n",
        "# step 2: Construct convex hull\n",
        "hull = ConvexHull(data['x'], data['mixing_energy'])\n",
        "\n",
        "# step 3: Plot the results\n",
        "fig, ax = plt.subplots(figsize=(4, 3))\n",
        "ax.set_xlabel(r'x in Li$_x$Mn$_2$O$_4$')\n",
        "ax.set_ylabel(r'Mixing energy (eV/atom)')\n",
        "ax.scatter(data['x'], array(data['mixing_energy']),\n",
        "           marker='x')\n",
        "ax.plot(hull.concentrations,  hull.energies, '-o', color='green')\n",
        "plt.show()\n",
        "\n",
        "# step 4: Extract candidate ground state structures\n",
        "tol = 0.0005\n",
        "low_energy_structures = hull.extract_low_energy_structures(\n",
        "    data['x'], data['mixing_energy'], tol)\n",
        "print('Found {} structures within {} meV/atom of the convex hull'.\n",
        "      format(len(low_energy_structures), 1e3 * tol))"
      ]
    },
    {
      "attachments": {},
      "cell_type": "markdown",
      "metadata": {},
      "source": [
        "# 3. An improved voltage profile \n",
        "### hull.concentrations and  hull.energies (shown by the green curve in the plot above) can be used to estimate a voltage profile.\n",
        "\n",
        "The slope can be seen as an approximation to $\\Delta G$..."
      ]
    },
    {
      "cell_type": "code",
      "execution_count": null,
      "metadata": {},
      "outputs": [
        {
          "name": "stdout",
          "output_type": "stream",
          "text": [
            "[3.6621274  3.66150862 3.55237919 3.38219111 3.00363083]\n"
          ]
        }
      ],
      "source": [
        "E_Li_metal=-1.9\n",
        "x=hull.concentrations\n",
        "\n",
        "dE=np.diff(hull.energies  +x*E_LMO + (1-x)*E_MO)\n",
        "dx=np.diff(hull.concentrations)\n",
        "\n",
        "dG = - (dE/dx - E_Li_metal)\n",
        "\n",
        "print(dG)\n",
        "\n",
        "V = [[G,G] for G in dG]\n",
        "V = np.array(V).flatten()\n",
        "X = []\n",
        "for i in range(len(x)-1):\n",
        "    X.extend([x[i],x[i+1]])   \n",
        "\n",
        "plt.plot(X,V)\n",
        "plt.plot([0,1],[OCV_ref,OCV_ref])"
      ]
    },
    {
      "attachments": {},
      "cell_type": "markdown",
      "metadata": {},
      "source": [
        "# 4. Performing Monte-Carlo simulations\n",
        "\n",
        "With Monte-Carlo simulation we can introduce temperature to the mix!"
      ]
    },
    {
      "cell_type": "code",
      "execution_count": null,
      "metadata": {
        "colab": {
          "base_uri": "https://localhost:8080/"
        },
        "id": "3h03MhRoVjz2",
        "outputId": "ea26b5f0-7599-4f9a-dc78-bfab17364afb"
      },
      "outputs": [],
      "source": [
        "from ase.build import make_supercell\n",
        "from icet import ClusterExpansion\n",
        "from mchammer.calculators import ClusterExpansionCalculator\n",
        "from mchammer.ensembles import SemiGrandCanonicalEnsemble\n",
        "import numpy as np\n",
        "from os import mkdir\n",
        "\n",
        "# step 1: Set up structure to simulate as well as calculator\n",
        "ce = ClusterExpansion.read('mixing_energy.ce')\n",
        "structure = make_supercell(ce.get_cluster_space_copy().primitive_structure,\n",
        "                           4 * np.array([[-1, 1, 1],\n",
        "                                         [1, -1, 1],\n",
        "                                         [1, 1, -1]]))\n",
        "calculator = ClusterExpansionCalculator(structure, ce)\n",
        "\n",
        "# step 2: Carry out Monte Carlo simulations\n",
        "# Make sure output directory exists\n",
        "output_directory = 'monte_carlo_data'\n",
        "try:\n",
        "    mkdir(output_directory)\n",
        "except FileExistsError:\n",
        "    pass\n",
        "for temperature in [300]:\n",
        "    # We can calculate the average Li content as a function of Li chemical potential\n",
        "    for dmu in np.arange(-4.0 , +1.0, 0.1):\n",
        "        # Initialize MC ensemble\n",
        "        mc = SemiGrandCanonicalEnsemble(\n",
        "            structure=structure,\n",
        "            calculator=calculator,\n",
        "            temperature=temperature,\n",
        "            dc_filename='{}/sgc-T{}-dmu{:+.3f}.dc'.format(output_directory, temperature, dmu),\n",
        "            chemical_potentials={'X': 0, 'Li': dmu})\n",
        "\n",
        "        mc.run(number_of_trial_steps=  100000)\n",
        "        structure = mc.structure\n",
        "\n"
      ]
    },
    {
      "attachments": {},
      "cell_type": "markdown",
      "metadata": {},
      "source": [
        "### Read in results from the Ice-T output files and collect it in a neat pandas data-frame. This will making plotting and manipulation of data more convinient."
      ]
    },
    {
      "cell_type": "code",
      "execution_count": null,
      "metadata": {
        "id": "fbbKiffZVrEK"
      },
      "outputs": [],
      "source": [
        "import pandas as pd\n",
        "from glob import glob\n",
        "from mchammer import DataContainer\n",
        "\n",
        "# step 1: Collect data from SGC\n",
        "for ensemble in ['sgc']:\n",
        "    data = []\n",
        "    for filename in glob('monte_carlo_data/{}-*.dc'.format(ensemble)):\n",
        "        dc = DataContainer.read(filename)\n",
        "        data_row = dc.ensemble_parameters\n",
        "        data_row['filename'] = filename\n",
        "        n_atoms = data_row['n_atoms']\n",
        "\n",
        "        equilibration = 1000\n",
        "\n",
        "        stats = dc.analyze_data('Li_count', start=equilibration)\n",
        "        data_row['Li_concentration'] = stats['mean'] / n_atoms\n",
        "        data_row['Li_concentration_error'] = stats['error_estimate'] / n_atoms\n",
        "\n",
        "        stats = dc.analyze_data('potential', start=equilibration)\n",
        "        data_row['mixing_energy'] = stats['mean'] / n_atoms\n",
        "        data_row['mixing_energy_error'] = stats['error_estimate'] / n_atoms\n",
        "\n",
        "        data_row['acceptance_ratio'] = \\\n",
        "            dc.get_average('acceptance_ratio', start=equilibration)\n",
        "        if ensemble == 'sgc':\n",
        "            data_row['free_energy_derivative'] = \\\n",
        "                dc.ensemble_parameters['mu_Li'] - \\\n",
        "                dc.ensemble_parameters['mu_X']\n",
        "\n",
        "        data.append(data_row)\n",
        "\n",
        "    # step 2: Write data to pandas dataframe in csv format\n",
        "    df = pd.DataFrame(data)\n",
        "    df.to_csv('monte-carlo-{}.csv'.format(ensemble), sep='\\t')"
      ]
    },
    {
      "attachments": {},
      "cell_type": "markdown",
      "metadata": {},
      "source": [
        "### Plot the profile"
      ]
    },
    {
      "cell_type": "code",
      "execution_count": null,
      "metadata": {},
      "outputs": [
        {
          "data": {
            "image/png": "[encoded data removed]",
            "text/plain": [
              "<Figure size 640x480 with 1 Axes>"
            ]
          },
          "metadata": {},
          "output_type": "display_data"
        }
      ],
      "source": [
        "import seaborn as sns\n",
        "E_Li_metal=-1.9\n",
        "\n",
        "df[\"x\"]  = df[\"Li_concentration\"]*7.\n",
        "df[\"OCV\"]= -(df[\"free_energy_derivative\"]/7.-OCV_ref)\n",
        "\n",
        "sns.scatterplot(data=df,x=\"x\",y=\"OCV\",hue=\"temperature\")\n",
        "#plt.ylim(3.2,3.8)\n",
        "plt.plot(X,V)\n",
        "plt.plot([0,1],[OCV_ref,OCV_ref])\n",
        "plt.show()"
      ]
    },
    {
      "cell_type": "code",
      "execution_count": null,
      "metadata": {},
      "outputs": [],
      "source": [
        "import seaborn as sns\n",
        "\n",
        "sns.scatterplot(data=df,x=\"x\",y=\"acceptance_ratio\",hue=\"temperature\")\n",
        "#plt.ylim(3.2,3.8)\n",
        "plt.show()\n"
      ]
    }
  ],
  "metadata": {
    "colab": {
      "provenance": []
    },
    "kernelspec": {
      "display_name": "Python 3",
      "name": "python3"
    },
    "language_info": {
      "codemirror_mode": {
        "name": "ipython",
        "version": 3
      },
      "file_extension": ".py",
      "mimetype": "text/x-python",
      "name": "python",
      "nbconvert_exporter": "python",
      "pygments_lexer": "ipython3",
      "version": "3.10.9"
    }
  },
  "nbformat": 4,
  "nbformat_minor": 0
}
