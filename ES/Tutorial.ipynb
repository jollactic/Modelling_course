{
  "nbformat": 4,
  "nbformat_minor": 0,
  "metadata": {
    "colab": {
      "provenance": []
    },
    "kernelspec": {
      "name": "python3",
      "display_name": "Python 3"
    },
    "language_info": {
      "name": "python"
    }
  },
  "cells": [
    {
      "cell_type": "code",
      "execution_count": null,
      "metadata": {
        "id": "kUeHvvOg1rnC",
        "colab": {
          "base_uri": "https://localhost:8080/"
        },
        "outputId": "2f0eb9c3-2c36-4eee-a93a-301fea7f5933"
      },
      "outputs": [
        {
          "output_type": "stream",
          "name": "stdout",
          "text": [
            "⏬ Downloading https://github.com/jaimergp/miniforge/releases/latest/download/Mambaforge-colab-Linux-x86_64.sh...\n",
            "📦 Installing...\n",
            "📌 Adjusting configuration...\n",
            "🩹 Patching environment...\n",
            "⏲ Done in 0:00:21\n",
            "🔁 Restarting kernel...\n"
          ]
        }
      ],
      "source": [
        "#@title Create environment and install required software\n",
        "# Conda is uninstalled every time you rehash yuor environment... \n",
        "#!conda --version\n",
        "#If !conda --version returns no results, install conda with :\n",
        "!pip install -q condacolab\n",
        "import condacolab\n",
        "condacolab.install()"
      ]
    },
    {
      "cell_type": "code",
      "source": [
        "#@title Downloading parameter sets\n",
        "%%capture\n",
        "!wget https://dftb.org/fileadmin/DFTB/public/slako/auorg/auorg-1-1.tar.xz\n",
        "!wget https://dftb.org/fileadmin/DFTB/public/slako/auorg/wfc.auorg-1-1.hsd\n",
        "!wget https://dftb.org/fileadmin/DFTB/public/slako/mio/mio-1-1.tar.xz\n",
        "!wget https://dftb.org/fileadmin/DFTB/public/slako/mio/wfc.mio-1-1.hsd\n",
        "!wget https://dftb.org/fileadmin/DFTB/public/slako/siband/siband-1-1.tar.xz\n",
        "!wget https://dftb.org/fileadmin/DFTB/public/slako/siband/wfc.siband-1-1.hsd\n",
        "!wget https://dftb.org/fileadmin/DFTB/public/slako/tiorg/tiorg-0-1.tar.xz\n",
        "!wget https://dftb.org/fileadmin/DFTB/public/slako/tiorg/wfc.tiorg-0-1.hsd"
      ],
      "metadata": {
        "id": "3pJjhT90WNW2"
      },
      "execution_count": null,
      "outputs": []
    },
    {
      "cell_type": "code",
      "source": [
        "#@title Unpacking the parameter sets\n",
        "!conda install -c conda-forge xz\n",
        "!xz -d -v auorg-1-1.tar.xz\n",
        "!xz -d -v mio-1-1.tar.xz\n",
        "!xz -d -v siband-1-1.tar.xz\n",
        "!xz -d -v tiorg-0-1.tar.xz\n",
        "!tar xf auorg-1-1.tar\n",
        "!tar xf mio-1-1.tar\n",
        "!tar xf siband-1-1.tar\n",
        "!tar xf tiorg-0-1.tar"
      ],
      "metadata": {
        "id": "TQgiZfRONS3k"
      },
      "execution_count": null,
      "outputs": []
    },
    {
      "cell_type": "code",
      "source": [
        "#@title even more installations...\n",
        "%%capture\n",
        "!conda install -c conda-forge mamba dftbplus \n",
        "!conda install -c conda-forge dftbplus-tools\n",
        "!conda install -c conda-forge ase\n",
        "!conda install -c conda-forge py3dmol\n"
      ],
      "metadata": {
        "id": "h7Jd7VKs1zR0"
      },
      "execution_count": null,
      "outputs": []
    },
    {
      "cell_type": "markdown",
      "source": [
        "# THE FUN STARTS HERE!\n",
        "# SETTING UP A DFTB+ CALCULATION\n",
        "\n",
        "First we have a look at the main input file for dftb+ the `dftb_in.hsd` file. A complete documention of all key-words and features can be found here: https://dftbplus.org/documentation\n",
        "\n",
        "In the box below we create a rather minimalistic input and save it to file.\n",
        "\n",
        "There are a few system specific setting that we need to specify correctly in order for the calculation to work.\n",
        "\n",
        "1. There are a few places in the input that contains atomic specific input. These must not be in conflict with the system that we like to simulate.\n",
        "\n",
        "The most important is this block:\n",
        "```\n",
        "MaxAngularMomentum = { \n",
        "      H = s # <--- IMPORTANT! WE NEED TP SPECIFY THE MAXIMUM ANGULAR MOMENT FOR EACH ATOM WE CONSIDER\n",
        "   } \n",
        "```\n",
        "If we perform any advanced and atom specific anaylysis these block also need to be controlled. E.g.:\n",
        "\n",
        "```\n",
        "Analysis = { # THE \"Analysis\" BLOCK SPECIFIES WHAT EXTRA INFORMATION TO EXTRACT AND PRINT OUT\n",
        "  WriteEigenvectors = Yes\n",
        "  ProjectStates={\n",
        "    Region = {\n",
        "      Atoms = H \n",
        "      ShellResolved = Yes \n",
        "      Label = \"dos\"\n",
        "    }\n",
        "  }\n",
        "}\n",
        "```\n",
        "\n",
        "2. In addition there are some unique input in case we use periodic boundary conditions. Namely, the specification of k-points in a block looking like this:\n",
        "\n",
        "```\n",
        "   KPointsAndWeights = SupercellFolding { \n",
        "      1 0 0 \n",
        "      0 1 0 \n",
        "      0 0 1 \n",
        "      0.0 0.0 0.0\n",
        "   } \n",
        "```\n",
        "\n",
        "This block must be present for periodic systems but must NOT be present if we consider a non-peroidic system.\n",
        "\n",
        "### The example file below sets up a simultation for a periodic system consiting entirely of hydrogen atoms. (Very useful if we like to run a simulation of a hydrogen chain.)\n"
      ],
      "metadata": {
        "id": "euv76U-T9xNS"
      }
    },
    {
      "cell_type": "code",
      "source": [
        "#THE MAIN INPUT FILE FOR DFTB+ CODE IS dftb_in.hsd.\n",
        "#THE CODE BELOW SHOW HOW TO WRITE SUCH A FILE.\n",
        "dftb_in='''\n",
        "Geometry = GenFormat { \n",
        "    <<< \"in.gen\" #The file containing the geometry of the system\n",
        "} \n",
        " \n",
        "Driver = ConjugateGradient{ #THE \"Driver\" BLOCK CONTROLS GEOMETRY OPTIMIZATION\n",
        "   MaxForceComponent = 0.0001 \n",
        "   MaxSteps = 0 \n",
        "   } \n",
        "Hamiltonian = DFTB{ #THE \"Hamiltonian\" BLOCK GIVE SETTING FOR THE ELECTRONICS \n",
        "   KPointsAndWeights = SupercellFolding { \n",
        "      1 0 0 \n",
        "      0 1 0 \n",
        "      0 0 1 \n",
        "      0.0 0.0 0.0\n",
        "   } \n",
        "   MaxAngularMomentum = { \n",
        "      H = s # <--- IMPORTANT! WE NEED TP SPECIFY THE MAXIMUM ANGULAR MOMENT FOR EACH ATOM WE CONSIDER\n",
        "   } \n",
        "   SCC = Yes\n",
        "   SCCTolerance = 1e-08 # SelfConsistentField convergence criterium. \n",
        "   SlaterKosterFiles = Type2FileNames{ \n",
        "      Prefix = ./mio-1-1/ \n",
        "      Separator = \"-\" \n",
        "      Suffix = \".skf\" \n",
        "      } \n",
        "   } \n",
        "Options { \n",
        "   WriteResultsTag = Yes\n",
        "   WriteDetailedXml = Yes\n",
        "} \n",
        "Analysis = { # THE \"Analysis\" BLOCK SPECIFIES WHAT EXTRA INFORMATION TO EXTRACT AND PRINT OUT\n",
        "  WriteEigenvectors = Yes\n",
        "  ProjectStates={\n",
        "    Region = {\n",
        "      Atoms = H \n",
        "      ShellResolved = Yes \n",
        "      Label = \"dos\"\n",
        "    }\n",
        "  }\n",
        "}\n",
        "ParserOptions { \n",
        "   IgnoreUnprocessedNodes = Yes  \n",
        "} \n",
        "'''\n",
        "f=open('dftb_in.hsd',\"w\")\n",
        "print(dftb_in,file=f)\n",
        "f.close()"
      ],
      "metadata": {
        "id": "0Ftg-Rx-9rfQ"
      },
      "execution_count": null,
      "outputs": []
    },
    {
      "cell_type": "markdown",
      "source": [
        "# BUILDING A HYDROGEN CHAIN IN ASE AND EXPORT IT TO DFTB+-FORMAT\n",
        "The box below demonstrates how we can build a hydrogen chain in ASE and export it to a file called `in.gen`. Note that this filename must match the following block in the `dftb_in.hsd` file:\n",
        "\n",
        "```\n",
        "Geometry = GenFormat { \n",
        "    <<< \"in.gen\" #The file containing the geometry of the system\n",
        "}\n",
        "``` \n"
      ],
      "metadata": {
        "id": "WhNmYs2uCmNH"
      }
    },
    {
      "cell_type": "code",
      "source": [
        "from ase.build import bulk\n",
        "from ase.io import read,write\n",
        "from ase import Atoms\n",
        "import numpy as np\n",
        "d=2.0 # Distance between H\n",
        "N=16  # Number of H\n",
        "\n",
        "pos=[]\n",
        "for i in range(N):\n",
        "  pos.append([0,0,i])\n",
        "\n",
        "cell=[[3*N,0.,0.],[0.,3*N,0.],[0.,0.,N]]\n",
        "pos=np.array(pos)\n",
        "cell=np.array(cell)\n",
        "\n",
        "pos=pos*d\n",
        "cell=cell*d\n",
        "\n",
        "atoms=Atoms(f'H{N}', positions=pos,cell=cell,pbc=[True,True,True])\n",
        "write(\"in.gen\",atoms)"
      ],
      "metadata": {
        "id": "CiJXzP9vHGVi"
      },
      "execution_count": null,
      "outputs": []
    },
    {
      "cell_type": "markdown",
      "source": [
        "# RUN DFTB+\n",
        "Nex box simply executes dftb+. Remove the `> std.out` to see the output flowing on the screen."
      ],
      "metadata": {
        "id": "aQenVoNaJAgi"
      }
    },
    {
      "cell_type": "code",
      "source": [
        "!dftb+ > std.out"
      ],
      "metadata": {
        "id": "iYIEQ5H6fIdA"
      },
      "execution_count": null,
      "outputs": []
    },
    {
      "cell_type": "markdown",
      "source": [
        "# PREPARE FOR POST-PROCESSING\n",
        "We will make use of the `dp_tools` package to analyse and visualize electronic structure properties.\n",
        "\n",
        "More details and examples can be found here.\n",
        "\n",
        "https://dftbplus-recipes.readthedocs.io/en/latest/basics/bandstruct.html\n",
        "\n",
        "https://dftbplus-recipes.readthedocs.io/en/latest/basics/waveplot.html\n",
        "\n",
        "\n",
        "We will first make use of `waveplot`which allow us to look at orbitals. The main input to `waveplot` is the file `waveplot_in.hsd`. The box below create this input file."
      ],
      "metadata": {
        "id": "9NVUHTNIJQch"
      }
    },
    {
      "cell_type": "code",
      "source": [
        "f=open(\"waveplot_in.hsd\",\"w\")\n",
        "str='''\n",
        "# General options\n",
        "\n",
        "Options {\n",
        "  TotalChargeDensity = No           # Total density be plotted?\n",
        "  TotalChargeDifference = No        # Total density difference plotted?\n",
        "  ChargeDensity = No                # Charge density for each state?\n",
        "  RealComponent = Yes                # Plot real component of the wavefunction\n",
        "  PlottedSpins = 1 -1\n",
        "  PlottedKpoints = 1 -1\n",
        "  PlottedLevels =  1:-1              # Levels to plot\n",
        "  PlottedRegion =  OptimalCuboid {}  # Region to plot\n",
        "\n",
        "  NrOfPoints = 50 50 50              # Number of grid points in each direction\n",
        "  NrOfCachedGrids = -1               # Nr of cached grids (speeds up things)\n",
        "  Verbose = Yes                      # Wanna see a lot of messages?\n",
        "}\n",
        "\n",
        "DetailedXml = \"detailed.xml\"         # File containing the detailed xml output\n",
        "                                     # of DFTB+\n",
        "EigenvecBin = \"eigenvec.bin\"         # File cointaining the binary eigenvecs\n",
        "\n",
        "\n",
        "# Definition of the basis\n",
        "Basis {\n",
        "  Resolution = 0.01\n",
        "  #<<+ \"/content/wfc.auorg-1-1.hsd\"\n",
        "  <<+ \"/content/wfc.mio-1-1.hsd\"\n",
        "}\n",
        "'''\n",
        "\n",
        "print(str,file=f)\n",
        "f.close()"
      ],
      "metadata": {
        "id": "AN44JfFKhs7E"
      },
      "execution_count": null,
      "outputs": []
    },
    {
      "cell_type": "markdown",
      "source": [
        "# RUN WAVEPLOT\n",
        "This box simpy executes `waveplot`."
      ],
      "metadata": {
        "id": "KlVszS5bKCOe"
      }
    },
    {
      "cell_type": "code",
      "source": [
        "!waveplot > std.out "
      ],
      "metadata": {
        "id": "qsd-f-iuhu2t"
      },
      "execution_count": null,
      "outputs": []
    },
    {
      "cell_type": "markdown",
      "source": [
        "# VISUALIZE RESULTS\n",
        "We make use of the `py3Dmol` package to visulize the result. The key parameter to adjust here is value of the iso-surface drawn.\n",
        "\n",
        "Please consult: https://dftbplus-recipes.readthedocs.io/en/latest/basics/waveplot.html to see how the to interpret the names of the `cube`-files generated by `waveplot`."
      ],
      "metadata": {
        "id": "Uqq2yVWrKIgQ"
      }
    },
    {
      "cell_type": "code",
      "source": [
        "import py3Dmol\n",
        "\n",
        "vol_data=open(\"/content/wp-1-1-2-real.cube\", \"r\").read() \n",
        "\n",
        "v = py3Dmol.view()\n",
        "v.addVolumetricData(vol_data, \"cube\", {'isoval': -0.005, 'color': \"red\", 'opacity': 0.75})\n",
        "v.addVolumetricData(vol_data, \"cube\", {'isoval': 0.005, 'color': \"blue\", 'opacity': 0.75})\n",
        "\n",
        "v.zoomTo()\n",
        "v.show()"
      ],
      "metadata": {
        "id": "NZfL9TcVihh_"
      },
      "execution_count": null,
      "outputs": []
    },
    {
      "cell_type": "markdown",
      "source": [
        "# MAKE A BANDPLOT\n",
        "\n",
        "In order to make a band-plot we make use of the k-point block in dftb+:\n",
        "\n",
        "```\n",
        "   KPointsAndWeights = SupercellFolding { \n",
        "      1 0 0 \n",
        "      0 1 0 \n",
        "      0 0 128  # <-- NOTE: WE INCREASE THE NUMBER OF K-POINTS ALONG THE CHAIN\n",
        "      0.0 0.0 0.0\n",
        "   } \n",
        "```\n",
        "\n",
        "This block tells DFTB+ to use one k-point along the x, one along y, and 128 along z. Note that our hydrogen chain is along z.\n",
        "\n",
        "When increasing the number of k-points along the chain we make use of Bloch's teorem. This allow us to accurately describe an infinite chain with only one H atom in our cell! In the limit of an infinite amount of k-points the result is exact, but since the bands are smooth we can often get converged results with not too many of them.\n"
      ],
      "metadata": {
        "id": "HdBk60TYLX4K"
      }
    },
    {
      "cell_type": "code",
      "source": [
        "d=3.0 # Distance between H\n",
        "N=1  # Number of H\n",
        "\n",
        "pos=[]\n",
        "for i in range(N):\n",
        "  pos.append([0,0,i])\n",
        "\n",
        "cell=[[3*N,0.,0.],[0.,3*N,0.],[0.,0.,N]]\n",
        "pos=np.array(pos)\n",
        "cell=np.array(cell)\n",
        "\n",
        "pos=pos*d\n",
        "cell=cell*d\n",
        "\n",
        "atoms=Atoms(f'H{N}', positions=pos,cell=cell,pbc=[True,True,True])\n",
        "write(\"in.gen\",atoms)\n",
        "\n",
        "\n",
        "dftb_in='''\n",
        "Geometry = GenFormat { \n",
        "    <<< \"in.gen\" \n",
        "} \n",
        " \n",
        "Driver = ConjugateGradient{ \n",
        "   MaxForceComponent = 0.0001 \n",
        "   MaxSteps = 0 \n",
        "   } \n",
        "Hamiltonian = DFTB{ \n",
        "   KPointsAndWeights = SupercellFolding { \n",
        "      1 0 0 \n",
        "      0 1 0 \n",
        "      0 0 128\n",
        "      0.0 0.0 0.0\n",
        "   } \n",
        "   MaxAngularMomentum = { \n",
        "      H = s \n",
        "   } \n",
        "   SCC = Yes\n",
        "   SCCTolerance = 1e-08 \n",
        "   SlaterKosterFiles = Type2FileNames{ \n",
        "      Prefix = ./mio-1-1/ \n",
        "      Separator = \"-\" \n",
        "      Suffix = \".skf\" \n",
        "      } \n",
        "   } \n",
        "Options { \n",
        "   WriteResultsTag = Yes\n",
        "   WriteDetailedXml = Yes\n",
        "} \n",
        "Analysis = {\n",
        "  WriteEigenvectors = Yes\n",
        "  ProjectStates={\n",
        "    Region = {\n",
        "      Atoms = H \n",
        "      ShellResolved = Yes \n",
        "      Label = \"dos\"\n",
        "    }\n",
        "  }\n",
        "}\n",
        "ParserOptions { \n",
        "   IgnoreUnprocessedNodes = Yes  \n",
        "} \n",
        "'''\n",
        "f=open('dftb_in.hsd',\"w\")\n",
        "print(dftb_in,file=f)\n",
        "f.close()\n",
        "\n",
        "!dftb+ > std.out\n",
        "!dp_bands band.out band\n",
        "\n",
        "\n",
        "#PLOTTING BANDSTRUCUTRE\n",
        "import numpy as np\n",
        "import matplotlib.pyplot as plt\n",
        "\n",
        "band=np.loadtxt(\"band_tot.dat\")\n",
        "n_bands=np.shape(band)[1]-1\n",
        "print(n_bands)\n",
        "for i in range(n_bands):\n",
        "  plt.plot(band[:,0],band[:,i+1],color=\"black\")\n",
        "plt.show()\n",
        "\n",
        "\n",
        "#PLOTTING DENSITY OF STATES\n",
        "!dp_dos band.out dos.dat\n",
        "dos_tot=np.loadtxt(\"dos.dat\")\n",
        "plt.fill_between(dos_tot[:,0],dos_tot[:,1],label=\"d\",alpha=1.0)\n",
        "plt.show()"
      ],
      "metadata": {
        "id": "RkxazrAnxij2"
      },
      "execution_count": null,
      "outputs": []
    },
    {
      "cell_type": "markdown",
      "source": [
        "Before proceeding to more advanced example below you should answer the following questions:\n",
        "\n",
        "1. What is the connection between the band diagram and the DOS plot?\n",
        "2. Consider the x-axis in the band diagram plot obtained using one atom in the cell (N=1). In the plot, the x-values covers the range from zero to the number of k-points used. What would be the proper range along the axis? In other words, how would you label the first and the last k-point?\n",
        "3. Compare band diagrams for the one atom case when using different seperation between the H atoms (e.g. for d=2.0 and d=3.0). What happens and how can we uderstand it in simple terms? \n",
        "4. Compare the band diagrams obtained using one atom in the cell (N=1) with the bandstructure obtained when using two atoms in the cell (N=2). How are the two related?\n",
        "\n",
        "Extra task: Repeat the proceedure for a two dimensional square lattice of H atoms. "
      ],
      "metadata": {
        "id": "DAN4pqzwt7qv"
      }
    },
    {
      "cell_type": "markdown",
      "source": [
        "####################################\n",
        "# ADVANCED PART (LACKS SOME DESCRIPTION)\n",
        "####################################\n",
        "\n",
        "The concepts from the hydrogen chain can be generalized to at-least three dimensions. The advanced example considers metallic gold."
      ],
      "metadata": {
        "id": "zgtrPQOKvXqC"
      }
    },
    {
      "cell_type": "code",
      "source": [
        "from ase.build import bulk\n",
        "from ase.io import read,write\n",
        "from ase import Atoms\n",
        "import numpy as np\n",
        "\n",
        "atoms=bulk('Au','fcc')\n",
        "\n",
        "write(\"in.gen\",atoms)\n",
        "\n",
        "dftb_in='''\n",
        "Geometry = GenFormat { \n",
        "    <<< \"in.gen\" \n",
        "} \n",
        " \n",
        "Driver = ConjugateGradient{ \n",
        "   MaxForceComponent = 0.0001 \n",
        "   MaxSteps = 0 \n",
        "   } \n",
        "Hamiltonian = DFTB{ \n",
        "   KPointsAndWeights = SupercellFolding { \n",
        "      16 0 0 \n",
        "      0 16 0 \n",
        "      0 0 16\n",
        "      0.25 0.25 0.25\n",
        "   } \n",
        "   MaxAngularMomentum = { \n",
        "      Au = d \n",
        "   } \n",
        "   SCC = Yes\n",
        "   SCCTolerance = 1e-08 \n",
        "   SlaterKosterFiles = Type2FileNames{ \n",
        "      Prefix = ./auorg-1-1/ \n",
        "      Separator = \"-\" \n",
        "      Suffix = \".skf\" \n",
        "      } \n",
        "   } \n",
        "Options { \n",
        "   WriteResultsTag = Yes\n",
        "   WriteDetailedXml = Yes\n",
        "} \n",
        "Analysis = {\n",
        "  WriteEigenvectors = Yes\n",
        "  ProjectStates={\n",
        "    Region = {\n",
        "      Atoms = Au \n",
        "      ShellResolved = Yes \n",
        "      Label = \"dos_Au\"\n",
        "    }\n",
        "  }\n",
        "}\n",
        "ParserOptions { \n",
        "   IgnoreUnprocessedNodes = Yes  \n",
        "} \n",
        "'''\n",
        "f=open('dftb_in.hsd',\"w\")\n",
        "print(dftb_in,file=f)\n",
        "f.close()"
      ],
      "metadata": {
        "id": "VrVlWOpC5OVW"
      },
      "execution_count": null,
      "outputs": []
    },
    {
      "cell_type": "markdown",
      "source": [
        "### Here we run DFTB+ and produce the files projected DOS files for plotting."
      ],
      "metadata": {
        "id": "GTMh0Ej99aEW"
      }
    },
    {
      "cell_type": "code",
      "source": [
        "!dftb+\n",
        "!dp_dos band.out dos.dat\n",
        "!dp_dos -w dos_Au.1.out dos_s.dat\n",
        "!dp_dos -w dos_Au.2.out dos_p.dat\n",
        "!dp_dos -w dos_Au.3.out dos_d.dat"
      ],
      "metadata": {
        "id": "GmE3OaoJskBg"
      },
      "execution_count": null,
      "outputs": []
    },
    {
      "cell_type": "markdown",
      "source": [
        "## Plot the projected DOS."
      ],
      "metadata": {
        "id": "WdetSlPA9oUK"
      }
    },
    {
      "cell_type": "code",
      "source": [
        "import numpy as np\n",
        "import matplotlib.pyplot as plt\n",
        "\n",
        "dos_tot=np.loadtxt(\"dos.dat\")\n",
        "dos_s=np.loadtxt(\"dos_s.dat\")\n",
        "dos_p=np.loadtxt(\"dos_p.dat\")\n",
        "dos_d=np.loadtxt(\"dos_d.dat\")\n",
        "\n",
        "plt.plot(dos_tot[:,0],dos_tot[:,1],color=\"black\")\n",
        "plt.fill_between(dos_d[:,0],dos_d[:,1],label=\"d\",alpha=1.0)\n",
        "plt.fill_between(dos_p[:,0],dos_p[:,1],label=\"p\",alpha=1.0)\n",
        "plt.fill_between(dos_s[:,0],dos_s[:,1],label=\"s\",alpha=1.0)\n",
        "plt.legend()\n"
      ],
      "metadata": {
        "id": "u2RC4FmVuIwX"
      },
      "execution_count": null,
      "outputs": []
    },
    {
      "cell_type": "markdown",
      "source": [
        "Why is the d- and p-bands much more narrow than the s-band?"
      ],
      "metadata": {
        "id": "nEKx4YAXzvGC"
      }
    },
    {
      "cell_type": "markdown",
      "source": [
        "# Band structure\n",
        "\n",
        "For three dimensional systems we will have a three-dimensional k-space. Just like the special role of $k=0$ and $k=\\frac{\\pi}{a}$ in the one dimensional case, we have special k-points also in three dimensional space.\n",
        "\n",
        "ASE provide convinient handling of k-points: https://databases.fysik.dtu.dk/ase/ase/dft/kpoints.html. We can for example ask for the names and coordinates of the special k-points relavant for our crystal. "
      ],
      "metadata": {
        "id": "kHTW-HAhvhii"
      }
    },
    {
      "cell_type": "code",
      "source": [
        "lat = atoms.cell.get_bravais_lattice()\n",
        "special_kpoints = lat.get_special_points()\n",
        "print(\"Special kpoints are: \",list(special_kpoints))\n",
        "print(\"With coordinats:\")\n",
        "for k in list(special_kpoints):\n",
        "  print(k,\":\",*special_kpoints[k])"
      ],
      "metadata": {
        "id": "GodhagXzxX18"
      },
      "execution_count": null,
      "outputs": []
    },
    {
      "cell_type": "markdown",
      "source": [
        "We can generate a path between the special k-points using the `cell.bandpath()` function of ASE. Such paths constitute the x-axis of band diagrams."
      ],
      "metadata": {
        "id": "vkWvxoQ6O-OW"
      }
    },
    {
      "cell_type": "code",
      "source": [
        "path = atoms.cell.bandpath('GXWKG', npoints=400)\n",
        "kpoints=\"\"\n",
        "\n",
        "for k in path.kpts:\n",
        "  counter += 1\n",
        "  kpoints += f'{k[0]} {k[1]} {k[2]} 1.0 \\n' # DFTB+ input requires three coordinates + a weight\n",
        "\n",
        "print(\"The last 10 lines of our k-point path look like this\")\n",
        "print('\\n'.join(kpoints.splitlines()[-10:]))\n"
      ],
      "metadata": {
        "id": "gmfO6snNO8fM"
      },
      "execution_count": null,
      "outputs": []
    },
    {
      "cell_type": "markdown",
      "source": [
        "## Preparing DFTB+ for a proper band diagram plot!\n",
        "We would like to extract the crystal orbitals, and their corresponding energies (the y-values of the band diagram), belonging to the specific k-points along our choosen path. \n",
        "\n",
        "The problem is, that in order to get a reasonably converged electron density in our SCF procedure we need to cover k-space in an even way (typically using regular grids and not lines). We therefore read the electron density from a converged simulation that use a regular grid and then simply evaluate the crystal orbital and energies at our k-points with the converged electron density being fixed. This is done by adding the two lines:\n",
        "\n",
        "```\n",
        "   ReadInitialCharges=Yes\n",
        "   MaxSCCIterations = 1\n",
        "```\n",
        "to the `dftb_in.hsd' file. Which tells DFTB+ to read the charge density from the file `charges.bin` and to only do a single SCF step, i.e not to update the charge density. This type of calculation if often referef to as a non-SCF calculation.\n",
        "\n",
        "We can insert our k-points path into the input file using the block `{kpoints}` as shown in the example below."
      ],
      "metadata": {
        "id": "tcCYIC80-Bdj"
      }
    },
    {
      "cell_type": "code",
      "source": [
        "#NOTE! WITH FORMATED STRINGS, e.g.: f'{DATA}', THE {} ARE RESERVED FOR TAKING IN \n",
        "#DATA. WE THEREFORE HAVE TO USE '{{' IF WE REALLY LIKE TO INSERT THE SYMBOL  '{'  \n",
        "#INTO OUR STRING. THIS IS THE CASE FOR THE EXAMPLE BELOW.\n",
        "\n",
        "dftb_in=f'''\n",
        "Geometry = GenFormat {{ \n",
        "    <<< \"in.gen\" \n",
        "}} \n",
        " \n",
        "Driver = ConjugateGradient{{ \n",
        "   MaxForceComponent = 0.0001 \n",
        "   MaxSteps = 0 \n",
        "   }} \n",
        "Hamiltonian = DFTB{{ \n",
        "   KPointsAndWeights = {{ \n",
        "   {kpoints} # <- HERE IS WHERE WE INSERT OUR KPOINTS\n",
        "   }}\n",
        "   MaxAngularMomentum = {{ \n",
        "      Au = d \n",
        "   }} \n",
        "   ReadInitialCharges=Yes\n",
        "   MaxSCCIterations = 1\n",
        "   SCC = Yes\n",
        "   SCCTolerance = 1e-08 \n",
        "   SlaterKosterFiles = Type2FileNames{{ \n",
        "      Prefix = ./auorg-1-1/ \n",
        "      Separator = \"-\" \n",
        "      Suffix = \".skf\" \n",
        "      }} \n",
        "   }} \n",
        "Options {{ \n",
        "   WriteResultsTag = Yes\n",
        "   WriteDetailedXml = Yes\n",
        "}} \n",
        "Analysis = {{\n",
        "  WriteEigenvectors = Yes\n",
        "  ProjectStates={{\n",
        "    Region = {{\n",
        "      Atoms = Au \n",
        "      ShellResolved = Yes \n",
        "      Label = \"dos_Au\"\n",
        "    }}\n",
        "  }}\n",
        "}}\n",
        "ParserOptions {{ \n",
        "   IgnoreUnprocessedNodes = Yes  \n",
        "}} \n",
        "'''\n",
        "f=open('dftb_in.hsd',\"w\")\n",
        "print(dftb_in,file=f)\n",
        "f.close()"
      ],
      "metadata": {
        "id": "AAvplqPlvk0q"
      },
      "execution_count": null,
      "outputs": []
    },
    {
      "cell_type": "markdown",
      "source": [
        "The next few lines evalutes the crystal orbitals along our path and store the data in the file `band_tot.dat`."
      ],
      "metadata": {
        "id": "Qv8F2eYmQphQ"
      }
    },
    {
      "cell_type": "code",
      "source": [
        "!dftb+ > std.out\n",
        "!dp_bands band.out band"
      ],
      "metadata": {
        "id": "sKE5tR2nvpdI"
      },
      "execution_count": null,
      "outputs": []
    },
    {
      "cell_type": "markdown",
      "source": [
        "Here we simply plot the crystal orbital energies along our path to complete the band diagram.\n",
        "\n"
      ],
      "metadata": {
        "id": "TKccApoaRKuE"
      }
    },
    {
      "cell_type": "code",
      "source": [
        "from ase.dft.kpoints import labels_from_kpts\n",
        "x,x_special,labels= labels_from_kpts(path.kpts, atoms.cell, eps=1e-05, special_points=special_kpoints)\n",
        "\n",
        "fig, ax = plt.subplots()\n",
        "\n",
        "band=np.loadtxt(\"band_tot.dat\")\n",
        "n_bands=np.shape(band)[1]-1\n",
        "print(n_bands)\n",
        "for i in range(n_bands):\n",
        "  ax.plot(x,band[:,i+1],color=\"black\")\n",
        "\n",
        "#Put the labels in \n",
        "ax.set_xticks(x_special) \n",
        "ax.set_xticklabels(labels)\n",
        "fig.show()\n"
      ],
      "metadata": {
        "id": "YRl147cywSVG"
      },
      "execution_count": null,
      "outputs": []
    },
    {
      "cell_type": "markdown",
      "source": [
        "# You are almost an expert now!\n",
        "\n",
        "To complete you training:\n",
        "\n",
        "Consider the example for TiO$_2$ provided at the 'DFTB+ recipies' page: https://dftbplus-recipes.readthedocs.io/en/latest/basics/bandstruct.html\n",
        "\n",
        "Reproduce their results using 'our' way. That is define the structure separately as an atoms object and plot the results using the plotting tools provided in this example. \n",
        "\n",
        "Task (Basic level): Use the caclulated band diagram to illustrate if there is a direct or indirect band-gap. \n",
        "\n",
        "Task (Advanced level): Explore the varition in the PDOS when intrducing a point-defect to the system (e.g. an oxygen vacancy). Note that you would typically need to make a supercell to avoid the defect from interacting across the periodic boundaries."
      ],
      "metadata": {
        "id": "TJ4lBjRC-B7t"
      }
    },
    {
      "cell_type": "code",
      "source": [],
      "metadata": {
        "id": "Clu2ctIr-E-2"
      },
      "execution_count": null,
      "outputs": []
    }
  ]
}