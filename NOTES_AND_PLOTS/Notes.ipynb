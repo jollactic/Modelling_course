{
 "cells": [
  {
   "attachments": {},
   "cell_type": "markdown",
   "metadata": {},
   "source": [
    "\n",
    "`_MOVIE_MAKER.ipynb` can be used to generate mp4 movies from pdf-slides.\n",
    "\n",
    "`ghp-import -n -p -f _build/html` can be used in the main-folder of the project to get the page up and running on github.io.\n"
   ]
  },
  {
   "cell_type": "code",
   "execution_count": 22,
   "metadata": {},
   "outputs": [],
   "source": [
    "import pyttsx3\n",
    "def speak(text,write=False):\n",
    "    engine = pyttsx3.init()\n",
    "    # Set the voice to a voice similar to Stephen Hawking's voice\n",
    "    voice_id = \"english_rp+whisper\"\n",
    "    engine.setProperty('voice', voice_id)\n",
    "    # Set the pace to a slower speed\n",
    "    engine.setProperty('rate', 125)\n",
    "    if write:\n",
    "        engine.save_to_file(text, \"tmp.mp3\")\n",
    "    else:\n",
    "        engine.say(text)\n",
    "    \n",
    "    engine.runAndWait()\n",
    "\n",
    "p=''' \n",
    "The Hartree-Fock method provide an approximation to the Schrödinger equation.\n",
    "The derivation of the method start from the electronic Schrödinger equation.\n",
    "We make the independent electron approximation and write the wavefunction as a Slater-determinant of orbitals.\n",
    "We find a simple expression for the total energy of a Slater-determinant, and minimize it the respect to the orbitals.\n",
    "This leads to the Hartree-Fock equation which describe the motion of each electrons moving in the effective field of the other electrons.\n",
    "The effective field is described by the Coulomb operator J, and the Exchange operator K.\n",
    "We solve the Hartree-equation using an iterative process called self-consistent field.   \n",
    "'''\n",
    "speak(p)"
   ]
  },
  {
   "cell_type": "markdown",
   "metadata": {},
   "source": []
  },
  {
   "cell_type": "markdown",
   "metadata": {},
   "source": []
  }
 ],
 "metadata": {
  "kernelspec": {
   "display_name": "CCS_coding",
   "language": "python",
   "name": "python3"
  },
  "language_info": {
   "codemirror_mode": {
    "name": "ipython",
    "version": 3
   },
   "file_extension": ".py",
   "mimetype": "text/x-python",
   "name": "python",
   "nbconvert_exporter": "python",
   "pygments_lexer": "ipython3",
   "version": "3.10.9"
  },
  "orig_nbformat": 4
 },
 "nbformat": 4,
 "nbformat_minor": 2
}
