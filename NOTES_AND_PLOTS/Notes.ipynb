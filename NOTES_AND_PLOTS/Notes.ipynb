{
 "cells": [
  {
   "attachments": {},
   "cell_type": "markdown",
   "metadata": {},
   "source": [
    "\n",
    "\n",
    "`_MOVIE_MAKER.ipynb` can be used to generate mp4 movies from pdf-slides.\n",
    "\n",
    "\n",
    "The package decorater can cause problems to the movie maker script, be aware!\n",
    "\n",
    "`ghp-import -n -p -f _build/html` can be used in the main-folder of the project to get the page up and running on github.io.\n"
   ]
  },
  {
   "cell_type": "code",
   "execution_count": null,
   "metadata": {},
   "outputs": [],
   "source": [
    "import pyttsx3\n",
    "def speak(text,write=False):\n",
    "    engine = pyttsx3.init()\n",
    "    # Set the voice to a voice similar to Stephen Hawking's voice\n",
    "    voice_id = \"english_rp+whisper\"\n",
    "    engine.setProperty('voice', voice_id)\n",
    "    # Set the pace to a slower speed\n",
    "    engine.setProperty('rate', 125)\n",
    "    if write:\n",
    "        engine.save_to_file(text, \"tmp.mp3\")\n",
    "    else:\n",
    "        engine.say(text)\n",
    "    \n",
    "    engine.runAndWait()\n",
    "\n",
    "p='''\n",
    "A few final word on DFT.\n",
    "\n",
    "DFT is useful for in principle all elements in the periodic system.\n",
    "\n",
    "Can be used for calculations of all bond types, including Van der Waals ́ Interactions. However, only if an appropriate functional is chosen.\n",
    "\n",
    "DFT, is a less time-consuming method than Hartree-Fock. Hence large systems can be addressed.\n",
    "\n",
    "It is the mostly used quantum mechanical method amongst physisists.\n",
    "\n",
    "Unfortunately, there is no way of systematically improving results.\n",
    "\n",
    "'''\n",
    "speak(p)"
   ]
  },
  {
   "cell_type": "code",
   "execution_count": null,
   "metadata": {},
   "outputs": [],
   "source": [
    "\n",
    "import numpy as np\n",
    "import matplotlib.pyplot as plt\n",
    "C_F=2.87\n",
    "r=np.arange(-4,4,0.1)\n",
    "V=-np.exp(-r**2)-0.1/(np.abs(r)+0.5)\n",
    "V=V*10\n",
    "rho=(5*2.87/3.)**(-3/2.)*(-V)**(3/2.) #*4*np.pi*r*r\n",
    "plt.xlim(-2,2)\n",
    "plt.rc('xtick', labelsize=12)\n",
    "plt.rc('axes', labelsize=18)\n",
    "plt.ylabel(r'$\\rho$ (e/Bohr$^3$)')\n",
    "plt.xlabel(r'r (Bohr)')\n",
    "plt.plot(r,rho,color=\"black\")\n",
    "plt.show()\n",
    "plt.xlim(-2,2)\n",
    "plt.rc('xtick', labelsize=12)\n",
    "plt.rc('axes', labelsize=18)\n",
    "plt.ylabel(r'$V$ (Hartee)')\n",
    "plt.xlabel(r'r (Bohr)')\n",
    "plt.plot(r,V,'--',color=\"red\")\n",
    "plt.show()"
   ]
  },
  {
   "cell_type": "code",
   "execution_count": null,
   "metadata": {},
   "outputs": [],
   "source": []
  }
 ],
 "metadata": {
  "kernelspec": {
   "display_name": "CCS_coding",
   "language": "python",
   "name": "python3"
  },
  "language_info": {
   "codemirror_mode": {
    "name": "ipython",
    "version": 3
   },
   "file_extension": ".py",
   "mimetype": "text/x-python",
   "name": "python",
   "nbconvert_exporter": "python",
   "pygments_lexer": "ipython3",
   "version": "3.10.9"
  },
  "orig_nbformat": 4
 },
 "nbformat": 4,
 "nbformat_minor": 2
}
