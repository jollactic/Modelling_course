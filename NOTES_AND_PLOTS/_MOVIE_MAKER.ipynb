{
 "cells": [
  {
   "attachments": {},
   "cell_type": "markdown",
   "metadata": {},
   "source": [
    "\n",
    "USE THIS TEMPLATE TO GENERATE YOUR PDF: \n",
    "\n",
    "https://docs.google.com/presentation/d/13OvhE3GsBdeUd9uPIodjPXKM35f9Eml42wD-JvkIXf8/edit?usp=sharing"
   ]
  },
  {
   "cell_type": "code",
   "execution_count": null,
   "metadata": {},
   "outputs": [],
   "source": [
    "#HERE YOU PROVIDE THE NAME OF THE MASTER PDF FILE\n",
    "sec_name='XYZ'"
   ]
  },
  {
   "attachments": {},
   "cell_type": "markdown",
   "metadata": {},
   "source": [
    "# 1. SPLIT UP THE PDF"
   ]
  },
  {
   "cell_type": "code",
   "execution_count": 1,
   "metadata": {},
   "outputs": [],
   "source": [
    "from pdf2image import convert_from_path\n",
    "\n",
    "# Store Pdf with convert_from_path function\n",
    "images = convert_from_path(f'{sec_name}.pdf')\n",
    " \n",
    "for i in range(len(images)):\n",
    "   \n",
    "      # Save pages as images in the pdf\n",
    "    images[i].save('page'+ str(i) +'.jpg', 'JPEG')"
   ]
  },
  {
   "attachments": {},
   "cell_type": "markdown",
   "metadata": {},
   "source": [
    "### Extract notes"
   ]
  },
  {
   "cell_type": "code",
   "execution_count": 3,
   "metadata": {},
   "outputs": [],
   "source": [
    "import PyPDF2\n",
    "import re\n",
    "\n",
    "p=[]\n",
    "\n",
    "with open(f'{sec_name}.pdf', 'rb') as pdf_file:\n",
    "    pdf_reader = PyPDF2.PdfReader(pdf_file)\n",
    "    N_pages=len(pdf_reader.pages)\n",
    "    pauses=[2]*N_pages\n",
    "\n",
    "    # Loop through each page in the PDF\n",
    "    for page_num in range(N_pages):\n",
    "        page = pdf_reader.pages[page_num]\n",
    "        \n",
    "        # Extract the text from the page\n",
    "        text = page.extract_text()\n",
    "\n",
    "        # Search for the speaker notes using a regular expression\n",
    "        speaker_notes = re.findall(r'#S#([\\s\\S]*)#E#', text)\n",
    "        speaker_notes_with_spaces = []\n",
    "        for note in speaker_notes:\n",
    "            note_with_spaces = note.replace('\\n', ' ')\n",
    "            speaker_notes_with_spaces.append(note_with_spaces)\n",
    "\n",
    "        # Define the regular expression pattern\n",
    "        pattern = r\"#P#(\\d+)\"\n",
    "        match = re.search(pattern, text)\n",
    "        if match:\n",
    "            # Extract the integer value as a string and convert it to an integer\n",
    "            number = int(match.group(1))\n",
    "            pauses[page_num]=number\n",
    "        else:\n",
    "            pass\n",
    "\n",
    "\n",
    "        p.append(speaker_notes_with_spaces)\n",
    "        "
   ]
  },
  {
   "attachments": {},
   "cell_type": "markdown",
   "metadata": {},
   "source": [
    "# 2. DEFINE FUNCTIONS TO READ IN THE TEXT AND BUILD UP VIDEO"
   ]
  },
  {
   "cell_type": "code",
   "execution_count": 4,
   "metadata": {},
   "outputs": [],
   "source": [
    "import pyttsx3\n",
    "from PIL import Image\n",
    "from moviepy.editor import *\n",
    "import numpy as np\n",
    "\n",
    "\n",
    "\n",
    "def speak(text,write=False):\n",
    "    engine = pyttsx3.init()\n",
    "    # Set the voice to a voice similar to Stephen Hawking's voice\n",
    "    voice_id = \"english_rp+whisper\"\n",
    "    engine.setProperty('voice', voice_id)\n",
    "    # Set the pace to a slower speed\n",
    "    engine.setProperty('rate', 125)\n",
    "    if write:\n",
    "        engine.save_to_file(text, \"tmp.mp3\")\n",
    "    else:\n",
    "        engine.say(text)\n",
    "    \n",
    "    engine.runAndWait()\n",
    "\n",
    "\n",
    "def read_in_page(page=0,text=\"\",pause=0,output='tmp',draft=True):\n",
    "    if draft:\n",
    "        speak(text)\n",
    "    else:\n",
    "        bitrate='5000k'\n",
    "        # Read in image\n",
    "        image = Image.open(f'page{page}.jpg')\n",
    "        width, height = image.size\n",
    "        pil_image = np.array(image.copy())\n",
    "\n",
    "        # Convert text to speech using pyttsx3\n",
    "        speak(text,write=True)\n",
    "\n",
    "        # Create audio clip\n",
    "        silence_clip = AudioClip(make_frame=lambda t: [0,0], duration=pause)\n",
    "        try:\n",
    "            audio_clip = AudioFileClip(\"tmp.mp3\")\n",
    "            duration = audio_clip.duration+pause\n",
    "            audio_clip = concatenate_audioclips([audio_clip,silence_clip])\n",
    "        except:\n",
    "            duration=pause\n",
    "            audio_clip=silence_clip\n",
    "\n",
    "        # Create video clip\n",
    "        clip = ImageClip(pil_image, duration=duration)\n",
    "\n",
    "        # Add audio to video clip\n",
    "        final_clip = clip.set_audio(audio_clip)\n",
    "\n",
    "        # Save as MP4 file\n",
    "        final_clip.write_videofile(f'page{page}.mp4', fps=24,bitrate=bitrate)    \n",
    "\n"
   ]
  },
  {
   "attachments": {},
   "cell_type": "markdown",
   "metadata": {},
   "source": [
    "# 3. Read in text to the slides!\n",
    "\n",
    "use `draft=True` in the read_in_page to simply listen to the text"
   ]
  },
  {
   "cell_type": "code",
   "execution_count": 5,
   "metadata": {},
   "outputs": [
    {
     "name": "stdout",
     "output_type": "stream",
     "text": [
      "Moviepy - Building video page0.mp4.\n",
      "MoviePy - Writing audio in page0TEMP_MPY_wvf_snd.mp3\n"
     ]
    },
    {
     "name": "stderr",
     "output_type": "stream",
     "text": [
      "                                                                    \r"
     ]
    },
    {
     "name": "stdout",
     "output_type": "stream",
     "text": [
      "MoviePy - Done.\n",
      "Moviepy - Writing video page0.mp4\n",
      "\n"
     ]
    },
    {
     "name": "stderr",
     "output_type": "stream",
     "text": [
      "                                                               \r"
     ]
    },
    {
     "name": "stdout",
     "output_type": "stream",
     "text": [
      "Moviepy - Done !\n",
      "Moviepy - video ready page0.mp4\n",
      "Moviepy - Building video page1.mp4.\n",
      "MoviePy - Writing audio in page1TEMP_MPY_wvf_snd.mp3\n"
     ]
    },
    {
     "name": "stderr",
     "output_type": "stream",
     "text": [
      "                                                                    \r"
     ]
    },
    {
     "name": "stdout",
     "output_type": "stream",
     "text": [
      "MoviePy - Done.\n",
      "Moviepy - Writing video page1.mp4\n",
      "\n"
     ]
    },
    {
     "name": "stderr",
     "output_type": "stream",
     "text": [
      "                                                               \r"
     ]
    },
    {
     "name": "stdout",
     "output_type": "stream",
     "text": [
      "Moviepy - Done !\n",
      "Moviepy - video ready page1.mp4\n",
      "Moviepy - Building video page2.mp4.\n",
      "MoviePy - Writing audio in page2TEMP_MPY_wvf_snd.mp3\n"
     ]
    },
    {
     "name": "stderr",
     "output_type": "stream",
     "text": [
      "                                                                    \r"
     ]
    },
    {
     "name": "stdout",
     "output_type": "stream",
     "text": [
      "MoviePy - Done.\n",
      "Moviepy - Writing video page2.mp4\n",
      "\n"
     ]
    },
    {
     "name": "stderr",
     "output_type": "stream",
     "text": [
      "                                                               \r"
     ]
    },
    {
     "name": "stdout",
     "output_type": "stream",
     "text": [
      "Moviepy - Done !\n",
      "Moviepy - video ready page2.mp4\n",
      "Moviepy - Building video page3.mp4.\n",
      "MoviePy - Writing audio in page3TEMP_MPY_wvf_snd.mp3\n"
     ]
    },
    {
     "name": "stderr",
     "output_type": "stream",
     "text": [
      "                                                                    \r"
     ]
    },
    {
     "name": "stdout",
     "output_type": "stream",
     "text": [
      "MoviePy - Done.\n",
      "Moviepy - Writing video page3.mp4\n",
      "\n"
     ]
    },
    {
     "name": "stderr",
     "output_type": "stream",
     "text": [
      "                                                               \r"
     ]
    },
    {
     "name": "stdout",
     "output_type": "stream",
     "text": [
      "Moviepy - Done !\n",
      "Moviepy - video ready page3.mp4\n",
      "Moviepy - Building video page4.mp4.\n",
      "MoviePy - Writing audio in page4TEMP_MPY_wvf_snd.mp3\n"
     ]
    },
    {
     "name": "stderr",
     "output_type": "stream",
     "text": [
      "                                                                    \r"
     ]
    },
    {
     "name": "stdout",
     "output_type": "stream",
     "text": [
      "MoviePy - Done.\n",
      "Moviepy - Writing video page4.mp4\n",
      "\n"
     ]
    },
    {
     "name": "stderr",
     "output_type": "stream",
     "text": [
      "                                                               \r"
     ]
    },
    {
     "name": "stdout",
     "output_type": "stream",
     "text": [
      "Moviepy - Done !\n",
      "Moviepy - video ready page4.mp4\n",
      "Moviepy - Building video page5.mp4.\n",
      "MoviePy - Writing audio in page5TEMP_MPY_wvf_snd.mp3\n"
     ]
    },
    {
     "name": "stderr",
     "output_type": "stream",
     "text": [
      "                                                                    \r"
     ]
    },
    {
     "name": "stdout",
     "output_type": "stream",
     "text": [
      "MoviePy - Done.\n",
      "Moviepy - Writing video page5.mp4\n",
      "\n"
     ]
    },
    {
     "name": "stderr",
     "output_type": "stream",
     "text": [
      "                                                                 \r"
     ]
    },
    {
     "name": "stdout",
     "output_type": "stream",
     "text": [
      "Moviepy - Done !\n",
      "Moviepy - video ready page5.mp4\n",
      "Moviepy - Building video page6.mp4.\n",
      "MoviePy - Writing audio in page6TEMP_MPY_wvf_snd.mp3\n"
     ]
    },
    {
     "name": "stderr",
     "output_type": "stream",
     "text": [
      "                                                                     \r"
     ]
    },
    {
     "name": "stdout",
     "output_type": "stream",
     "text": [
      "MoviePy - Done.\n",
      "Moviepy - Writing video page6.mp4\n",
      "\n"
     ]
    },
    {
     "name": "stderr",
     "output_type": "stream",
     "text": [
      "                                                                 \r"
     ]
    },
    {
     "name": "stdout",
     "output_type": "stream",
     "text": [
      "Moviepy - Done !\n",
      "Moviepy - video ready page6.mp4\n",
      "Moviepy - Building video page7.mp4.\n",
      "MoviePy - Writing audio in page7TEMP_MPY_wvf_snd.mp3\n"
     ]
    },
    {
     "name": "stderr",
     "output_type": "stream",
     "text": [
      "                                                                    \r"
     ]
    },
    {
     "name": "stdout",
     "output_type": "stream",
     "text": [
      "MoviePy - Done.\n",
      "Moviepy - Writing video page7.mp4\n",
      "\n"
     ]
    },
    {
     "name": "stderr",
     "output_type": "stream",
     "text": [
      "                                                               \r"
     ]
    },
    {
     "name": "stdout",
     "output_type": "stream",
     "text": [
      "Moviepy - Done !\n",
      "Moviepy - video ready page7.mp4\n",
      "Moviepy - Building video page8.mp4.\n",
      "MoviePy - Writing audio in page8TEMP_MPY_wvf_snd.mp3\n"
     ]
    },
    {
     "name": "stderr",
     "output_type": "stream",
     "text": [
      "                                                                    \r"
     ]
    },
    {
     "name": "stdout",
     "output_type": "stream",
     "text": [
      "MoviePy - Done.\n",
      "Moviepy - Writing video page8.mp4\n",
      "\n"
     ]
    },
    {
     "name": "stderr",
     "output_type": "stream",
     "text": [
      "                                                               \r"
     ]
    },
    {
     "name": "stdout",
     "output_type": "stream",
     "text": [
      "Moviepy - Done !\n",
      "Moviepy - video ready page8.mp4\n",
      "Moviepy - Building video page9.mp4.\n",
      "MoviePy - Writing audio in page9TEMP_MPY_wvf_snd.mp3\n"
     ]
    },
    {
     "name": "stderr",
     "output_type": "stream",
     "text": [
      "                                                                    \r"
     ]
    },
    {
     "name": "stdout",
     "output_type": "stream",
     "text": [
      "MoviePy - Done.\n",
      "Moviepy - Writing video page9.mp4\n",
      "\n"
     ]
    },
    {
     "name": "stderr",
     "output_type": "stream",
     "text": [
      "                                                               \r"
     ]
    },
    {
     "name": "stdout",
     "output_type": "stream",
     "text": [
      "Moviepy - Done !\n",
      "Moviepy - video ready page9.mp4\n",
      "Moviepy - Building video page10.mp4.\n",
      "MoviePy - Writing audio in page10TEMP_MPY_wvf_snd.mp3\n"
     ]
    },
    {
     "name": "stderr",
     "output_type": "stream",
     "text": [
      "                                                                     \r"
     ]
    },
    {
     "name": "stdout",
     "output_type": "stream",
     "text": [
      "MoviePy - Done.\n",
      "Moviepy - Writing video page10.mp4\n",
      "\n"
     ]
    },
    {
     "name": "stderr",
     "output_type": "stream",
     "text": [
      "                                                                 \r"
     ]
    },
    {
     "name": "stdout",
     "output_type": "stream",
     "text": [
      "Moviepy - Done !\n",
      "Moviepy - video ready page10.mp4\n",
      "Moviepy - Building video page11.mp4.\n",
      "MoviePy - Writing audio in page11TEMP_MPY_wvf_snd.mp3\n"
     ]
    },
    {
     "name": "stderr",
     "output_type": "stream",
     "text": [
      "                                                                    \r"
     ]
    },
    {
     "name": "stdout",
     "output_type": "stream",
     "text": [
      "MoviePy - Done.\n",
      "Moviepy - Writing video page11.mp4\n",
      "\n"
     ]
    },
    {
     "name": "stderr",
     "output_type": "stream",
     "text": [
      "                                                               \r"
     ]
    },
    {
     "name": "stdout",
     "output_type": "stream",
     "text": [
      "Moviepy - Done !\n",
      "Moviepy - video ready page11.mp4\n",
      "Moviepy - Building video page12.mp4.\n",
      "MoviePy - Writing audio in page12TEMP_MPY_wvf_snd.mp3\n"
     ]
    },
    {
     "name": "stderr",
     "output_type": "stream",
     "text": [
      "                                                                      \r"
     ]
    },
    {
     "name": "stdout",
     "output_type": "stream",
     "text": [
      "MoviePy - Done.\n",
      "Moviepy - Writing video page12.mp4\n",
      "\n"
     ]
    },
    {
     "name": "stderr",
     "output_type": "stream",
     "text": [
      "                                                                \r"
     ]
    },
    {
     "name": "stdout",
     "output_type": "stream",
     "text": [
      "Moviepy - Done !\n",
      "Moviepy - video ready page12.mp4\n",
      "Moviepy - Building video page13.mp4.\n",
      "MoviePy - Writing audio in page13TEMP_MPY_wvf_snd.mp3\n"
     ]
    },
    {
     "name": "stderr",
     "output_type": "stream",
     "text": [
      "                                                                      \r"
     ]
    },
    {
     "name": "stdout",
     "output_type": "stream",
     "text": [
      "MoviePy - Done.\n",
      "Moviepy - Writing video page13.mp4\n",
      "\n"
     ]
    },
    {
     "name": "stderr",
     "output_type": "stream",
     "text": [
      "                                                                 \r"
     ]
    },
    {
     "name": "stdout",
     "output_type": "stream",
     "text": [
      "Moviepy - Done !\n",
      "Moviepy - video ready page13.mp4\n"
     ]
    }
   ],
   "source": [
    "for SLIDE in range(N_pages):\n",
    "    read_in_page(page=SLIDE,text=p[SLIDE],pause=pauses[SLIDE],output=sec_name,draft=False)\n"
   ]
  },
  {
   "attachments": {},
   "cell_type": "markdown",
   "metadata": {},
   "source": [
    "# ASSEMBLE THE MOVIE\n",
    "\n",
    "NOTE subprocess fails so you need to paste the printed out command in a separate box."
   ]
  },
  {
   "cell_type": "code",
   "execution_count": 6,
   "metadata": {},
   "outputs": [
    {
     "name": "stdout",
     "output_type": "stream",
     "text": [
      "Moviepy - Building video HwoF.mp4.\n",
      "MoviePy - Writing audio in HwoFTEMP_MPY_wvf_snd.mp3\n"
     ]
    },
    {
     "name": "stderr",
     "output_type": "stream",
     "text": [
      "                                                                        \r"
     ]
    },
    {
     "name": "stdout",
     "output_type": "stream",
     "text": [
      "MoviePy - Done.\n",
      "Moviepy - Writing video HwoF.mp4\n",
      "\n"
     ]
    },
    {
     "name": "stderr",
     "output_type": "stream",
     "text": [
      "                                                                  \r"
     ]
    },
    {
     "name": "stdout",
     "output_type": "stream",
     "text": [
      "Moviepy - Done !\n",
      "Moviepy - video ready HwoF.mp4\n"
     ]
    }
   ],
   "source": [
    "from moviepy.editor import *\n",
    "import subprocess\n",
    "import glob\n",
    "\n",
    "# Define file paths\n",
    "files = glob.glob('page*.mp4')\n",
    "N=len(files)\n",
    "\n",
    "file_paths=[]\n",
    "for i in range(N):\n",
    "    file_paths.append(f\"page{i}.mp4\")\n",
    "\n",
    "# Create VideoFileClip objects for each MP4 file\n",
    "clips = [VideoFileClip(mp4) for mp4 in file_paths]\n",
    "\n",
    "# Concatenate the clips using concatenate_videoclips method\n",
    "final_clip = concatenate_videoclips(clips)\n",
    "\n",
    "# Export the final concatenated clip to MP4 format\n",
    "final_clip.write_videofile(f\"{sec_name}.mp4\")\n"
   ]
  },
  {
   "attachments": {},
   "cell_type": "markdown",
   "metadata": {},
   "source": [
    "# CLEAN UP"
   ]
  },
  {
   "cell_type": "code",
   "execution_count": 7,
   "metadata": {},
   "outputs": [],
   "source": [
    "import subprocess\n",
    "import glob\n",
    "import os\n",
    "files=glob.glob('page*')\n",
    "for file in files:\n",
    "    os.remove(file)\n",
    "\n",
    "files=glob.glob('*.mp3')\n",
    "for file in files:\n",
    "    os.remove(file)"
   ]
  },
  {
   "cell_type": "code",
   "execution_count": null,
   "metadata": {},
   "outputs": [],
   "source": []
  }
 ],
 "metadata": {
  "kernelspec": {
   "display_name": "CCS_coding",
   "language": "python",
   "name": "python3"
  },
  "language_info": {
   "codemirror_mode": {
    "name": "ipython",
    "version": 3
   },
   "file_extension": ".py",
   "mimetype": "text/x-python",
   "name": "python",
   "nbconvert_exporter": "python",
   "pygments_lexer": "ipython3",
   "version": "3.10.9"
  },
  "orig_nbformat": 4
 },
 "nbformat": 4,
 "nbformat_minor": 2
}
