{
 "cells": [
  {
   "cell_type": "code",
   "execution_count": 1,
   "metadata": {},
   "outputs": [
    {
     "data": {
      "text/plain": [
       "2"
      ]
     },
     "execution_count": 1,
     "metadata": {},
     "output_type": "execute_result"
    }
   ],
   "source": [
    "# a thing\n",
    "2"
   ]
  },
  {
   "cell_type": "code",
   "execution_count": 2,
   "metadata": {},
   "outputs": [
    {
     "name": "stdout",
     "output_type": "stream",
     "text": [
      "2\n",
      "hello\n"
     ]
    }
   ],
   "source": [
    "# Use print to show multiple things in the same cell\n",
    "# Note that you can use single or double quotes for strings\n",
    "print(2)\n",
    "print('hello')"
   ]
  },
  {
   "cell_type": "code",
   "execution_count": 3,
   "metadata": {},
   "outputs": [],
   "source": [
    "# Things can be stored as variables\n",
    "x = 2\n",
    "y = 'hello' # strings can be in single quotes or double quotes\n",
    "z = True  # True and False are case sensitive"
   ]
  },
  {
   "cell_type": "code",
   "execution_count": 4,
   "metadata": {},
   "outputs": [
    {
     "name": "stdout",
     "output_type": "stream",
     "text": [
      "2\n"
     ]
    }
   ],
   "source": [
    "print(x)"
   ]
  },
  {
   "cell_type": "code",
   "execution_count": 5,
   "metadata": {},
   "outputs": [],
   "source": [
    "# Standard math operators work as expected on numbers\n",
    "a = 2\n",
    "b = 3"
   ]
  },
  {
   "cell_type": "code",
   "execution_count": 6,
   "metadata": {},
   "outputs": [
    {
     "data": {
      "text/plain": [
       "5"
      ]
     },
     "execution_count": 6,
     "metadata": {},
     "output_type": "execute_result"
    }
   ],
   "source": [
    "a + b"
   ]
  },
  {
   "cell_type": "code",
   "execution_count": 7,
   "metadata": {},
   "outputs": [
    {
     "data": {
      "text/plain": [
       "-1"
      ]
     },
     "execution_count": 7,
     "metadata": {},
     "output_type": "execute_result"
    }
   ],
   "source": [
    "a - b"
   ]
  },
  {
   "cell_type": "code",
   "execution_count": 8,
   "metadata": {},
   "outputs": [
    {
     "data": {
      "text/plain": [
       "6"
      ]
     },
     "execution_count": 8,
     "metadata": {},
     "output_type": "execute_result"
    }
   ],
   "source": [
    "a * b"
   ]
  },
  {
   "cell_type": "code",
   "execution_count": 9,
   "metadata": {},
   "outputs": [
    {
     "data": {
      "text/plain": [
       "0.6666666666666666"
      ]
     },
     "execution_count": 9,
     "metadata": {},
     "output_type": "execute_result"
    }
   ],
   "source": [
    "a / b"
   ]
  },
  {
   "cell_type": "code",
   "execution_count": 10,
   "metadata": {},
   "outputs": [
    {
     "data": {
      "text/plain": [
       "1"
      ]
     },
     "execution_count": 10,
     "metadata": {},
     "output_type": "execute_result"
    }
   ],
   "source": [
    "b % a"
   ]
  },
  {
   "cell_type": "code",
   "execution_count": 11,
   "metadata": {},
   "outputs": [
    {
     "data": {
      "text/plain": [
       "8"
      ]
     },
     "execution_count": 11,
     "metadata": {},
     "output_type": "execute_result"
    }
   ],
   "source": [
    "a**b"
   ]
  },
  {
   "cell_type": "code",
   "execution_count": 12,
   "metadata": {},
   "outputs": [
    {
     "data": {
      "text/plain": [
       "1.4142135623730951"
      ]
     },
     "execution_count": 12,
     "metadata": {},
     "output_type": "execute_result"
    }
   ],
   "source": [
    "2**(1/2)"
   ]
  },
  {
   "cell_type": "code",
   "execution_count": 13,
   "metadata": {},
   "outputs": [
    {
     "name": "stdout",
     "output_type": "stream",
     "text": [
      "helloworld\n",
      "hellohellohello\n"
     ]
    }
   ],
   "source": [
    "# There are also operators for strings\n",
    "print('hello' + 'world') # notice that the + operator won't include a space\n",
    "print('hello' * 3) # This can be very useful for building up larger strings as sequences"
   ]
  },
  {
   "cell_type": "code",
   "execution_count": 14,
   "metadata": {},
   "outputs": [
    {
     "name": "stdout",
     "output_type": "stream",
     "text": [
      "3\n"
     ]
    },
    {
     "name": "stdout",
     "output_type": "stream",
     "text": [
      "2.0\n",
      "3.141592653589793\n",
      "3.1416\n",
      "1.0\n"
     ]
    }
   ],
   "source": [
    "print(round(3.3))\n",
    "\n",
    "import numpy\n",
    "print(numpy.sqrt(4))\n",
    "print(numpy.pi) # just a constant\n",
    "print(round(numpy.pi, 4)) # round pi to 4 decimal places - use \"from sigfig import round\" for the sigfig version\n",
    "print(numpy.sin(numpy.pi/2))"
   ]
  },
  {
   "cell_type": "code",
   "execution_count": 15,
   "metadata": {},
   "outputs": [
    {
     "name": "stdout",
     "output_type": "stream",
     "text": [
      "['blueberry', 'strawberry', 'apple', 'rubarb', 'cherry'] <class 'list'>\n"
     ]
    }
   ],
   "source": [
    "# Lists are created with square bracket syntax\n",
    "pies = ['blueberry', 'strawberry', 'apple', 'rubarb', 'cherry']\n",
    "print(pies, type(pies))"
   ]
  },
  {
   "cell_type": "code",
   "execution_count": 16,
   "metadata": {},
   "outputs": [
    {
     "name": "stdout",
     "output_type": "stream",
     "text": [
      "blueberry\n",
      "strawberry\n",
      "last item is: cherry\n",
      "second to last item is: rubarb\n"
     ]
    }
   ],
   "source": [
    "# Lists (and all collections) are also indexed with square brackets\n",
    "# NOTE: The first index is zero, not one\n",
    "print(pies[0])\n",
    "print(pies[1])\n",
    "\n",
    "## You can also count from the end of the list\n",
    "print('last item is:', pies[-1])\n",
    "print('second to last item is:', pies[-2]) # notice that the comma between things in a print() adds spaces"
   ]
  },
  {
   "cell_type": "code",
   "execution_count": 17,
   "metadata": {},
   "outputs": [
    {
     "name": "stdout",
     "output_type": "stream",
     "text": [
      "last item is now: pumpkin\n"
     ]
    }
   ],
   "source": [
    "# We can add things to the list\n",
    "pies.append('pumpkin')\n",
    "print('last item is now:', pies[-1])"
   ]
  },
  {
   "cell_type": "code",
   "execution_count": 18,
   "metadata": {},
   "outputs": [
    {
     "name": "stdout",
     "output_type": "stream",
     "text": [
      "['strawberry', 'rubarb', 'pumpkin', 'cherry', 'blueberry', 'apple']\n",
      "['strawberry', 'rubarb', 'pumpkin', 'blueberry', 'apple']\n"
     ]
    },
    {
     "ename": "ValueError",
     "evalue": "list.remove(x): x not in list",
     "output_type": "error",
     "traceback": [
      "\u001b[1;31m---------------------------------------------------------------------------\u001b[0m",
      "\u001b[1;31mValueError\u001b[0m                                Traceback (most recent call last)",
      "Cell \u001b[1;32mIn[18], line 9\u001b[0m\n\u001b[0;32m      7\u001b[0m \u001b[38;5;28mprint\u001b[39m(pies)\n\u001b[0;32m      8\u001b[0m \u001b[38;5;66;03m# if you try to remove something not in the list, you'll get an error\u001b[39;00m\n\u001b[1;32m----> 9\u001b[0m \u001b[43mpies\u001b[49m\u001b[38;5;241;43m.\u001b[39;49m\u001b[43mremove\u001b[49m\u001b[43m(\u001b[49m\u001b[38;5;124;43m'\u001b[39;49m\u001b[38;5;124;43mcherry\u001b[39;49m\u001b[38;5;124;43m'\u001b[39;49m\u001b[43m)\u001b[49m\n",
      "\u001b[1;31mValueError\u001b[0m: list.remove(x): x not in list"
     ]
    }
   ],
   "source": [
    "# lists have a .sort(method) .. and a .reverse() method\n",
    "pies.sort()\n",
    "pies.reverse()\n",
    "print(pies)\n",
    "# you can also remove items (e.g., if my kids eat one of the pies)\n",
    "pies.remove('cherry')\n",
    "print(pies)\n",
    "# if you try to remove something not in the list, you'll get an error\n",
    "pies.remove('cherry') # we only had one cherry pie, sorry"
   ]
  },
  {
   "cell_type": "code",
   "execution_count": 19,
   "metadata": {},
   "outputs": [
    {
     "name": "stdout",
     "output_type": "stream",
     "text": [
      "100\n",
      "93\n",
      "86\n",
      "79\n",
      "72\n",
      "65\n",
      "58\n",
      "51\n",
      "44\n",
      "37\n",
      "30\n",
      "23\n",
      "16\n",
      "9\n",
      "2\n",
      "Congrats, you passed the test\n"
     ]
    }
   ],
   "source": [
    "number = 100\n",
    "while number > 0:\n",
    "    print(number)\n",
    "    number = number - 7\n",
    "print('Congrats, you passed the test')"
   ]
  },
  {
   "cell_type": "code",
   "execution_count": 20,
   "metadata": {
    "scrolled": true
   },
   "outputs": [
    {
     "name": "stdout",
     "output_type": "stream",
     "text": [
      "100\n",
      "93\n",
      "86\n",
      "79\n",
      "72\n",
      "65\n",
      "58\n",
      "51\n",
      "44\n",
      "37\n",
      "30\n",
      "23\n",
      "16\n",
      "9\n",
      "2\n",
      "Finished\n"
     ]
    }
   ],
   "source": [
    "# repeat starting at 100, ending at 0, and going by -7 each time\n",
    "for number in range(100, 0, -7):\n",
    "    print(number)\n",
    "print('Finished')"
   ]
  }
 ],
 "metadata": {
  "kernelspec": {
   "display_name": "base",
   "language": "python",
   "name": "python3"
  },
  "language_info": {
   "codemirror_mode": {
    "name": "ipython",
    "version": 3
   },
   "file_extension": ".py",
   "mimetype": "text/x-python",
   "name": "python",
   "nbconvert_exporter": "python",
   "pygments_lexer": "ipython3",
   "version": "3.10.9"
  },
  "toc": {
   "base_numbering": 1,
   "nav_menu": {},
   "number_sections": false,
   "sideBar": false,
   "skip_h1_title": false,
   "title_cell": "Table of Contents",
   "title_sidebar": "Contents",
   "toc_cell": false,
   "toc_position": {},
   "toc_section_display": false,
   "toc_window_display": false
  },
  "vscode": {
   "interpreter": {
    "hash": "a7322cd65eec679d3161492e85e84add5ac4e3cc28e76a062695347f6d4d8f6c"
   }
  }
 },
 "nbformat": 4,
 "nbformat_minor": 4
}