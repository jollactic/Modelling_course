{
 "cells": [
  {
   "attachments": {},
   "cell_type": "markdown",
   "metadata": {},
   "source": [
    "# Python Basics\n",
    "(adapted from CHEM 1000 - Spring 2023 by Prof. Geoffrey Hutchison, University of Pittsburgh)\n",
    "\n",
    "The best way to learn coding or a new programming language is to do something useful. Not only will you have more motivation, but the time invested for the skill will be repaid in (hopefully) doing that useful task.\n",
    "\n",
    "**Learning Objectives**\n",
    "\n",
    "By the end of this recitation / notebook, you should be able to:\n",
    "- Read and write basic Python\n",
    "- Assign variables in Python\n",
    "- Call Python functions and methods\n",
    "- Load Python modules with `import`\n",
    "- Understand simple `for` and `while` loops\n",
    "\n",
    "**Attribution**\n",
    "\n",
    "Much of this recitation has been adapted from [Software Carpentry - Scientific Python Basics](https://bids.github.io/2016-01-14-berkeley/python/00-python-intro.html) and [Mathematical Python by Patrick Wills](https://github.com/patrickwalls/mathematical-python/tree/master/python)"
   ]
  },
  {
   "attachments": {},
   "cell_type": "markdown",
   "metadata": {},
   "source": [
    "## Variables / Things\n",
    "\n",
    "The most basic component of any programming language are \"things\", also called variables or (in special cases) objects.\n",
    "\n",
    "The most common basic \"things\" in Python are:\n",
    "- integers (e.g., `0`, `1`, `-2`, etc.)\n",
    "- floats (i.e., floating-point decimals like `2.5`, `3.14159`, `6.02e23` = $6.02 \\times 10^{23}$, `1.5e-10` = $1.5\\times10^{-10}$, etc.)\n",
    "- strings (e.g., `'Chem 1000'`, `'H2P'`, `\"Math for Chemistry\"`)\n",
    "- booleans (i.e., `True` and `False` - note that these are case-sensitive)\n",
    "- some special objects of various types.\n",
    "We'll meet many of these as we go through the lesson.\n",
    "\n",
    "**TIP:** To run the code in a cell quickly, press `Ctrl-Enter`."
   ]
  },
  {
   "cell_type": "code",
   "execution_count": 1,
   "metadata": {},
   "outputs": [
    {
     "data": {
      "text/plain": [
       "2"
      ]
     },
     "execution_count": 1,
     "metadata": {},
     "output_type": "execute_result"
    }
   ],
   "source": [
    "# a thing\n",
    "2"
   ]
  },
  {
   "cell_type": "code",
   "execution_count": 2,
   "metadata": {},
   "outputs": [
    {
     "name": "stdout",
     "output_type": "stream",
     "text": [
      "2\n",
      "hello\n"
     ]
    }
   ],
   "source": [
    "# Use print to show multiple things in the same cell\n",
    "# Note that you can use single or double quotes for strings\n",
    "print(2)\n",
    "print('hello')"
   ]
  },
  {
   "attachments": {},
   "cell_type": "markdown",
   "metadata": {},
   "source": [
    "### Assign Values to Variables\n",
    "\n",
    "Sometimes we want a label for a number, string, etc. Like we don't always want to type out 3.141592653589793238 every time we refer to $\\pi$.\n",
    "\n",
    "Variables are just a programmer term for labels for out information .. floats, strings, lists, etc.\n",
    "\n",
    "We assign a value to a variable using the assignment operator `=`. For example, assign the integer 2 to the variable `x`:"
   ]
  },
  {
   "cell_type": "code",
   "execution_count": 1,
   "metadata": {},
   "outputs": [],
   "source": [
    "# Things can be stored as variables\n",
    "x = 2\n",
    "y = 'hello' # strings can be in single quotes or double quotes\n",
    "z = True  # True and False are case sensitive"
   ]
  },
  {
   "cell_type": "markdown",
   "metadata": {},
   "source": [
    "The assignment operator does not produce any output and so the cell above does not produce any output in a Jupyter notebook. Use the built-in function `print` to display the value assigned to a variable:"
   ]
  },
  {
   "cell_type": "code",
   "execution_count": 2,
   "metadata": {},
   "outputs": [
    {
     "name": "stdout",
     "output_type": "stream",
     "text": [
      "2\n"
     ]
    }
   ],
   "source": [
    "print(x)"
   ]
  },
  {
   "attachments": {},
   "cell_type": "markdown",
   "metadata": {},
   "source": [
    "## Naming Conventions\n",
    "\n",
    "We can use any set of letters, numbers and underscores to make variable names however a variable name *cannot* begin with a number. There are many different kinds of naming conventions and we refer to the [Style Guide for Python Code (PEP8)](https://www.python.org/dev/peps/pep-0008/#naming-conventions) for a summary.\n",
    "\n",
    "In general, in Python, people use `lower_case_with_underscores` variable names and single lowercase letter variable names such as `x`. It is good practice to use descriptive variable names, like `height_in_meters` to make your code more readable for other people (including yourself looking back later).\n",
    "\n",
    "However there are words that we should not use as variable names because these words already have special meaning in Python, including [reserved words](https://docs.python.org/3.3/reference/lexical_analysis.html#keywords) and built-in functions For example, do not use `class`, `import`, `sum`, `min`, `max`, `list` or `sorted` as a variable name. See the full list of [builtin functions](https://docs.python.org/3/library/functions.html). Generally if you either use single letters or descriptive `words_with_underscores` you should be fine."
   ]
  },
  {
   "attachments": {},
   "cell_type": "markdown",
   "metadata": {},
   "source": [
    "## Commands that operate on things\n",
    "\n",
    "Just storing data in variables isn't much use to us. Right away, we'd like to start performing operations and manipulations on data and variables.\n",
    "\n",
    "There are three very common means of performing an operation on a thing.\n",
    "\n",
    "### Use an operator\n",
    "All of the basic math operators work like you think they should for numbers. They can also do some useful operations on other things, like strings.\n",
    "\n",
    "Number operators include `+`, `-`, `*`, and `/` as well as `%` for integer remainder and `**` for exponents:\n",
    "\n",
    "| operator name|operator|syntax|How to read|\n",
    "|---|---|---|---|\n",
    "| addition|+|a + b|a plus b|\n",
    "| subtraction|-|a - b|a minus b|\n",
    "| multiplication|\\*|a \\* b|a times b|\n",
    "| division|\\/|a \\/ b|a divided by b|\n",
    "| remainder|%|a % b|a modulo b|\n",
    "| power|**|a**b|a to the power b|"
   ]
  },
  {
   "cell_type": "code",
   "execution_count": 3,
   "metadata": {},
   "outputs": [],
   "source": [
    "# Standard math operators work as expected on numbers\n",
    "a = 2\n",
    "b = 3"
   ]
  },
  {
   "cell_type": "markdown",
   "metadata": {},
   "source": [
    "Okay, we can add them:"
   ]
  },
  {
   "cell_type": "code",
   "execution_count": 4,
   "metadata": {},
   "outputs": [
    {
     "data": {
      "text/plain": [
       "5"
      ]
     },
     "execution_count": 4,
     "metadata": {},
     "output_type": "execute_result"
    }
   ],
   "source": [
    "a + b"
   ]
  },
  {
   "cell_type": "markdown",
   "metadata": {},
   "source": [
    "We can subtract:"
   ]
  },
  {
   "cell_type": "code",
   "execution_count": 5,
   "metadata": {},
   "outputs": [
    {
     "data": {
      "text/plain": [
       "-1"
      ]
     },
     "execution_count": 5,
     "metadata": {},
     "output_type": "execute_result"
    }
   ],
   "source": [
    "a - b"
   ]
  },
  {
   "cell_type": "markdown",
   "metadata": {},
   "source": [
    "Multiply:"
   ]
  },
  {
   "cell_type": "code",
   "execution_count": 6,
   "metadata": {},
   "outputs": [
    {
     "data": {
      "text/plain": [
       "6"
      ]
     },
     "execution_count": 6,
     "metadata": {},
     "output_type": "execute_result"
    }
   ],
   "source": [
    "a * b"
   ]
  },
  {
   "cell_type": "markdown",
   "metadata": {},
   "source": [
    "Divide:"
   ]
  },
  {
   "cell_type": "code",
   "execution_count": 7,
   "metadata": {},
   "outputs": [
    {
     "data": {
      "text/plain": [
       "0.6666666666666666"
      ]
     },
     "execution_count": 7,
     "metadata": {},
     "output_type": "execute_result"
    }
   ],
   "source": [
    "a / b"
   ]
  },
  {
   "cell_type": "markdown",
   "metadata": {},
   "source": [
    "Get a remainder:"
   ]
  },
  {
   "cell_type": "code",
   "execution_count": 8,
   "metadata": {},
   "outputs": [
    {
     "data": {
      "text/plain": [
       "1"
      ]
     },
     "execution_count": 8,
     "metadata": {},
     "output_type": "execute_result"
    }
   ],
   "source": [
    "b % a"
   ]
  },
  {
   "cell_type": "markdown",
   "metadata": {},
   "source": [
    "And perform powers / exponents:"
   ]
  },
  {
   "cell_type": "code",
   "execution_count": 9,
   "metadata": {},
   "outputs": [
    {
     "data": {
      "text/plain": [
       "8"
      ]
     },
     "execution_count": 9,
     "metadata": {},
     "output_type": "execute_result"
    }
   ],
   "source": [
    "a**b"
   ]
  },
  {
   "cell_type": "markdown",
   "metadata": {},
   "source": [
    "A few notes.. we can also perform exponents with fractions (e.g., square root). Note that the parentheses will take precedence over the exponent:"
   ]
  },
  {
   "cell_type": "code",
   "execution_count": 10,
   "metadata": {},
   "outputs": [
    {
     "data": {
      "text/plain": [
       "1.4142135623730951"
      ]
     },
     "execution_count": 10,
     "metadata": {},
     "output_type": "execute_result"
    }
   ],
   "source": [
    "2**(1/2)"
   ]
  },
  {
   "cell_type": "code",
   "execution_count": 11,
   "metadata": {},
   "outputs": [
    {
     "name": "stdout",
     "output_type": "stream",
     "text": [
      "helloworld\n",
      "hellohellohello\n"
     ]
    }
   ],
   "source": [
    "# There are also operators for strings\n",
    "print('hello' + 'world') # notice that the + operator won't include a space\n",
    "print('hello' * 3) # This can be very useful for building up larger strings as sequences"
   ]
  },
  {
   "attachments": {},
   "cell_type": "markdown",
   "metadata": {},
   "source": [
    "## Use a function\n",
    "\n",
    "These will be very familiar to anyone who has programmed in any language, and work like you\n",
    "would expect. Functions have a syntax like:\n",
    "\n",
    "`name( *parameters* ) # sometimes with multiple parameters.`\n",
    "\n",
    "**TIP:** Many useful functions are not in the Python itself, but are in external \"modules\" or \"libraries\". These need to be imported into your Python notebook (or program) before they can be used. Some of the most important of these are `math`, `numpy` and `matplotlib`."
   ]
  },
  {
   "cell_type": "code",
   "execution_count": 12,
   "metadata": {},
   "outputs": [
    {
     "name": "stdout",
     "output_type": "stream",
     "text": [
      "3\n",
      "2.0\n",
      "3.141592653589793\n",
      "3.1416\n",
      "1.0\n"
     ]
    }
   ],
   "source": [
    "print(round(3.3))\n",
    "\n",
    "import numpy\n",
    "print(numpy.sqrt(4))\n",
    "print(numpy.pi) # just a constant\n",
    "print(round(numpy.pi, 4)) # round pi to 4 decimal places - use \"from sigfig import round\" for the sigfig version\n",
    "print(numpy.sin(numpy.pi/2))"
   ]
  },
  {
   "attachments": {},
   "cell_type": "markdown",
   "metadata": {},
   "source": [
    "## Modules\n",
    "\n",
    "As mentioned above, much of the power of Python is that there are many, many useful modules, particularly for science, math, statistics, machine learning, .. We load these tools with statements like:\n",
    "\n",
    "`import cmath`\n",
    "\n",
    "`from sympy import ode`\n",
    "\n",
    "These statements will load additional functions to our Python notebooks and scripts. To prevent confusion, we will typically use a prefix for these functions:\n",
    "\n",
    "- `math.sqrt` (from the math module)\n",
    "- `numpy.sqrt` (from the numpy module)\n"
   ]
  },
  {
   "attachments": {},
   "cell_type": "markdown",
   "metadata": {},
   "source": [
    "## Collections\n",
    "\n",
    "While it is interesting to explore your own height, in science we work with larger  slightly more complex datasets. In this example, we are interested in the characteristics and distribution of heights. Python provides us with a number of objects to handle collections.\n",
    "\n",
    "Probably 99% of your work in scientific Python will use `lists` and `numpy` `arrays`. We'll talk about `numpy` in another session - basically, it offers ways to do math on lists/vectors, matrices, and the like."
   ]
  },
  {
   "cell_type": "markdown",
   "metadata": {},
   "source": [
    "Lists are probably the handiest and most flexible type of container.\n",
    "\n",
    "Lists are declared with square brackets `[]`.\n",
    "\n",
    "Individual elements of a list can be selected using the syntax `a[ind]`.\n",
    "\n",
    "One \"gotcha\" for people new to programming is that lists in Python (and many other programming languages) start at 0."
   ]
  },
  {
   "cell_type": "code",
   "execution_count": 13,
   "metadata": {},
   "outputs": [
    {
     "name": "stdout",
     "output_type": "stream",
     "text": [
      "['blueberry', 'strawberry', 'apple', 'rubarb', 'cherry'] <class 'list'>\n"
     ]
    }
   ],
   "source": [
    "# Lists are created with square bracket syntax\n",
    "pies = ['blueberry', 'strawberry', 'apple', 'rubarb', 'cherry']\n",
    "print(pies, type(pies))"
   ]
  },
  {
   "cell_type": "code",
   "execution_count": 14,
   "metadata": {},
   "outputs": [
    {
     "name": "stdout",
     "output_type": "stream",
     "text": [
      "blueberry\n",
      "strawberry\n",
      "last item is: cherry\n",
      "second to last item is: rubarb\n"
     ]
    }
   ],
   "source": [
    "# Lists (and all collections) are also indexed with square brackets\n",
    "# NOTE: The first index is zero, not one\n",
    "print(pies[0])\n",
    "print(pies[1])\n",
    "\n",
    "## You can also count from the end of the list\n",
    "print('last item is:', pies[-1])\n",
    "print('second to last item is:', pies[-2]) # notice that the comma between things in a print() adds spaces"
   ]
  },
  {
   "cell_type": "code",
   "execution_count": 15,
   "metadata": {},
   "outputs": [
    {
     "name": "stdout",
     "output_type": "stream",
     "text": [
      "last item is now: pumpkin\n"
     ]
    }
   ],
   "source": [
    "# We can add things to the list\n",
    "pies.append('pumpkin')\n",
    "print('last item is now:', pies[-1])"
   ]
  },
  {
   "cell_type": "markdown",
   "metadata": {},
   "source": [
    "What is a method? It's a type of function. Some types of variables, called objects contain data as well as functions (called methods) to manipulate that data. Everything in Python is an object! The list `pies` in the cell above contains the string entries (the data) but it also has methods like `append()` to manipulate the data. "
   ]
  },
  {
   "cell_type": "code",
   "execution_count": 16,
   "metadata": {},
   "outputs": [
    {
     "name": "stdout",
     "output_type": "stream",
     "text": [
      "['strawberry', 'rubarb', 'pumpkin', 'cherry', 'blueberry', 'apple']\n",
      "['strawberry', 'rubarb', 'pumpkin', 'blueberry', 'apple']\n"
     ]
    },
    {
     "ename": "ValueError",
     "evalue": "list.remove(x): x not in list",
     "output_type": "error",
     "traceback": [
      "\u001b[1;31m---------------------------------------------------------------------------\u001b[0m",
      "\u001b[1;31mValueError\u001b[0m                                Traceback (most recent call last)",
      "Cell \u001b[1;32mIn[16], line 9\u001b[0m\n\u001b[0;32m      7\u001b[0m \u001b[39mprint\u001b[39m(pies)\n\u001b[0;32m      8\u001b[0m \u001b[39m# if you try to remove something not in the list, you'll get an error\u001b[39;00m\n\u001b[1;32m----> 9\u001b[0m pies\u001b[39m.\u001b[39;49mremove(\u001b[39m'\u001b[39;49m\u001b[39mcherry\u001b[39;49m\u001b[39m'\u001b[39;49m) \u001b[39m# we only had one cherry pie, sorry\u001b[39;00m\n",
      "\u001b[1;31mValueError\u001b[0m: list.remove(x): x not in list"
     ]
    }
   ],
   "source": [
    "# lists have a .sort(method) .. and a .reverse() method\n",
    "pies.sort()\n",
    "pies.reverse()\n",
    "print(pies)\n",
    "# you can also remove items (e.g., if my kids eat one of the pies)\n",
    "pies.remove('cherry')\n",
    "print(pies)\n",
    "# if you try to remove something not in the list, you'll get an error\n",
    "pies.remove('cherry') # we only had one cherry pie, sorry"
   ]
  },
  {
   "attachments": {},
   "cell_type": "markdown",
   "metadata": {},
   "source": [
    "## Loops\n",
    "\n",
    "Let's say you're asked to take a cognitive test and count backwards from 100 by 7:"
   ]
  },
  {
   "cell_type": "code",
   "execution_count": 17,
   "metadata": {},
   "outputs": [
    {
     "name": "stdout",
     "output_type": "stream",
     "text": [
      "100\n",
      "93\n",
      "86\n",
      "79\n",
      "72\n",
      "65\n",
      "58\n",
      "51\n",
      "44\n",
      "37\n",
      "30\n",
      "23\n",
      "16\n",
      "9\n",
      "2\n",
      "Congrats, you passed the test\n"
     ]
    }
   ],
   "source": [
    "number = 100\n",
    "while number > 0:\n",
    "    print(number)\n",
    "    number = number - 7\n",
    "print('Congrats, you passed the test')"
   ]
  },
  {
   "cell_type": "markdown",
   "metadata": {},
   "source": [
    "Notice that inside the `while` loop, we *indent* the code. You can do this by typing `Tab` as you type code, and Jupyter will insert 4 spaces. Any code that should run after the loop should have the same indentation as the `while` statement (i.e., at the left edge of the cell) like the final `print()` statement. Python uses indentation to track which code lines should run in particular scope / context (e.g, as part of a loop or not).\n",
    "\n",
    "Loops like these are a common case in programming, and we can do the same thing with a `for` loop. We'll use a new function - the `range()` function has three options:\n",
    "- start (100)\n",
    "- end (0)\n",
    "- step (-7 each time through the loop)"
   ]
  },
  {
   "cell_type": "code",
   "execution_count": 18,
   "metadata": {
    "scrolled": true
   },
   "outputs": [
    {
     "name": "stdout",
     "output_type": "stream",
     "text": [
      "100\n",
      "93\n",
      "86\n",
      "79\n",
      "72\n",
      "65\n",
      "58\n",
      "51\n",
      "44\n",
      "37\n",
      "30\n",
      "23\n",
      "16\n",
      "9\n",
      "2\n",
      "Finished\n"
     ]
    }
   ],
   "source": [
    "# repeat starting at 100, ending at 0, and going by -7 each time\n",
    "for number in range(100, 0, -7):\n",
    "    print(number)\n",
    "print('Finished')"
   ]
  },
  {
   "cell_type": "markdown",
   "metadata": {},
   "source": [
    "This is an important lesson - there are usually many ways to do the same thing in programming. For this class, we're using a small amount of code to help us get the correct answer. I don't care what the code looks like, although we need to read it for grading, and it needs to work. 😀 \n",
    "\n",
    "This is the origin of \"Software Carpentry\" for scientists - teaching researchers the key computing skills they need to get more done in less time and with less pain - not necessarily building large programs."
   ]
  },
  {
   "attachments": {},
   "cell_type": "markdown",
   "metadata": {},
   "source": [
    "## Final Thoughts\n",
    "\n",
    "There's obviously a lot more to Python programming, but this should cover the basics we need for this course. If you have questions about the tutorial here, or code in the future, please don't hestiate to ask at the labs or at the tuorial sessions. You can also ask questions in the Studium discussion forum."
   ]
  },
  {
   "attachments": {},
   "cell_type": "markdown",
   "metadata": {},
   "source": [
    "-------\n",
    "This notebook is adapted from Prof. Geoffrey Hutchison, University of Pittsburgh\n",
    "https://github.com/ghutchis/chem1000\n",
    "\n",
    "Portions have been adapted from [Software Carpentry - Scientific Python Basics](https://bids.github.io/2016-01-14-berkeley/python/00-python-intro.html) and [Mathematical Python by Patrick Wills](https://github.com/patrickwalls/mathematical-python/tree/master/python)\n",
    "\n",
    "<a rel=\"license\" href=\"http://creativecommons.org/licenses/by/4.0/\"><img alt=\"Creative Commons License\" style=\"border-width:0\" src=\"https://i.creativecommons.org/l/by/4.0/88x31.png\" /></a>"
   ]
  }
 ],
 "metadata": {
  "kernelspec": {
   "display_name": "base",
   "language": "python",
   "name": "python3"
  },
  "language_info": {
   "codemirror_mode": {
    "name": "ipython",
    "version": 3
   },
   "file_extension": ".py",
   "mimetype": "text/x-python",
   "name": "python",
   "nbconvert_exporter": "python",
   "pygments_lexer": "ipython3",
   "version": "3.9.7"
  },
  "toc": {
   "base_numbering": 1,
   "nav_menu": {},
   "number_sections": false,
   "sideBar": false,
   "skip_h1_title": false,
   "title_cell": "Table of Contents",
   "title_sidebar": "Contents",
   "toc_cell": false,
   "toc_position": {},
   "toc_section_display": false,
   "toc_window_display": false
  },
  "vscode": {
   "interpreter": {
    "hash": "a7322cd65eec679d3161492e85e84add5ac4e3cc28e76a062695347f6d4d8f6c"
   }
  }
 },
 "nbformat": 4,
 "nbformat_minor": 4
}
