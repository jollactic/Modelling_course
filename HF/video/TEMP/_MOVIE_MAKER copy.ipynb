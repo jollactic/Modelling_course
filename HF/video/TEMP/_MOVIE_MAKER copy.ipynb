{
 "cells": [
  {
   "attachments": {},
   "cell_type": "markdown",
   "metadata": {},
   "source": [
    "# 1. SPLIT UP THE PDF"
   ]
  },
  {
   "cell_type": "code",
   "execution_count": 43,
   "metadata": {},
   "outputs": [],
   "source": [
    "from pdf2image import convert_from_path\n",
    "\n",
    "sec_name='BO_SE'\n",
    "\n",
    "# Store Pdf with convert_from_path function\n",
    "images = convert_from_path(f'{sec_name}.pdf')\n",
    " \n",
    "for i in range(len(images)):\n",
    "   \n",
    "      # Save pages as images in the pdf\n",
    "    images[i].save('page'+ str(i) +'.jpg', 'JPEG')"
   ]
  },
  {
   "attachments": {},
   "cell_type": "markdown",
   "metadata": {},
   "source": [
    "# 2. DEFINE FUNCTIONS TO READ IN THE TEXT AND BUILD UP VIDEO"
   ]
  },
  {
   "cell_type": "code",
   "execution_count": 44,
   "metadata": {},
   "outputs": [],
   "source": [
    "import pyttsx3\n",
    "from PIL import Image\n",
    "from moviepy.editor import *\n",
    "import numpy as np\n",
    "\n",
    "\n",
    "\n",
    "def speak(text,write=False):\n",
    "    engine = pyttsx3.init()\n",
    "    # Set the voice to a voice similar to Stephen Hawking's voice\n",
    "    voice_id = \"english_rp+whisper\"\n",
    "    engine.setProperty('voice', voice_id)\n",
    "    # Set the pace to a slower speed\n",
    "    engine.setProperty('rate', 125)\n",
    "    if write:\n",
    "        engine.save_to_file(text, \"tmp.mp3\")\n",
    "    else:\n",
    "        engine.say(text)\n",
    "    \n",
    "    engine.runAndWait()\n",
    "\n",
    "\n",
    "def read_in_page(page=0,text=\"\",pause=0,output='tmp',draft=True):\n",
    "    if draft:\n",
    "        speak(text)\n",
    "    else:\n",
    "        bitrate='5000k'\n",
    "        # Read in image\n",
    "        image = Image.open(f'page{page}.jpg')\n",
    "        width, height = image.size\n",
    "        pil_image = np.array(image.copy())\n",
    "\n",
    "        # Convert text to speech using pyttsx3\n",
    "        speak(text,write=True)\n",
    "\n",
    "        # Create audio clip\n",
    "        audio_clip = AudioFileClip(\"tmp.mp3\")\n",
    "        duration = audio_clip.duration+pause\n",
    "        silence_clip = AudioClip(make_frame=lambda t: [0,0], duration=pause)\n",
    "        audio_clip = concatenate_audioclips([audio_clip,silence_clip])\n",
    "\n",
    "        # Create video clip\n",
    "        clip = ImageClip(pil_image, duration=duration)\n",
    "\n",
    "        # Add audio to video clip\n",
    "        final_clip = clip.set_audio(audio_clip)\n",
    "\n",
    "        # Save as MP4 file\n",
    "        final_clip.write_videofile(f'page{page}.mp4', fps=24,bitrate=bitrate)    \n",
    "\n"
   ]
  },
  {
   "attachments": {},
   "cell_type": "markdown",
   "metadata": {},
   "source": [
    "# 3. Read in text to the slides!\n",
    "\n",
    "use `draft=True` in the read_in_page to simply listen to the text"
   ]
  },
  {
   "cell_type": "code",
   "execution_count": 45,
   "metadata": {},
   "outputs": [],
   "source": [
    "draft=False"
   ]
  },
  {
   "cell_type": "code",
   "execution_count": 46,
   "metadata": {},
   "outputs": [
    {
     "name": "stderr",
     "output_type": "stream",
     "text": [
      "                                                               \n",
      "                                                               \n",
      "t:  16%|█▌        | 105/674 [04:29<00:05, 102.89it/s, now=None]"
     ]
    },
    {
     "name": "stdout",
     "output_type": "stream",
     "text": [
      "Moviepy - Building video page0.mp4.\n",
      "MoviePy - Writing audio in page0TEMP_MPY_wvf_snd.mp3\n"
     ]
    },
    {
     "name": "stderr",
     "output_type": "stream",
     "text": [
      "\n",
      "\u001b[A\n",
      "\u001b[A\n",
      "                                                               \n",
      "                                                               \n",
      "\u001b[A                                                           "
     ]
    },
    {
     "name": "stdout",
     "output_type": "stream",
     "text": [
      "MoviePy - Done.\n"
     ]
    },
    {
     "name": "stderr",
     "output_type": "stream",
     "text": [
      "t:  16%|█▌        | 105/674 [04:29<00:05, 102.89it/s, now=None]"
     ]
    },
    {
     "name": "stdout",
     "output_type": "stream",
     "text": [
      "Moviepy - Writing video page0.mp4\n",
      "\n"
     ]
    },
    {
     "name": "stderr",
     "output_type": "stream",
     "text": [
      "\n",
      "\u001b[A\n",
      "\u001b[A\n",
      "\u001b[A\n",
      "\u001b[A\n",
      "\u001b[A\n",
      "\u001b[A\n",
      "\u001b[A\n",
      "\u001b[A\n",
      "\u001b[A\n",
      "\u001b[A\n",
      "\u001b[A\n",
      "\u001b[A\n",
      "\u001b[A\n",
      "\u001b[A\n",
      "\u001b[A\n",
      "\u001b[A\n",
      "\u001b[A\n",
      "\u001b[A\n",
      "\u001b[A\n",
      "\u001b[A\n",
      "\u001b[A\n",
      "\u001b[A\n",
      "\u001b[A\n",
      "\u001b[A\n",
      "\u001b[A\n",
      "\u001b[A\n",
      "\u001b[A\n",
      "                                                               \n",
      "                                                               \n",
      "t:  16%|█▌        | 105/674 [04:33<00:05, 102.89it/s, now=None]"
     ]
    },
    {
     "name": "stdout",
     "output_type": "stream",
     "text": [
      "Moviepy - Done !\n",
      "Moviepy - video ready page0.mp4\n"
     ]
    }
   ],
   "source": [
    "# SLIDE 0\n",
    "p = '''\n",
    "In this video we will look at the Born-Oppenheimer approximation and the electronic Schrödinger equation.\n",
    "'''\n",
    "read_in_page(page=0,text=p,pause=2,output=sec_name,draft=draft)\n"
   ]
  },
  {
   "cell_type": "code",
   "execution_count": 47,
   "metadata": {},
   "outputs": [
    {
     "name": "stderr",
     "output_type": "stream",
     "text": [
      "                                                               \n",
      "                                                               \n",
      "t:  16%|█▌        | 105/674 [04:34<00:05, 102.89it/s, now=None]"
     ]
    },
    {
     "name": "stdout",
     "output_type": "stream",
     "text": [
      "Moviepy - Building video page1.mp4.\n",
      "MoviePy - Writing audio in page1TEMP_MPY_wvf_snd.mp3\n"
     ]
    },
    {
     "name": "stderr",
     "output_type": "stream",
     "text": [
      "\n",
      "\u001b[A\n",
      "\u001b[A\n",
      "\u001b[A\n",
      "\u001b[A\n",
      "\u001b[A\n",
      "                                                               \n",
      "                                                               \n",
      "t:  16%|█▌        | 105/674 [04:34<00:05, 102.89it/s, now=None]"
     ]
    },
    {
     "name": "stdout",
     "output_type": "stream",
     "text": [
      "MoviePy - Done.\n",
      "Moviepy - Writing video page1.mp4\n",
      "\n"
     ]
    },
    {
     "name": "stderr",
     "output_type": "stream",
     "text": [
      "\n",
      "\u001b[A\n",
      "\u001b[A\n",
      "\u001b[A\n",
      "\u001b[A\n",
      "\u001b[A\n",
      "\u001b[A\n",
      "\u001b[A\n",
      "\u001b[A\n",
      "\u001b[A\n",
      "\u001b[A\n",
      "\u001b[A\n",
      "\u001b[A\n",
      "\u001b[A\n",
      "\u001b[A\n",
      "\u001b[A\n",
      "\u001b[A\n",
      "\u001b[A\n",
      "\u001b[A\n",
      "\u001b[A\n",
      "\u001b[A\n",
      "\u001b[A\n",
      "\u001b[A\n",
      "\u001b[A\n",
      "\u001b[A\n",
      "\u001b[A\n",
      "\u001b[A\n",
      "\u001b[A\n",
      "\u001b[A\n",
      "\u001b[A\n",
      "\u001b[A\n",
      "\u001b[A\n",
      "\u001b[A\n",
      "\u001b[A\n",
      "\u001b[A\n",
      "\u001b[A\n",
      "\u001b[A\n",
      "\u001b[A\n",
      "\u001b[A\n",
      "\u001b[A\n",
      "\u001b[A\n",
      "\u001b[A\n",
      "\u001b[A\n",
      "\u001b[A\n",
      "\u001b[A\n",
      "\u001b[A\n",
      "\u001b[A\n",
      "\u001b[A\n",
      "\u001b[A\n",
      "\u001b[A\n",
      "\u001b[A\n",
      "\u001b[A\n",
      "\u001b[A\n",
      "\u001b[A\n",
      "\u001b[A\n",
      "\u001b[A\n",
      "\u001b[A\n",
      "\u001b[A\n",
      "\u001b[A\n",
      "\u001b[A\n",
      "\u001b[A\n",
      "\u001b[A\n",
      "\u001b[A\n",
      "\u001b[A\n",
      "\u001b[A\n",
      "\u001b[A\n",
      "\u001b[A\n",
      "\u001b[A\n",
      "\u001b[A\n",
      "\u001b[A\n",
      "\u001b[A\n",
      "\u001b[A\n",
      "\u001b[A\n",
      "\u001b[A\n",
      "\u001b[A\n",
      "\u001b[A\n",
      "\u001b[A\n",
      "\u001b[A\n",
      "\u001b[A\n",
      "\u001b[A\n",
      "\u001b[A\n",
      "\u001b[A\n",
      "\u001b[A\n",
      "\u001b[A\n",
      "\u001b[A\n",
      "                                                               \n",
      "                                                               \n",
      "t:  16%|█▌        | 105/674 [04:44<00:05, 102.89it/s, now=None]"
     ]
    },
    {
     "name": "stdout",
     "output_type": "stream",
     "text": [
      "Moviepy - Done !\n",
      "Moviepy - video ready page1.mp4\n"
     ]
    }
   ],
   "source": [
    "#SLIDE 1\n",
    "p = '''\n",
    "The Born-Oppenheimer approximation is a central theoretical framework used in quantum chemistry and physics, to simplify the calculation of the electronic structure of molecules and materials. It is based on the assumption that the motion of the atomic nuclei and the electrons can be treated separately. The mass ratio between any nucleus and an electron is at least 1836 to 1. Thus effectively, electrons adjust themselves instantaneously to nuclear configurations. \n",
    "'''\n",
    "#speak(p)\n",
    "read_in_page(page=1,text=p,pause=2,output=sec_name,draft=draft)\n"
   ]
  },
  {
   "cell_type": "code",
   "execution_count": 48,
   "metadata": {},
   "outputs": [
    {
     "name": "stderr",
     "output_type": "stream",
     "text": [
      "                                                               \n",
      "                                                               \n",
      "t:  16%|█▌        | 105/674 [04:44<00:05, 102.89it/s, now=None]"
     ]
    },
    {
     "name": "stdout",
     "output_type": "stream",
     "text": [
      "Moviepy - Building video page2.mp4.\n",
      "MoviePy - Writing audio in page2TEMP_MPY_wvf_snd.mp3\n"
     ]
    },
    {
     "name": "stderr",
     "output_type": "stream",
     "text": [
      "\n",
      "\u001b[A\n",
      "\u001b[A\n",
      "\u001b[A\n",
      "\u001b[A\n",
      "                                                               \n",
      "                                                               \n",
      "t:  16%|█▌        | 105/674 [04:44<00:05, 102.89it/s, now=None]"
     ]
    },
    {
     "name": "stdout",
     "output_type": "stream",
     "text": [
      "MoviePy - Done.\n",
      "Moviepy - Writing video page2.mp4\n",
      "\n"
     ]
    },
    {
     "name": "stderr",
     "output_type": "stream",
     "text": [
      "\n",
      "\u001b[A\n",
      "\u001b[A\n",
      "\u001b[A\n",
      "\u001b[A\n",
      "\u001b[A\n",
      "\u001b[A\n",
      "\u001b[A\n",
      "\u001b[A\n",
      "\u001b[A\n",
      "\u001b[A\n",
      "\u001b[A\n",
      "\u001b[A\n",
      "\u001b[A\n",
      "\u001b[A\n",
      "\u001b[A\n",
      "\u001b[A\n",
      "\u001b[A\n",
      "\u001b[A\n",
      "\u001b[A\n",
      "\u001b[A\n",
      "\u001b[A\n",
      "\u001b[A\n",
      "\u001b[A\n",
      "\u001b[A\n",
      "\u001b[A\n",
      "\u001b[A\n",
      "\u001b[A\n",
      "\u001b[A\n",
      "\u001b[A\n",
      "\u001b[A\n",
      "\u001b[A\n",
      "\u001b[A\n",
      "\u001b[A\n",
      "\u001b[A\n",
      "\u001b[A\n",
      "\u001b[A\n",
      "\u001b[A\n",
      "\u001b[A\n",
      "\u001b[A\n",
      "\u001b[A\n",
      "\u001b[A\n",
      "\u001b[A\n",
      "\u001b[A\n",
      "\u001b[A\n",
      "\u001b[A\n",
      "\u001b[A\n",
      "\u001b[A\n",
      "\u001b[A\n",
      "\u001b[A\n",
      "\u001b[A\n",
      "\u001b[A\n",
      "\u001b[A\n",
      "\u001b[A\n",
      "\u001b[A\n",
      "\u001b[A\n",
      "\u001b[A\n",
      "\u001b[A\n",
      "\u001b[A\n",
      "                                                               \n",
      "                                                               \n",
      "t:  16%|█▌        | 105/674 [04:51<00:05, 102.89it/s, now=None]"
     ]
    },
    {
     "name": "stdout",
     "output_type": "stream",
     "text": [
      "Moviepy - Done !\n",
      "Moviepy - video ready page2.mp4\n"
     ]
    }
   ],
   "source": [
    "#SLIDE 2\n",
    "p = '''\n",
    "The Born-Oppenheimer approximation has an important implication. For a given nuclear configuration, there is a unique electronic energy.\n",
    "\n",
    "In the example to the left we see. As two nuclei move continuously, the points of electronic energy join to form a potential energy surface on which the nuclei move.\n",
    "'''\n",
    "\n",
    "read_in_page(page=2,text=p,pause=2,output=sec_name,draft=draft)\n"
   ]
  },
  {
   "cell_type": "code",
   "execution_count": 49,
   "metadata": {},
   "outputs": [
    {
     "name": "stderr",
     "output_type": "stream",
     "text": [
      "                                                               \n",
      "                                                               \n",
      "t:  16%|█▌        | 105/674 [04:51<00:05, 102.89it/s, now=None]"
     ]
    },
    {
     "name": "stdout",
     "output_type": "stream",
     "text": [
      "Moviepy - Building video page3.mp4.\n",
      "MoviePy - Writing audio in page3TEMP_MPY_wvf_snd.mp3\n"
     ]
    },
    {
     "name": "stderr",
     "output_type": "stream",
     "text": [
      "\n",
      "\u001b[A\n",
      "\u001b[A\n",
      "\u001b[A\n",
      "\u001b[A\n",
      "                                                               \n",
      "                                                               \n",
      "t:  16%|█▌        | 105/674 [04:52<00:05, 102.89it/s, now=None]"
     ]
    },
    {
     "name": "stdout",
     "output_type": "stream",
     "text": [
      "MoviePy - Done.\n",
      "Moviepy - Writing video page3.mp4\n",
      "\n"
     ]
    },
    {
     "name": "stderr",
     "output_type": "stream",
     "text": [
      "\n",
      "\u001b[A\n",
      "\u001b[A\n",
      "\u001b[A\n",
      "\u001b[A\n",
      "\u001b[A\n",
      "\u001b[A\n",
      "\u001b[A\n",
      "\u001b[A\n",
      "\u001b[A\n",
      "\u001b[A\n",
      "\u001b[A\n",
      "\u001b[A\n",
      "\u001b[A\n",
      "\u001b[A\n",
      "\u001b[A\n",
      "\u001b[A\n",
      "\u001b[A\n",
      "\u001b[A\n",
      "\u001b[A\n",
      "\u001b[A\n",
      "\u001b[A\n",
      "\u001b[A\n",
      "\u001b[A\n",
      "\u001b[A\n",
      "\u001b[A\n",
      "\u001b[A\n",
      "\u001b[A\n",
      "\u001b[A\n",
      "\u001b[A\n",
      "\u001b[A\n",
      "\u001b[A\n",
      "\u001b[A\n",
      "\u001b[A\n",
      "\u001b[A\n",
      "\u001b[A\n",
      "\u001b[A\n",
      "\u001b[A\n",
      "\u001b[A\n",
      "\u001b[A\n",
      "\u001b[A\n",
      "\u001b[A\n",
      "\u001b[A\n",
      "\u001b[A\n",
      "\u001b[A\n",
      "\u001b[A\n",
      "\u001b[A\n",
      "\u001b[A\n",
      "\u001b[A\n",
      "\u001b[A\n",
      "\u001b[A\n",
      "\u001b[A\n",
      "\u001b[A\n",
      "\u001b[A\n",
      "\u001b[A\n",
      "\u001b[A\n",
      "\u001b[A\n",
      "\u001b[A\n",
      "                                                               \n",
      "                                                               \n",
      "t:  16%|█▌        | 105/674 [04:58<00:05, 102.89it/s, now=None]"
     ]
    },
    {
     "name": "stdout",
     "output_type": "stream",
     "text": [
      "Moviepy - Done !\n",
      "Moviepy - video ready page3.mp4\n"
     ]
    }
   ],
   "source": [
    "#SLIDE 3\n",
    "p = '''\n",
    "The Hamiltonian of a quantum system collects the operators of all relevant energy contributions to the system.\n",
    "\n",
    "Under the Born-Oppenheimer approximation these are:\n",
    "\n",
    "Kinetic energy of the electrons\n",
    "\n",
    "Coulomb attraction between the electrons and nuclei\n",
    "\n",
    "Coulomb repulsion between electrons\n",
    "'''\n",
    "\n",
    "read_in_page(page=3,text=p,pause=2,output=sec_name,draft=draft)\n"
   ]
  },
  {
   "cell_type": "code",
   "execution_count": 50,
   "metadata": {},
   "outputs": [
    {
     "name": "stderr",
     "output_type": "stream",
     "text": [
      "                                                               \n",
      "                                                               \n",
      "t:  16%|█▌        | 105/674 [04:59<00:05, 102.89it/s, now=None]"
     ]
    },
    {
     "name": "stdout",
     "output_type": "stream",
     "text": [
      "Moviepy - Building video page4.mp4.\n",
      "MoviePy - Writing audio in page4TEMP_MPY_wvf_snd.mp3\n"
     ]
    },
    {
     "name": "stderr",
     "output_type": "stream",
     "text": [
      "\n",
      "\u001b[A\n",
      "\u001b[A\n",
      "\u001b[A\n",
      "\u001b[A\n",
      "                                                               \n",
      "                                                               \n",
      "t:  16%|█▌        | 105/674 [04:59<00:05, 102.89it/s, now=None]"
     ]
    },
    {
     "name": "stdout",
     "output_type": "stream",
     "text": [
      "MoviePy - Done.\n",
      "Moviepy - Writing video page4.mp4\n",
      "\n"
     ]
    },
    {
     "name": "stderr",
     "output_type": "stream",
     "text": [
      "\n",
      "\u001b[A\n",
      "\u001b[A\n",
      "\u001b[A\n",
      "\u001b[A\n",
      "\u001b[A\n",
      "\u001b[A\n",
      "\u001b[A\n",
      "\u001b[A\n",
      "\u001b[A\n",
      "\u001b[A\n",
      "\u001b[A\n",
      "\u001b[A\n",
      "\u001b[A\n",
      "\u001b[A\n",
      "\u001b[A\n",
      "\u001b[A\n",
      "\u001b[A\n",
      "\u001b[A\n",
      "\u001b[A\n",
      "\u001b[A\n",
      "\u001b[A\n",
      "\u001b[A\n",
      "\u001b[A\n",
      "\u001b[A\n",
      "\u001b[A\n",
      "\u001b[A\n",
      "\u001b[A\n",
      "\u001b[A\n",
      "\u001b[A\n",
      "\u001b[A\n",
      "\u001b[A\n",
      "\u001b[A\n",
      "\u001b[A\n",
      "\u001b[A\n",
      "\u001b[A\n",
      "\u001b[A\n",
      "\u001b[A\n",
      "\u001b[A\n",
      "\u001b[A\n",
      "\u001b[A\n",
      "\u001b[A\n",
      "\u001b[A\n",
      "\u001b[A\n",
      "\u001b[A\n",
      "\u001b[A\n",
      "\u001b[A\n",
      "\u001b[A\n",
      "\u001b[A\n",
      "\u001b[A\n",
      "\u001b[A\n",
      "\u001b[A\n",
      "\u001b[A\n",
      "\u001b[A\n",
      "\u001b[A\n",
      "\u001b[A\n",
      "\u001b[A\n",
      "\u001b[A\n",
      "\u001b[A\n",
      "\u001b[A\n",
      "\u001b[A\n",
      "\u001b[A\n",
      "                                                               \n",
      "                                                               \n",
      "t:  16%|█▌        | 105/674 [05:06<00:05, 102.89it/s, now=None]"
     ]
    },
    {
     "name": "stdout",
     "output_type": "stream",
     "text": [
      "Moviepy - Done !\n",
      "Moviepy - video ready page4.mp4\n"
     ]
    }
   ],
   "source": [
    "#SLIDE 4\n",
    "p = '''\n",
    "We may write the Hamiltonian in a mathematical form using hat-notation for operators.\n",
    "\n",
    "In these equation, capital r, refer to the positions of nuclei and small r, to the positions of electrons.\n",
    "\n",
    "The Naablai operator used in the kinetic operator, refer to the second derivative of the position with respect to time.\n",
    "'''\n",
    "read_in_page(page=4,text=p,pause=2,output=sec_name,draft=draft)\n"
   ]
  },
  {
   "cell_type": "code",
   "execution_count": 51,
   "metadata": {},
   "outputs": [
    {
     "name": "stderr",
     "output_type": "stream",
     "text": [
      "                                                               \n",
      "                                                               \n",
      "t:  16%|█▌        | 105/674 [05:06<00:05, 102.89it/s, now=None]"
     ]
    },
    {
     "name": "stdout",
     "output_type": "stream",
     "text": [
      "Moviepy - Building video page5.mp4.\n",
      "MoviePy - Writing audio in page5TEMP_MPY_wvf_snd.mp3\n"
     ]
    },
    {
     "name": "stderr",
     "output_type": "stream",
     "text": [
      "\n",
      "\u001b[A\n",
      "\u001b[A\n",
      "\u001b[A\n",
      "\u001b[A\n",
      "\u001b[A\n",
      "\u001b[A\n",
      "                                                               \n",
      "                                                               \n",
      "t:  16%|█▌        | 105/674 [05:07<00:05, 102.89it/s, now=None]"
     ]
    },
    {
     "name": "stdout",
     "output_type": "stream",
     "text": [
      "MoviePy - Done.\n",
      "Moviepy - Writing video page5.mp4\n",
      "\n"
     ]
    },
    {
     "name": "stderr",
     "output_type": "stream",
     "text": [
      "\n",
      "\u001b[A\n",
      "\u001b[A\n",
      "\u001b[A\n",
      "\u001b[A\n",
      "\u001b[A\n",
      "\u001b[A\n",
      "\u001b[A\n",
      "\u001b[A\n",
      "\u001b[A\n",
      "\u001b[A\n",
      "\u001b[A\n",
      "\u001b[A\n",
      "\u001b[A\n",
      "\u001b[A\n",
      "\u001b[A\n",
      "\u001b[A\n",
      "\u001b[A\n",
      "\u001b[A\n",
      "\u001b[A\n",
      "\u001b[A\n",
      "\u001b[A\n",
      "\u001b[A\n",
      "\u001b[A\n",
      "\u001b[A\n",
      "\u001b[A\n",
      "\u001b[A\n",
      "\u001b[A\n",
      "\u001b[A\n",
      "\u001b[A\n",
      "\u001b[A\n",
      "\u001b[A\n",
      "\u001b[A\n",
      "\u001b[A\n",
      "\u001b[A\n",
      "\u001b[A\n",
      "\u001b[A\n",
      "\u001b[A\n",
      "\u001b[A\n",
      "\u001b[A\n",
      "\u001b[A\n",
      "\u001b[A\n",
      "\u001b[A\n",
      "\u001b[A\n",
      "\u001b[A\n",
      "\u001b[A\n",
      "\u001b[A\n",
      "\u001b[A\n",
      "\u001b[A\n",
      "\u001b[A\n",
      "\u001b[A\n",
      "\u001b[A\n",
      "\u001b[A\n",
      "\u001b[A\n",
      "\u001b[A\n",
      "\u001b[A\n",
      "\u001b[A\n",
      "\u001b[A\n",
      "\u001b[A\n",
      "\u001b[A\n",
      "\u001b[A\n",
      "\u001b[A\n",
      "\u001b[A\n",
      "\u001b[A\n",
      "\u001b[A\n",
      "\u001b[A\n",
      "\u001b[A\n",
      "\u001b[A\n",
      "\u001b[A\n",
      "\u001b[A\n",
      "\u001b[A\n",
      "\u001b[A\n",
      "\u001b[A\n",
      "\u001b[A\n",
      "\u001b[A\n",
      "\u001b[A\n",
      "\u001b[A\n",
      "\u001b[A\n",
      "\u001b[A\n",
      "\u001b[A\n",
      "\u001b[A\n",
      "\u001b[A\n",
      "\u001b[A\n",
      "\u001b[A\n",
      "\u001b[A\n",
      "\u001b[A\n",
      "\u001b[A\n",
      "\u001b[A\n",
      "\u001b[A\n",
      "\u001b[A\n",
      "\u001b[A\n",
      "\u001b[A\n",
      "\u001b[A\n",
      "\u001b[A\n",
      "\u001b[A\n",
      "\u001b[A\n",
      "                                                               \n",
      "                                                               \n",
      "t:  16%|█▌        | 105/674 [05:17<00:05, 102.89it/s, now=None]"
     ]
    },
    {
     "name": "stdout",
     "output_type": "stream",
     "text": [
      "Moviepy - Done !\n",
      "Moviepy - video ready page5.mp4\n"
     ]
    }
   ],
   "source": [
    "#SLIDE 5\n",
    "p = '''\n",
    "Using the electronic Hamiltonian we can write down the Schrödinger equation.\n",
    "\n",
    "The solution to the electronic Schrödinger equation provide us with the wavefunction that contain all information of our system. \n",
    "\n",
    "It can only be solved for very simple cases, for systems with less than a handful of electrons. \n",
    "\n",
    "However, it significance can not be overstated as it forms the basis for electronic structure calculation techniques like Hartree-Fock and Density Functional Theory. These methods are pillars of modern computational chemistry and computational materials science.\n",
    "'''\n",
    "read_in_page(page=5,text=p,pause=2,output=sec_name,draft=draft)\n"
   ]
  },
  {
   "attachments": {},
   "cell_type": "markdown",
   "metadata": {},
   "source": [
    "# ASSEMBLY"
   ]
  },
  {
   "cell_type": "code",
   "execution_count": 52,
   "metadata": {},
   "outputs": [
    {
     "name": "stdout",
     "output_type": "stream",
     "text": [
      "C:\\Users\\jolku587\\PGMS\\FFMPG\\ffmpeg -i \"concat:page0.ts|page1.ts|page2.ts|page3.ts|page4.ts|page5.ts\" -c copy BO_SE.mp4\n"
     ]
    },
    {
     "data": {
      "text/plain": [
       "1"
      ]
     },
     "execution_count": 52,
     "metadata": {},
     "output_type": "execute_result"
    }
   ],
   "source": [
    "import subprocess\n",
    "import glob\n",
    "\n",
    "# Define file paths\n",
    "files = glob.glob('page*.mp4')\n",
    "N=len(files)\n",
    "\n",
    "file_paths=[]\n",
    "for i in range(N):\n",
    "    command=['C:\\\\Users\\\\jolku587\\\\PGMS\\\\FFMPG\\\\ffmpeg','-i', f'page{i}.mp4', '-c','copy',f'page{i}.ts']\n",
    "    subprocess.call(command)\n",
    "    file_paths.append(f\"page{i}.ts\")\n",
    "\n",
    "# Concatenate video files using ffmpeg\n",
    "command = ['C:\\\\Users\\\\jolku587\\\\PGMS\\\\FFMPG\\\\ffmpeg', '-i', '\\\"concat:' + '|'.join(file_paths) + f'\\\"', '-c', 'copy', f'{sec_name}.mp4']\n",
    "print(*command)\n",
    "subprocess.call(command)"
   ]
  },
  {
   "cell_type": "code",
   "execution_count": 54,
   "metadata": {},
   "outputs": [
    {
     "name": "stderr",
     "output_type": "stream",
     "text": [
      "ffmpeg version N-110014-ga6e9d01f88-20230315 Copyright (c) 2000-2023 the FFmpeg developers\n",
      "  built with gcc 12.2.0 (crosstool-NG 1.25.0.90_cf9beb1)\n",
      "  configuration: --prefix=/ffbuild/prefix --pkg-config-flags=--static --pkg-config=pkg-config --cross-prefix=x86_64-w64-mingw32- --arch=x86_64 --target-os=mingw32 --enable-gpl --enable-version3 --disable-debug --disable-w32threads --enable-pthreads --enable-iconv --enable-libxml2 --enable-zlib --enable-libfreetype --enable-libfribidi --enable-gmp --enable-lzma --enable-fontconfig --enable-libvorbis --enable-opencl --disable-libpulse --enable-libvmaf --disable-libxcb --disable-xlib --enable-amf --enable-libaom --enable-libaribb24 --enable-avisynth --enable-chromaprint --enable-libdav1d --enable-libdavs2 --disable-libfdk-aac --enable-ffnvcodec --enable-cuda-llvm --enable-frei0r --enable-libgme --enable-libkvazaar --enable-libass --enable-libbluray --enable-libjxl --enable-libmp3lame --enable-libopus --enable-librist --enable-libssh --enable-libtheora --enable-libvpx --enable-libwebp --enable-lv2 --disable-libmfx --enable-libvpl --enable-openal --enable-libopencore-amrnb --enable-libopencore-amrwb --enable-libopenh264 --enable-libopenjpeg --enable-libopenmpt --enable-librav1e --enable-librubberband --enable-schannel --enable-sdl2 --enable-libsoxr --enable-libsrt --enable-libsvtav1 --enable-libtwolame --enable-libuavs3d --disable-libdrm --disable-vaapi --enable-libvidstab --enable-vulkan --enable-libshaderc --enable-libplacebo --enable-libx264 --enable-libx265 --enable-libxavs2 --enable-libxvid --enable-libzimg --enable-libzvbi --extra-cflags=-DLIBTWOLAME_STATIC --extra-cxxflags= --extra-ldflags=-pthread --extra-ldexeflags= --extra-libs=-lgomp --extra-version=20230315\n",
      "  libavutil      58.  3.100 / 58.  3.100\n",
      "  libavcodec     60.  6.101 / 60.  6.101\n",
      "  libavformat    60.  4.100 / 60.  4.100\n",
      "  libavdevice    60.  2.100 / 60.  2.100\n",
      "  libavfilter     9.  4.100 /  9.  4.100\n",
      "  libswscale      7.  2.100 /  7.  2.100\n",
      "  libswresample   4. 11.100 /  4. 11.100\n",
      "  libpostproc    57.  2.100 / 57.  2.100\n",
      "Input #0, mpegts, from 'concat:page0.ts|page1.ts|page2.ts|page3.ts|page4.ts|page5.ts':\n",
      "  Duration: 00:00:45.23, start: 1.458278, bitrate: 1683 kb/s\n",
      "  Program 1 \n",
      "    Metadata:\n",
      "      service_name    : Service01\n",
      "      service_provider: FFmpeg\n",
      "  Stream #0:0[0x100]: Video: h264 (High 4:4:4 Predictive) ([27][0][0][0] / 0x001B), yuv444p(progressive), 2000x1125, 24 fps, 24 tbr, 90k tbn\n",
      "  Stream #0:1[0x101](und): Audio: mp3 ([3][0][0][0] / 0x0003), 44100 Hz, stereo, fltp, 128 kb/s\n",
      "Output #0, mp4, to 'BO_SE.mp4':\n",
      "  Metadata:\n",
      "    encoder         : Lavf60.4.100\n",
      "  Stream #0:0: Video: h264 (High 4:4:4 Predictive) (avc1 / 0x31637661), yuv444p(progressive), 2000x1125, q=2-31, 24 fps, 24 tbr, 90k tbn\n",
      "  Stream #0:1(und): Audio: mp3 (mp4a / 0x6134706D), 44100 Hz, stereo, fltp, 128 kb/s\n",
      "Stream mapping:\n",
      "  Stream #0:0 -> #0:0 (copy)\n",
      "  Stream #0:1 -> #0:1 (copy)\n",
      "Press [q] to stop, [?] for help\n",
      "frame=    0 fps=0.0 q=-1.0 size=       0kB time=-00:00:00.05 bitrate=  -0.0kbits/s speed=N/A    \n",
      "[mpegts @ 0000026a0de6de40] Packet corrupt (stream = 0, dts = 977250).\n",
      "[in#0/mpegts @ 0000026a0de6dc80] corrupt input packet in stream 0\n",
      "[mpegts @ 0000026a0de6de40] Packet corrupt (stream = 0, dts = 3808500).\n",
      "[in#0/mpegts @ 0000026a0de6dc80] corrupt input packet in stream 0\n",
      "[mp4 @ 0000026a0fd7d440] Non-monotonous DTS in output stream 0:1; previous: 2225286, current: 2225213; changing to 2225287. This may result in incorrect timestamps in the output file.\n",
      "[mpegts @ 0000026a0de6de40] Packet corrupt (stream = 0, dts = 2597250).\n",
      "[in#0/mpegts @ 0000026a0de6dc80] corrupt input packet in stream 0\n",
      "[mp4 @ 0000026a0fd7d440] Non-monotonous DTS in output stream 0:1; previous: 3438268, current: 3437963; changing to 3438269. This may result in incorrect timestamps in the output file.\n",
      "[mpegts @ 0000026a0de6de40] Packet corrupt (stream = 0, dts = 2499750).\n",
      "[in#0/mpegts @ 0000026a0de6dc80] corrupt input packet in stream 0\n",
      "[mpegts @ 0000026a0de6de40] Packet corrupt (stream = 0, dts = 2649750).\n",
      "[in#0/mpegts @ 0000026a0de6dc80] corrupt input packet in stream 0\n",
      "frame= 4264 fps=0.0 q=-1.0 Lsize=    8250kB time=00:02:57.67 bitrate= 380.4kbits/s speed=2.95e+03x    \n",
      "video:5317kB audio:2778kB subtitle:0kB other streams:0kB global headers:0kB muxing overhead: 1.910444%\n"
     ]
    }
   ],
   "source": [
    "!C:\\Users\\jolku587\\PGMS\\FFMPG\\ffmpeg -i \"concat:page0.ts|page1.ts|page2.ts|page3.ts|page4.ts|page5.ts\" -c copy BO_SE.mp4"
   ]
  },
  {
   "attachments": {},
   "cell_type": "markdown",
   "metadata": {},
   "source": [
    "# CLEAN UP"
   ]
  },
  {
   "cell_type": "code",
   "execution_count": 55,
   "metadata": {},
   "outputs": [],
   "source": [
    "import subprocess\n",
    "import glob\n",
    "import os\n",
    "files=glob.glob('page*')\n",
    "for file in files:\n",
    "    os.remove(file)\n",
    "\n",
    "files=glob.glob('*.mp3')\n",
    "for file in files:\n",
    "    os.remove(file)"
   ]
  },
  {
   "cell_type": "code",
   "execution_count": null,
   "metadata": {},
   "outputs": [],
   "source": []
  }
 ],
 "metadata": {
  "kernelspec": {
   "display_name": "CCS_coding",
   "language": "python",
   "name": "python3"
  },
  "language_info": {
   "codemirror_mode": {
    "name": "ipython",
    "version": 3
   },
   "file_extension": ".py",
   "mimetype": "text/x-python",
   "name": "python",
   "nbconvert_exporter": "python",
   "pygments_lexer": "ipython3",
   "version": "3.10.9"
  },
  "orig_nbformat": 4
 },
 "nbformat": 4,
 "nbformat_minor": 2
}
