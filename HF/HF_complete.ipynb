{
 "cells": [
  {
   "cell_type": "code",
   "execution_count": 1,
   "metadata": {},
   "outputs": [],
   "source": [
    "from HF_helper_2 import BasisFunction, S_ab, V_ab, T_ab, TwoE\n",
    "'''\n",
    "The intergral and basis-sets tools are written Joshua Goings under the following licence:\n",
    "\n",
    "# BSD 3-Clause License\n",
    "# Copyright (c) 2021, Joshua Goings\n",
    "# All rights reserved.\n",
    "\n",
    "'''\n",
    "import numpy as np\n"
   ]
  },
  {
   "cell_type": "code",
   "execution_count": 2,
   "metadata": {},
   "outputs": [],
   "source": [
    "#######\n",
    "#H-He+\n",
    "R_i=[[0,0,0],[0,0,1.5517]]\n",
    "Z_i=[1.0,2.0]\n",
    "N=2 #Number of electrons\n",
    "\n",
    "global basis_set\n",
    "basis_set=[]\n",
    "basis_set.append ( BasisFunction(origin=[0,0,0],shell=[0,0,0],exps=[0.4166],coefs=[1]) )\n",
    "basis_set.append ( BasisFunction(origin=[0,0,1.5517],shell=[0,0,0],exps=[0.7739],coefs=[1]) )\n",
    "######\n",
    "\n",
    "#############\n",
    "#Hydrgen atom\n",
    "# R_i=[[0,0,0]]\n",
    "# Z_i=[1.0]\n",
    "# N=2 #Number of electrons\n",
    "\n",
    "# exps=[13.00773 ,1.962079, 0.444529, 0.1219492]\n",
    "# basis_set=[]\n",
    "# for a in exps:\n",
    "#     basis_set.append ( BasisFunction(origin=[0,0,0],shell=[0,0,0],exps=[a],coefs=[1]) )\n",
    "#####\n",
    "\n",
    "M=len(basis_set)\n",
    "global index;index=range(M)\n",
    "\n",
    "global F;F=np.zeros([M,M])     #FOCK-MATRIX\n",
    "global T;T=np.zeros([M,M])     #KINETIC ENERGY MATRIX\n",
    "global S;S=np.zeros([M,M])     #OVERLAP MATRIX\n",
    "global V;V=np.zeros([M,M])     #NECLOUS ATTRACTION MATRIX\n",
    "global J;J=np.zeros([M,M,M,M]) #COULOMB ELEMENTS\n",
    "global K;K=np.zeros([M,M,M,M]) #EXCHANGE ELEMENTS\n",
    "global P;P=np.zeros([M,M])     #DENSITY MATRIX\n",
    "global C;C=np.zeros([M,M])     #COEFFICIENT MATRIX\n",
    "global eps;eps=np.zeros([M])   #ORBITAL ENERGIES (EIGENVALUES TO THE FOCK-MATRIX)\n",
    "\n",
    "#FILLING IN THE MATRICES\n",
    "#One electron integrals\n",
    "for a,basis_func_a in zip(index,basis_set):\n",
    "    for b,basis_func_b in zip(index,basis_set):\n",
    "        S[a,b]=S_ab(basis_func_a,basis_func_b)\n",
    "        T[a,b]=T_ab(basis_func_a,basis_func_b)\n",
    "        for R,Z in zip(R_i,Z_i):\n",
    "            V[a,b] -= Z*V_ab(basis_func_a,basis_func_b,R)\n",
    "        \n",
    "#Two electron integrals\n",
    "for a,basis_func_a in zip(index,basis_set):\n",
    "    for b,basis_func_b in zip(index,basis_set):\n",
    "        for c,basis_func_c in zip(index,basis_set):\n",
    "            for d,basis_func_d in zip(index,basis_set):\n",
    "                J[a,b,c,d]=TwoE(basis_func_a,basis_func_b,basis_func_c,basis_func_d)\n",
    "                K[a,b,c,d]=TwoE(basis_func_a,basis_func_b,basis_func_c,basis_func_d)\n",
    "\n",
    "\n",
    "\n"
   ]
  },
  {
   "cell_type": "code",
   "execution_count": 4,
   "metadata": {},
   "outputs": [],
   "source": [
    "def construct_X():\n",
    "    #Construct \"diagonilzer\"  X=S^(-1/2)\n",
    "    D,U =np.linalg.eig(S)\n",
    "    D=np.diag(1/D**0.5)\n",
    "    UD=np.matmul(U,D)\n",
    "    global X;X=np.matmul(UD,U.T)\n",
    "\n",
    "def calculate_F():\n",
    "    global F\n",
    "    for i in range(M):\n",
    "        for j in range(M):\n",
    "            JK=0\n",
    "            for k in range(M):\n",
    "                for l in range(M):\n",
    "                    JK += P[k,l]*(J[i,j,k,l]   -0.5*K[i,j,k,l]) \n",
    "            F[i,j]=T[i,j]+V[i,j]+JK \n",
    "\n",
    "def solve_F():\n",
    "    global C\n",
    "    global eps\n",
    "    Fp=np.matmul(X,F)\n",
    "    Fp=np.matmul(Fp,X)\n",
    "    eps,eigV=eigenval(Fp)\n",
    "    C=np.matmul(X,eigV)\n",
    "    \n",
    "\n",
    "def update_P():\n",
    "    global P\n",
    "    Pold=P\n",
    "    Pnew=P*0.0\n",
    "    for i in range(M):\n",
    "        for j in range(M):\n",
    "            for k in range(int(N/2)):\n",
    "                Pnew[i,j] += 2*C[i,k]*C[j,k]\n",
    "\n",
    "    P=0.8*Pold+0.2*Pnew\n",
    "    \n",
    "def get_total_E():\n",
    "    total_E=0.0\n",
    "    for i in range(M):\n",
    "        for j in range(M):\n",
    "            total_E += 0.5*P[i,j]*(T[i,j] +V[i,j] + F[i,j])\n",
    "    return total_E\n",
    "    \n",
    "def eigenval(A):\n",
    "    eigenValues, eigenVectors = np.linalg.eig(A)\n",
    "    idx = eigenValues.argsort()    \n",
    "    eigenValues = eigenValues[idx]\n",
    "    eigenVectors = eigenVectors[:,idx]\n",
    "    return eigenValues,eigenVectors\n",
    "\n",
    "def txt2mat(A):\n",
    "\n",
    "    A=A.split(\"\\n\")\n",
    "    N=len(A)-2\n",
    "    A_mat=np.zeros([N,N])\n",
    "\n",
    "\n",
    "    i=0\n",
    "    for a in A:\n",
    "        if a != '':\n",
    "            a=a.split(\" \")\n",
    "            j=0\n",
    "            for aa in a:\n",
    "                if aa != '':\n",
    "                    A_mat[i,j]=float(aa)\n",
    "                    j=j+1\n",
    "            i+=1\n",
    "    return A_mat\n"
   ]
  },
  {
   "cell_type": "code",
   "execution_count": 5,
   "metadata": {},
   "outputs": [],
   "source": [
    "construct_X()\n",
    "E=[]\n",
    "for steps in range(100):\n",
    "    calculate_F()\n",
    "    solve_F()\n",
    "    update_P()\n",
    "    tot_E=get_total_E()\n",
    "    E.append(tot_E)"
   ]
  },
  {
   "cell_type": "code",
   "execution_count": 6,
   "metadata": {},
   "outputs": [
    {
     "data": {
      "text/plain": [
       "[<matplotlib.lines.Line2D at 0x2711962a560>]"
      ]
     },
     "execution_count": 6,
     "metadata": {},
     "output_type": "execute_result"
    },
    {
     "data": {
      "image/png": "[encoded data removed]",
      "text/plain": [
       "<Figure size 640x480 with 1 Axes>"
      ]
     },
     "metadata": {},
     "output_type": "display_data"
    }
   ],
   "source": [
    "import matplotlib.pyplot as plt\n",
    "plt.plot(E)\n"
   ]
  },
  {
   "cell_type": "code",
   "execution_count": 7,
   "metadata": {},
   "outputs": [
    {
     "data": {
      "text/plain": [
       "[<matplotlib.lines.Line2D at 0x2711986bf70>,\n",
       " <matplotlib.lines.Line2D at 0x2711986bfa0>,\n",
       " <matplotlib.lines.Line2D at 0x27119890100>]"
      ]
     },
     "execution_count": 7,
     "metadata": {},
     "output_type": "execute_result"
    },
    {
     "data": {
      "image/png": "[encoded data removed]",
      "text/plain": [
       "<Figure size 640x480 with 1 Axes>"
      ]
     },
     "metadata": {},
     "output_type": "display_data"
    }
   ],
   "source": [
    "def eval_rho(r):\n",
    "    '''\n",
    "    Takes a list of distance a returns the electron density at them.\n",
    "    '''\n",
    "    rhos=[]\n",
    "    for rr in r:\n",
    "        rho=0.0\n",
    "        for elec in range(int(N/2)):\n",
    "            for a,basis_func in zip(index,basis_set):\n",
    "                d=np.linalg.norm( basis_func.origin-rr)\n",
    "                for c,ex in zip(basis_func.coefs,basis_func.exps):\n",
    "                    rho += C[a,elec]*basis_func.norm*c*np.exp( -d**2*ex  ) \n",
    "            rhos.append(rho)\n",
    "    return(rhos)\n",
    "\n",
    "\n",
    "r=[]\n",
    "for x in np.linspace(-5,5, 100):\n",
    "    r.append([0,0,x])\n",
    "\n",
    "plt.plot(r, eval_rho(r), color='red')\n",
    "\n"
   ]
  },
  {
   "cell_type": "code",
   "execution_count": null,
   "metadata": {},
   "outputs": [],
   "source": []
  }
 ],
 "metadata": {
  "kernelspec": {
   "display_name": "CCS_coding",
   "language": "python",
   "name": "python3"
  },
  "language_info": {
   "codemirror_mode": {
    "name": "ipython",
    "version": 3
   },
   "file_extension": ".py",
   "mimetype": "text/x-python",
   "name": "python",
   "nbconvert_exporter": "python",
   "pygments_lexer": "ipython3",
   "version": "3.10.9"
  },
  "orig_nbformat": 4,
  "vscode": {
   "interpreter": {
    "hash": "f9cf24ff20edf0aae28141210fc773ab63efd2a56eb4d7d08651373a5d8a7dcd"
   }
  }
 },
 "nbformat": 4,
 "nbformat_minor": 2
}
