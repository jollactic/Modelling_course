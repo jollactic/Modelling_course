{
  "cells": [
    {
      "cell_type": "markdown",
      "metadata": {
        "id": "FRuevXjQTYgI"
      },
      "source": [
        "# A skelleton to a Hartree-Fock (HF) code\n",
        "\n",
        "The following notebook gives an outline to a complete restricted HF code.\n",
        "As usual we start by importing some modules. To do so we first download the file containing some of these."
      ]
    },
    {
      "cell_type": "code",
      "source": [
        "!pip install scipy==1.9.3\n",
        "!pip install numpy==1.23.5"
      ],
      "metadata": {
        "id": "ZPX2hJxKGz0e",
        "outputId": "4b527ef1-9ab5-49f9-e0e6-2a1f66f44152",
        "colab": {
          "base_uri": "https://localhost:8080/"
        }
      },
      "execution_count": 1,
      "outputs": [
        {
          "output_type": "stream",
          "name": "stdout",
          "text": [
            "Requirement already satisfied: scipy==1.9.3 in /usr/local/lib/python3.10/dist-packages (1.9.3)\n",
            "Requirement already satisfied: numpy<1.26.0,>=1.18.5 in /usr/local/lib/python3.10/dist-packages (from scipy==1.9.3) (1.23.5)\n",
            "Requirement already satisfied: numpy==1.23.5 in /usr/local/lib/python3.10/dist-packages (1.23.5)\n"
          ]
        }
      ]
    },
    {
      "cell_type": "code",
      "execution_count": 2,
      "metadata": {
        "colab": {
          "base_uri": "https://localhost:8080/"
        },
        "id": "R136zC9MTYgM",
        "outputId": "90bc0487-5122-4aa7-b85e-2e76b967164f"
      },
      "outputs": [
        {
          "output_type": "stream",
          "name": "stdout",
          "text": [
            "--2024-03-21 08:26:06--  https://raw.githubusercontent.com/jollactic/Modelling_course/main/HF/HF_helper_functions.py\n",
            "Resolving raw.githubusercontent.com (raw.githubusercontent.com)... 185.199.111.133, 185.199.108.133, 185.199.109.133, ...\n",
            "Connecting to raw.githubusercontent.com (raw.githubusercontent.com)|185.199.111.133|:443... connected.\n",
            "HTTP request sent, awaiting response... 200 OK\n",
            "Length: 11775 (11K) [text/plain]\n",
            "Saving to: ‘HF_helper_functions.py.1’\n",
            "\n",
            "\rHF_helper_functions   0%[                    ]       0  --.-KB/s               \rHF_helper_functions 100%[===================>]  11.50K  --.-KB/s    in 0s      \n",
            "\n",
            "2024-03-21 08:26:06 (74.6 MB/s) - ‘HF_helper_functions.py.1’ saved [11775/11775]\n",
            "\n"
          ]
        }
      ],
      "source": [
        "!wget https://raw.githubusercontent.com/jollactic/Modelling_course/main/HF/HF_helper_functions.py"
      ]
    },
    {
      "cell_type": "markdown",
      "source": [
        "Joshua Goings has prepared a very nice set of python functions that allow us to compute integrals involving Gaussian functions:\n",
        "\n",
        "$$\n",
        "\\\\\n",
        "\\mathbf{S}_{ab}=\\left \\langle \\phi_a|\\phi_b  \\right \\rangle\n",
        "\\\\\n",
        "\\mathbf{T}_{ab}=-\\frac{1}{2}\\left \\langle \\phi_a|\\nabla^2 |\\phi_b  \\right \\rangle\n",
        "\\\\\n",
        "\\mathbf{V}_{ab}= \\sum_{k}^{M} \\left \\langle   \\phi_a \\left |  \\ \\frac{Z_k}{\\left | \\textbf{R}_k-\\textbf{r} \\right| }  \\right | \\phi_b \\right \\rangle  \n",
        "\\\\\n",
        "\\\\\n",
        "\\mathbf{J}_{abcd}= \\int \\int \\phi_a(\\textbf{r}_1)\\phi_b(\\textbf{r}_1) r_{12}^{-1} \\phi_c(\\textbf{r}_2)\\phi_d(\\textbf{r}_2) d\\textbf{r}_1d\\textbf{r}_2\n",
        "\\\\\n",
        "\\mathbf{K}_{abcd}= \\int \\int \\phi_a(\\textbf{r}_1)\\phi_c(\\textbf{r}_1) r_{12}^{-1} \\phi_b(\\textbf{r}_2)\\phi_d(\\textbf{r}_2) d\\textbf{r}_1d\\textbf{r}_2\n",
        "\\\\\n",
        "$$\n",
        "\n",
        "\n"
      ],
      "metadata": {
        "id": "XVYfOKE3XS_i"
      }
    },
    {
      "cell_type": "code",
      "execution_count": 3,
      "metadata": {
        "id": "9LCNgw05TYgN"
      },
      "outputs": [],
      "source": [
        "from HF_helper_functions import BasisFunction, S_ab, V_ab, T_ab, TwoE\n",
        "#TwoE can be used to calculate both J and K.\n",
        "\n",
        "'''\n",
        "The intergral and basis-sets tools are written Joshua Goings under the following licence:\n",
        "\n",
        "# BSD 3-Clause License\n",
        "# Copyright (c) 2021, Joshua Goings\n",
        "# All rights reserved.\n",
        "\n",
        "'''\n",
        "import numpy as np\n",
        "import matplotlib.pyplot as plt\n"
      ]
    },
    {
      "cell_type": "markdown",
      "metadata": {
        "id": "egBSHeMrTYgN"
      },
      "source": [
        "# Specifying our system\n",
        "Below is a simple example demonstrating how to define a hydrogen with a so-called STO-2G basis-set."
      ]
    },
    {
      "cell_type": "code",
      "execution_count": 4,
      "metadata": {
        "id": "aCdtJFdwTYgO"
      },
      "outputs": [],
      "source": [
        "#############\n",
        "#Hydrgen atom\n",
        "R_i=[[0,0,0]] # List of atom centers\n",
        "Z_i=[1.0]     # List of nuclear charges\n",
        "N=2           # Number of electrons (EVEN NUMBER REQUIRED FOR RESTRICED HF)\n",
        "\n",
        "basis_set=[]  # Basis-set\n",
        "\n",
        "#Use this construction to add basis functions\n",
        "#You can essentially add as many as you like but the codes will become slower and slower.\n",
        "#Shell [0,0,0] correspond to 1s orbitals, i.e. they a spherical and have no nodes along r\n",
        "#Origin [0,0,0] means that our basis-function is centered around origi (note this is the same as our nuclie)\n",
        "basis_set.append ( BasisFunction(origin=[0,0,0],shell=[0,0,0],exps=[0.151623,0.851819],coefs=[0.678914,0.430129]) )\n",
        "\n",
        "M=len(basis_set)               #Number of basis-functions counted using the 'len' function\n",
        "global index;index=range(M)    #index store the indeces of the basis functions. Convient in for-loops.\n",
        "\n"
      ]
    },
    {
      "cell_type": "markdown",
      "metadata": {
        "id": "fspGTDWzTYgO"
      },
      "source": [
        "# Plotting our basis-functions\n",
        "In the simple example below we can plot a basis-function and comparison it to the to the exact solution for a H1s electron.  \n"
      ]
    },
    {
      "cell_type": "code",
      "execution_count": 5,
      "metadata": {
        "id": "IzKL2kR6TYgO",
        "outputId": "e1b0eb28-0877-436f-8afe-4b970ef5362d",
        "colab": {
          "base_uri": "https://localhost:8080/",
          "height": 452
        }
      },
      "outputs": [
        {
          "output_type": "execute_result",
          "data": {
            "text/plain": [
              "[<matplotlib.lines.Line2D at 0x78d223e94a60>]"
            ]
          },
          "metadata": {},
          "execution_count": 5
        },
        {
          "output_type": "display_data",
          "data": {
            "text/plain": [
              "<Figure size 640x480 with 1 Axes>"
            ],
            "image/png": "[encoded data removed]"
          },
          "metadata": {}
        }
      ],
      "source": [
        "def eval_basis(b,r):\n",
        "    '''\n",
        "    Takes a list of distance a returns the value of the radial part of basis-function.\n",
        "    '''\n",
        "    vals=[]\n",
        "    for rr in r:\n",
        "        val=0\n",
        "        for nrm,c,ex in zip(b.norm,b.coefs,b.exps):\n",
        "            val += nrm*np.exp( -rr**2*ex )\n",
        "        vals.append(val)\n",
        "    return(vals)\n",
        "\n",
        "def H1s(r):\n",
        "    '''\n",
        "    Takes a list of distance a returns the radial part of H1s, exact solution to the Schrödring eq.\n",
        "    '''\n",
        "    vals=[]\n",
        "    for rr in r:\n",
        "        val = (1/1)**0.5*np.exp( -rr)\n",
        "        vals.append(val)\n",
        "    return(vals)\n",
        "\n",
        "r=np.linspace(0,4, 100)\n",
        "plt.xlim(0,4)\n",
        "plt.ylim(0,1)\n",
        "plt.plot(r, eval_basis(basis_set[0],r), color='red')\n",
        "plt.plot(r, H1s(r), '--',color='black')\n"
      ]
    },
    {
      "cell_type": "markdown",
      "metadata": {
        "id": "6jDAlerFTYgP"
      },
      "source": [
        "# Setting up the matrices\n",
        "The Roothan-Hall equations is a set of linear equation involving matrices. The matrix elements consists of various integrals involving our basis-functions. Since we are using a Gaussian basis all of these integrals have known analytic solutions. The functions S_ab, V_ab, etc. can be used to obtain these analytical values. The imput to these functions is simply two (sometimes four) basis-function.\n",
        "\n",
        "\n",
        "\n"
      ]
    },
    {
      "cell_type": "code",
      "execution_count": null,
      "metadata": {
        "id": "zKEjgF-dTYgQ"
      },
      "outputs": [],
      "source": [
        "from HF_helper_functions import S_ab, V_ab, T_ab, TwoE\n",
        "\n",
        "F=np.zeros([M,M])     #FOCK-MATRIX\n",
        "T=np.zeros([M,M])     #KINETIC ENERGY MATRIX\n",
        "S=np.zeros([M,M])     #OVERLAP MATRIX\n",
        "V=np.zeros([M,M])     #NECLOUS ATTRACTION MATRIX\n",
        "J=np.zeros([M,M,M,M]) #COULOMB ELEMENTS\n",
        "K=np.zeros([M,M,M,M]) #EXCHANGE ELEMENTS\n",
        "P=np.zeros([M,M])     #DENSITY MATRIX\n",
        "C=np.zeros([M,M])     #COEFFICIENT MATRIX\n",
        "eps=np.zeros([M])   #ORBITAL ENERGIES (EIGENVALUES TO THE FOCK-MATRIX)\n",
        "#Where M is the number of basis-function\n",
        "\n",
        "\n",
        "#FILLING IN THE MATRICES\n",
        "\n",
        "#Example: overlap matrix\n",
        "for a,basis_func_a in zip(index,basis_set): #With zip we can get both the index and basis-function to work with in our loop\n",
        "    for b,basis_func_b in zip(index,basis_set):\n",
        "        S[a,b]=S_ab(basis_func_a,basis_func_b)\n",
        "        #This returns the overlap integral for basis-functions, basis_func_a and basis_func_b, and writes them into matrix element a,b of S"
      ]
    },
    {
      "cell_type": "markdown",
      "metadata": {
        "id": "b7d42FYtTYgQ"
      },
      "source": [
        "# Filling in the rest\n",
        "Your first real task is to make the loops to fill in the other matrices. Note that, F, C, P, and eps cannot be fill out yet."
      ]
    },
    {
      "cell_type": "code",
      "execution_count": null,
      "metadata": {
        "id": "MsEP1-17TYgR"
      },
      "outputs": [],
      "source": [
        "#Make loops to fill in matrices"
      ]
    },
    {
      "cell_type": "markdown",
      "metadata": {
        "id": "IMcf_a-gTYgR"
      },
      "source": [
        "# Setting up the work-flow\n",
        "I order to solve the Roothan-Hall equations we should follow the proceedure:\n",
        "\n",
        "1. Guess $\\mathbf{C}$\n",
        "2. Calculate $\\mathbf{F}$ from $\\mathbf{C}$\n",
        "3. Make a linear transformation of $\\mathbf{F}$ using $\\mathbf{S}^{-\\frac{1}{2}}$\n",
        "4. Solve $\\mathbf{F}' \\mathbf{C}'=\\mathbf{C}'\\mathbf{E}$\n",
        "5. Transform $\\mathbf{C}'$ to $\\mathbf{C}$, again using $\\mathbf{S}^{-\\frac{1}{2}}$\n",
        "6. Calculate $\\mathbf{F}$\n",
        "7. Repeat steps 3-6 until we reach a self consistent field, i.e when $\\mathbf{C}$ does not change anymore.\n",
        "\n",
        "When calculating $\\mathbf{F}$ it is very useful to make use of the denisty matrix $\\mathbf{P}$ which is easy to compute from $\\mathbf{C}$. We can use the following formula to fill $\\mathbf{F}$.\n",
        "\n",
        "\n",
        "$$\n",
        "\\\\\n",
        "\\mathbf{F}_{ab}=\\mathbf{T}_{ab}+\\mathbf{V}_{ab}+ \\sum_{c}^{N_{basis}}\\sum_{d}^{N_{basis}}  \\mathbf{P}_{cd}\\left [  \\mathbf{J}_{abcd}-\\frac{1}{2}\\mathbf{K}_{abcd} \\right ]\n",
        "\\\\\n",
        "$$\n"
      ]
    },
    {
      "cell_type": "code",
      "execution_count": null,
      "metadata": {
        "colab": {
          "base_uri": "https://localhost:8080/"
        },
        "id": "d-jh-_AsTYgR",
        "outputId": "8eff6c0e-0b2b-424a-eec1-8720ed7cf616"
      },
      "outputs": [
        {
          "output_type": "stream",
          "name": "stdout",
          "text": [
            "Total electronic energy:  0.0\n"
          ]
        }
      ],
      "source": [
        "#Use this function to get eigenvalues and eigenvector from a matrix\n",
        "#The function makes sure to return eigenvalues in ascending order\n",
        "#which is very useful for determining which columns of C that corresponds\n",
        "#to the occupied orbitals.\n",
        "def eigenval(A):\n",
        "    eigenValues, eigenVectors = np.linalg.eig(A)\n",
        "    idx = eigenValues.argsort()\n",
        "    eigenValues = eigenValues[idx]\n",
        "    eigenVectors = eigenVectors[:,idx]\n",
        "    return eigenValues,eigenVectors\n",
        "\n",
        "\n",
        "#The following few lines computes X=S^(-1/2)\n",
        "D,U =eigenval(S)\n",
        "D=np.diag(1/D**0.5)\n",
        "UD=np.matmul(U,D)\n",
        "X=np.matmul(UD,U.T)\n",
        "\n",
        "\n",
        "#Total energy can be computed using the following loop.\n",
        "#It is often instructive to follow the change in total-energy\n",
        "#as a function of cycles in the SCF proceedure.\n",
        "total_E=0.0\n",
        "for i in range(M):\n",
        "    for j in range(M):\n",
        "        total_E += 0.5*P[i,j]*(T[i,j] +V[i,j] + F[i,j])\n",
        "print(\"Total electronic energy: \",total_E)\n",
        "\n",
        "\n",
        "\n",
        "#Here is where you put down your work-flow\n",
        "\n",
        "\n",
        "\n"
      ]
    },
    {
      "cell_type": "markdown",
      "metadata": {
        "id": "_3LFVr7YTYgR"
      },
      "source": [
        "# Below is a prototype for plotting the orbitals\n",
        "Note that the function only works for 1s basis-functions."
      ]
    },
    {
      "cell_type": "code",
      "execution_count": null,
      "metadata": {
        "colab": {
          "base_uri": "https://localhost:8080/",
          "height": 317
        },
        "id": "8J5O8THqTYgS",
        "outputId": "cd0b581b-9e7f-4650-990c-ea9a9b023292"
      },
      "outputs": [
        {
          "output_type": "execute_result",
          "data": {
            "text/plain": [
              "[<matplotlib.lines.Line2D at 0x7f941ed396a0>,\n",
              " <matplotlib.lines.Line2D at 0x7f941ed397c0>,\n",
              " <matplotlib.lines.Line2D at 0x7f941ed39880>]"
            ]
          },
          "metadata": {},
          "execution_count": 18
        },
        {
          "output_type": "display_data",
          "data": {
            "text/plain": [
              "<Figure size 432x288 with 1 Axes>"
            ],
            "image/png": "[encoded data removed]"
          },
          "metadata": {
            "needs_background": "light"
          }
        }
      ],
      "source": [
        "@np.vectorize\n",
        "def eval_rho(x, y, elec=0):\n",
        "    rho=0.0\n",
        "    rr = [0,x,y]\n",
        "    for a,basis_func in zip(index,basis_set):\n",
        "        d=np.linalg.norm(basis_func.origin-rr)\n",
        "        for nrm,c,ex in zip(basis_func.norm,basis_func.coefs,basis_func.exps):\n",
        "            rho += C[a,elec]*nrm*c*np.exp( -d**2*ex  )\n",
        "    return rho\n",
        "\n",
        "f, axs = plt.subplots(2,2, sharex=True, sharey=False)\n",
        "\n",
        "\n",
        "r=[]\n",
        "y_grid = np.linspace(-4,4, 100)\n",
        "z_grid = np.linspace(-4,4, 100)\n",
        "y, z = np.meshgrid(y_grid,z_grid)\n",
        "rho = eval_rho(y, z,elec=0)\n",
        "\n",
        "axs[0,0].contour(y, z, rho)\n",
        "axs[0,0].set_aspect(1)\n",
        "axs[0,0].grid()\n",
        "axs[0,1].plot(z[:,50], rho[:,50])\n",
        "\n",
        "rho = eval_rho(y, z, elec=1)\n",
        "axs[1,0].contour(y, z, rho)\n",
        "axs[1,0].set_aspect(1)\n",
        "axs[1,0].grid()\n",
        "axs[1,1].plot(z[:,50], rho[:,50])\n",
        "\n",
        "axs[0,0].set_ylabel('z')\n",
        "axs[1,0].set_ylabel('z')\n",
        "axs[1,0].set_xlabel('y')\n",
        "axs[1,1].set_xlabel('z')\n"
      ]
    },
    {
      "cell_type": "code",
      "execution_count": null,
      "metadata": {
        "id": "4t9GkyeyTYgS"
      },
      "outputs": [],
      "source": []
    }
  ],
  "metadata": {
    "kernelspec": {
      "display_name": "CCS_coding",
      "language": "python",
      "name": "python3"
    },
    "language_info": {
      "codemirror_mode": {
        "name": "ipython",
        "version": 3
      },
      "file_extension": ".py",
      "mimetype": "text/x-python",
      "name": "python",
      "nbconvert_exporter": "python",
      "pygments_lexer": "ipython3",
      "version": "3.10.9"
    },
    "orig_nbformat": 4,
    "vscode": {
      "interpreter": {
        "hash": "f9cf24ff20edf0aae28141210fc773ab63efd2a56eb4d7d08651373a5d8a7dcd"
      }
    },
    "colab": {
      "provenance": []
    }
  },
  "nbformat": 4,
  "nbformat_minor": 0
}