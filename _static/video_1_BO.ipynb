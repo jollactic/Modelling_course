{
 "cells": [
  {
   "cell_type": "code",
   "execution_count": 67,
   "metadata": {},
   "outputs": [],
   "source": [
    "import pyttsx3\n",
    "import winsound\n",
    "import time\n",
    "\n",
    "duration = 400  # milliseconds\n",
    "freq = 440  # Hz\n",
    "\n",
    "winsound.Beep(freq, duration)\n",
    "\n",
    "def speak(text):\n",
    "    engine = pyttsx3.init()\n",
    "    # Set the voice to a voice similar to Stephen Hawking's voice\n",
    "    voice_id = \"english_rp+whisper\"\n",
    "    engine.setProperty('voice', voice_id)\n",
    "    # Set the pace to a slower speed\n",
    "    engine.setProperty('rate', 125)\n",
    "    engine.say(text)\n",
    "    engine.runAndWait()"
   ]
  },
  {
   "cell_type": "code",
   "execution_count": 68,
   "metadata": {},
   "outputs": [],
   "source": [
    "p = '''\n",
    "5.\n",
    "4.\n",
    "3. \n",
    "2. \n",
    "1. \n",
    "Action!\n",
    "'''\n",
    "speak(p)"
   ]
  },
  {
   "cell_type": "code",
   "execution_count": 69,
   "metadata": {},
   "outputs": [],
   "source": [
    "p = '''\n",
    "In this video we will look at the Born-Oppenheimer approximation and the electronic Schrödinger equation.\n",
    "'''\n",
    "speak(p)\n",
    "\n",
    "winsound.Beep(freq, duration)"
   ]
  },
  {
   "cell_type": "code",
   "execution_count": 70,
   "metadata": {},
   "outputs": [
    {
     "ename": "NameError",
     "evalue": "name 'time' is not defined",
     "output_type": "error",
     "traceback": [
      "\u001b[1;31m---------------------------------------------------------------------------\u001b[0m",
      "\u001b[1;31mNameError\u001b[0m                                 Traceback (most recent call last)",
      "Cell \u001b[1;32mIn[70], line 7\u001b[0m\n\u001b[0;32m      2\u001b[0m p \u001b[39m=\u001b[39m \u001b[39m'''\u001b[39m\n\u001b[0;32m      3\u001b[0m \u001b[39mThe Born-Oppenheimer approximation is a central theoretical framework used in quantum chemistry and physics, to simplify the calculation of the electronic structure of molecules and materials. It is based on the assumption that the motion of the atomic nuclei and the electrons can be treated separately. The mass ratio between any nucleus and an electron is at least 1836 to 1. Thus effectively, electrons adjust themselves instantaneously to nuclear configurations. \u001b[39m\n\u001b[0;32m      4\u001b[0m \u001b[39m'''\u001b[39m\n\u001b[0;32m      5\u001b[0m speak(p)\n\u001b[1;32m----> 7\u001b[0m time\u001b[39m.\u001b[39msleep(\u001b[39m3\u001b[39m)  \u001b[39m# pause for 3 seconds\u001b[39;00m\n\u001b[0;32m      8\u001b[0m winsound\u001b[39m.\u001b[39mBeep(freq, duration)\n",
      "\u001b[1;31mNameError\u001b[0m: name 'time' is not defined"
     ]
    }
   ],
   "source": [
    "#SLIDE 1\n",
    "p = '''\n",
    "The Born-Oppenheimer approximation is a central theoretical framework used in quantum chemistry and physics, to simplify the calculation of the electronic structure of molecules and materials. It is based on the assumption that the motion of the atomic nuclei and the electrons can be treated separately. The mass ratio between any nucleus and an electron is at least 1836 to 1. Thus effectively, electrons adjust themselves instantaneously to nuclear configurations. \n",
    "'''\n",
    "speak(p)\n",
    "\n",
    "time.sleep(3)  # pause for 3 seconds\n",
    "winsound.Beep(freq, duration)"
   ]
  },
  {
   "cell_type": "code",
   "execution_count": null,
   "metadata": {},
   "outputs": [],
   "source": [
    "#SLIDE 2\n",
    "p = '''\n",
    "The Born-Oppenheimer approximation has an important implication. For a given nuclear configuration, there is an unique electronic energy.\n",
    "\n",
    "In the example to the left we see. As two nuclei move continuously, the points of electronic energy join to form a potential energy surface on which the nuclei move.\n",
    "'''\n",
    "speak(p)\n",
    "time.sleep(3)  # pause for 3 seconds\n",
    "winsound.Beep(freq, duration)"
   ]
  },
  {
   "cell_type": "code",
   "execution_count": null,
   "metadata": {},
   "outputs": [],
   "source": [
    "#SLIDE 3\n",
    "p = '''\n",
    "The Hamiltonian of a quantum system collects the operators of all relevant energy contributions to the system.\n",
    "\n",
    "Under the Born-Oppenheimer approximation these are:\n",
    "\n",
    "Kinetic energy of the electrons\n",
    "\n",
    "Coulomb attraction between the electrons and nuclei\n",
    "\n",
    "Coulomb repulsion between electrons\n",
    "'''\n",
    "speak(p)\n",
    "time.sleep(3)  # pause for 3 seconds\n",
    "winsound.Beep(freq, duration)"
   ]
  },
  {
   "cell_type": "code",
   "execution_count": null,
   "metadata": {},
   "outputs": [],
   "source": [
    "#SLIDE 4\n",
    "p = '''\n",
    "Finally, we may write the Hamiltonian in a mathematical form using hat-notation for operators.\n",
    "\n",
    "In these equation, capital r, refer to the positions of nuclei and small r, to the positions of electrons.\n",
    "\n",
    "The Naablai operator used in the kinetic operator, refer to the second derivative of the position with respect to time.\n",
    "'''\n",
    "speak(p)"
   ]
  },
  {
   "cell_type": "code",
   "execution_count": null,
   "metadata": {},
   "outputs": [],
   "source": []
  },
  {
   "cell_type": "code",
   "execution_count": null,
   "metadata": {},
   "outputs": [],
   "source": []
  },
  {
   "cell_type": "code",
   "execution_count": null,
   "metadata": {},
   "outputs": [],
   "source": []
  }
 ],
 "metadata": {
  "kernelspec": {
   "display_name": "CCS_coding",
   "language": "python",
   "name": "python3"
  },
  "language_info": {
   "codemirror_mode": {
    "name": "ipython",
    "version": 3
   },
   "file_extension": ".py",
   "mimetype": "text/x-python",
   "name": "python",
   "nbconvert_exporter": "python",
   "pygments_lexer": "ipython3",
   "version": "3.10.9"
  },
  "orig_nbformat": 4
 },
 "nbformat": 4,
 "nbformat_minor": 2
}
