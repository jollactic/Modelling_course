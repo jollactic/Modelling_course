{
  "cells": [
    {
      "cell_type": "markdown",
      "metadata": {
        "id": "S_RYAG2IdSey"
      },
      "source": [
        "First we need to intall some codes needed to run the example. You have to have some patiance here as it takes some time to prepare everything. \n",
        "\n"
      ]
    },
    {
      "cell_type": "code",
      "execution_count": null,
      "metadata": {
        "id": "vFBoY2S_ThYf"
      },
      "outputs": [],
      "source": [
        "%%capture\n",
        "!apt install subversion\n",
        "!svn checkout \n",
        "!pip install ase"
      ]
    },
    {
      "cell_type": "code",
      "execution_count": null,
      "metadata": {
        "id": "ErJhhB8paqCf"
      },
      "outputs": [],
      "source": [
        "%%capture\n",
        "!pip install git+https://github.com/yqshao/ase-notebook.git\n",
        "!pip install pythreejs"
      ]
    },
    {
      "cell_type": "code",
      "execution_count": null,
      "metadata": {
        "id": "enOrbQFWa3vF"
      },
      "outputs": [],
      "source": [
        "%%capture\n",
        "from google.colab import output\n",
        "from ase_notebook import AseView, ViewConfig, get_example_atoms\n",
        "\n",
        "\n",
        "config = ViewConfig()\n",
        "ase_view = AseView(config)\n",
        "ase_view = AseView(\n",
        "    rotations=\"45x,45y,45z\",\n",
        "    atom_font_size=16,\n",
        "    axes_length=30,\n",
        "    canvas_size=(400, 400),\n",
        "    zoom=1.2,\n",
        "    show_bonds=True\n",
        ")\n",
        "ase_view.config.uc_dash_pattern=(.6,.4)\n",
        "# ase_view.add_miller_plane(\n",
        "#     1, 0, 0, color=\"green\")\n",
        "ase_view.config\n",
        "ViewConfig(rotations='45x,45y,45z', element_colors='ase', element_radii='ase', radii_scale=0.89, atom_show_label=True, atom_label_by='element', atom_label_array='', atom_font_size=16, atom_font_color='black', atom_stroke_width=1.0, atom_stroke_opacity=0.95, atom_color_by='element', atom_color_array='', atom_colormap='jet', atom_colormap_range=(None, None), atom_lighten_by_depth=0.0, atom_opacity=0.95, force_vector_scale=1.0, velocity_vector_scale=1.0, ghost_stroke_width=0.0, ghost_lighten=0.0, ghost_opacity=0.4, ghost_stroke_opacity=0.4, ghost_show_label=False, ghost_cross_out=False, show_unit_cell=True, show_uc_repeats=False, uc_dash_pattern=(0.6, 0.4), uc_color='black', show_bonds=True, bond_radii_scale=1.5, bond_array_name=None, bond_pairs_filter=None, bond_opacity=0.8, bond_color_by='atoms', bond_colormap='jet', bond_colormap_range=(None, None), show_miller_planes=True, miller_planes=({'h': 1, 'k': 0, 'l': 0, 'fill_color': 'green', 'stroke_color': 'green', 'stroke_width': 1, 'fill_opacity': 0.5, 'stroke_opacity': 0.9},), miller_as_lines=False, show_axes=True, axes_uc=False, axes_length=30, axes_font_size=14, axes_line_color='black', axes_offset=(20, 20), canvas_size=(400, 400), canvas_color_foreground='#000000', canvas_color_background='#ffffff', canvas_background_opacity=0.0, canvas_crop=None, zoom=1.2, camera_fov=10.0, gui_swap_mouse=False)\n",
        "\n",
        "ase_view.config.canvas_color_background = \"blue\"\n",
        "ase_view.config.canvas_background_opacity = 0.2\n",
        "ase_view.config.atom_show_label = False\n",
        "\n"
      ]
    },
    {
      "attachments": {},
      "cell_type": "markdown",
      "metadata": {},
      "source": [
        "# Building something\n",
        "Please free to explore the various ways to build things with ASE."
      ]
    },
    {
      "cell_type": "code",
      "execution_count": null,
      "metadata": {},
      "outputs": [],
      "source": [
        "from ase.build import fcc111,fcc110,fcc100\n",
        "from ase.build import bulk\n",
        "from ase.visualize import view\n",
        "from ase.calculators.emt import EMT\n",
        "from ase.optimize import QuasiNewton\n",
        "\n",
        "atoms=bulk('Ag','fcc',a=4.1) #Build a pease of bulk\n",
        "atoms=atoms*[3,3,3]          #Make a 3x3x3 supercell\n",
        "del atoms[4]                 #Delete an atom\n",
        "atoms.symbols[5]='Au'        #Replace an atom"
      ]
    },
    {
      "cell_type": "code",
      "execution_count": null,
      "metadata": {},
      "outputs": [],
      "source": [
        "#VISUALIZATION\n",
        "gui = ase_view.make_render(\n",
        "    atoms, center_in_uc=True,create_gui=False)\n",
        "gui"
      ]
    },
    {
      "cell_type": "markdown",
      "metadata": {
        "id": "pg1sv0tVsaYs"
      },
      "source": [
        "### Geometry optimization\n",
        "More details: https://wiki.fysik.dtu.dk/ase/ase/optimize.html"
      ]
    },
    {
      "cell_type": "code",
      "execution_count": null,
      "metadata": {
        "id": "rNyoxttqWxma"
      },
      "outputs": [],
      "source": [
        "from ase.build import fcc111,fcc110,fcc100\n",
        "from ase.build import bulk\n",
        "from ase.calculators.emt import EMT\n",
        "from ase.optimize import QuasiNewton\n",
        "\n",
        "def get_max_F(atoms):\n",
        "  return np.max(np.linalg.norm(atoms.get_forces()  ))\n",
        "\n",
        "calc=EMT()\n",
        "\n",
        "#The EMT potential is an approximation to DFT. We use it here only to save time! \n",
        "#If you need to perform a \"real\" simulation you replace EMT with DFT, and wait patiently for the result! \n",
        "# You could use e.g.  ag.calc = GPAW(xc='PBE', mode=PW(300), txt='ag.txt')\n",
        "# However, you need to install gpaw to do so...\n",
        "\n",
        "\n",
        "#THIS WAY CAN BUILD A SLAB: More details: https://wiki.fysik.dtu.dk/ase/ase/build/surface.html\n",
        "Al_slab = fcc110('Ag', size=(3,3,10), vacuum=10.0) \n",
        "Al_bulk = bulk('Ag','fcc')\n",
        "\n",
        "Al_bulk.calc=calc\n",
        "Al_slab.calc=calc\n",
        "\n",
        "\n",
        "#This is how you set up an geometry optimization. More details: https://wiki.fysik.dtu.dk/ase/ase/optimize.html\n",
        "dyn = QuasiNewton(Al_slab)\n",
        "dyn.run(fmax=0.01)\n",
        "\n",
        "gui = ase_view.make_render(\n",
        "    Al_slab, center_in_uc=True,create_gui=False)\n",
        "gui"
      ]
    },
    {
      "cell_type": "code",
      "execution_count": null,
      "metadata": {
        "id": "u8YmnE6PoPL6"
      },
      "outputs": [],
      "source": [
        "#BUILD YOU OWN OPTIMIZER USING A STEEPEST DESCENT\n",
        "\n",
        "#Here should find the following commande very useful\n",
        "#Note that ASE units for forces and postions are eV/Å and Å, respectively.\n",
        "F=Al_slab.get_forces()    # Calculate the current forces acting of each atom. 3xN list with Fx,Fy,Fz. https://wiki.fysik.dtu.dk/ase/ase/atoms.html#ase.Atoms.get_forces\n",
        "Al_slab.positions += F*10 # Update positions by \"moving\" each atom a lenght corresponding to 10 times the magnitude of the force\n",
        "\n",
        "\n",
        "#Rebuild the slab so that you can compare your optimization to the ASE implementaion above\n",
        "Al_slab = fcc110('Ag', size=(3,3,10), vacuum=10.0)\n",
        "Al_slab.calc=calc\n",
        "\n",
        "#Implement your optimizer here:\n"
      ]
    },
    {
      "cell_type": "markdown",
      "metadata": {
        "id": "yfSzEbX_oX03"
      },
      "source": [
        "### Estimating equlibrium volume and bulkmodules of simple solids.\n",
        "More details here: https://wiki.fysik.dtu.dk/ase/tutorials/eos/eos.html[link text](https://)"
      ]
    },
    {
      "cell_type": "code",
      "execution_count": null,
      "metadata": {
        "colab": {
          "base_uri": "https://localhost:8080/",
          "height": 340
        },
        "id": "ZAgTnk4zfEg_",
        "outputId": "1f845888-381b-4e04-b8c0-260cc1396ddf"
      },
      "outputs": [
        {
          "name": "stdout",
          "output_type": "stream",
          "text": [
            "100.1418924197602 GPa\n"
          ]
        },
        {
          "data": {
            "text/plain": [
              "<matplotlib.axes._subplots.AxesSubplot at 0x7f161204b760>"
            ]
          },
          "execution_count": 53,
          "metadata": {},
          "output_type": "execute_result"
        },
        {
          "data": {
            "image/png": "[encoded data removed]",
            "text/plain": [
              "<Figure size 432x288 with 1 Axes>"
            ]
          },
          "metadata": {
            "needs_background": "light"
          },
          "output_type": "display_data"
        }
      ],
      "source": [
        "import numpy as np\n",
        "\n",
        "from ase import Atoms\n",
        "from ase.io.trajectory import Trajectory\n",
        "from ase.calculators.emt import EMT\n",
        "from ase.units import kJ\n",
        "from ase.eos import EquationOfState\n",
        "\n",
        "volumes=[]\n",
        "energies=[]\n",
        "a = 4.0  # approximate lattice constant\n",
        "b = a / 2\n",
        "ag = Atoms('Ag',\n",
        "           cell=[(0, b, b), (b, 0, b), (b, b, 0)],\n",
        "           pbc=1,\n",
        "           calculator=EMT())  # use EMT potential\n",
        "\n",
        "cell = ag.get_cell()\n",
        "\n",
        "for x in np.linspace(0.95, 1.05, 5):\n",
        "    ag.set_cell(cell * x, scale_atoms=True)\n",
        "    ag.get_potential_energy()\n",
        "    volumes.append(ag.get_volume() )\n",
        "    energies.append(ag.get_potential_energy())\n",
        "\n",
        "\n",
        "# CALCULATING CELL VOLUME USING EOS: https://en.wikipedia.org/wiki/Birch%E2%80%93Murnaghan_equation_of_state\n",
        "# Calculated E,V data can be used to make a fit and to find equlibrium energy, E0, equlibrium volume, V0 and Bulkmodulus B.\n",
        "\n",
        "eos = EquationOfState(volumes, energies)\n",
        "v0, e0, B = eos.fit()\n",
        "print(B / kJ * 1.0e24, 'GPa')\n",
        "\n",
        "eos.plot(\"eos.png\")\n",
        "\n",
        "# WHAT IS THE OPTIMAL LATTICE CONSTANT?\n"
      ]
    },
    {
      "cell_type": "code",
      "execution_count": null,
      "metadata": {
        "colab": {
          "base_uri": "https://localhost:8080/",
          "height": 17
        },
        "id": "TnxHfY0-mQGm",
        "outputId": "7e054586-54a2-45e7-decc-8955ef0a9812"
      },
      "outputs": [
        {
          "data": {
            "application/javascript": "\n    async function download(id, filename, size) {\n      if (!google.colab.kernel.accessAllowed) {\n        return;\n      }\n      const div = document.createElement('div');\n      const label = document.createElement('label');\n      label.textContent = `Downloading \"${filename}\": `;\n      div.appendChild(label);\n      const progress = document.createElement('progress');\n      progress.max = size;\n      div.appendChild(progress);\n      document.body.appendChild(div);\n\n      const buffers = [];\n      let downloaded = 0;\n\n      const channel = await google.colab.kernel.comms.open(id);\n      // Send a message to notify the kernel that we're ready.\n      channel.send({})\n\n      for await (const message of channel.messages) {\n        // Send a message to notify the kernel that we're ready.\n        channel.send({})\n        if (message.buffers) {\n          for (const buffer of message.buffers) {\n            buffers.push(buffer);\n            downloaded += buffer.byteLength;\n            progress.value = downloaded;\n          }\n        }\n      }\n      const blob = new Blob(buffers, {type: 'application/binary'});\n      const a = document.createElement('a');\n      a.href = window.URL.createObjectURL(blob);\n      a.download = filename;\n      div.appendChild(a);\n      a.click();\n      div.remove();\n    }\n  ",
            "text/plain": [
              "<IPython.core.display.Javascript object>"
            ]
          },
          "metadata": {},
          "output_type": "display_data"
        },
        {
          "data": {
            "application/javascript": "download(\"download_376d6bc5-6055-4728-bc7b-86c4435b9948\", \"eos.png\", 16208)",
            "text/plain": [
              "<IPython.core.display.Javascript object>"
            ]
          },
          "metadata": {},
          "output_type": "display_data"
        }
      ],
      "source": [
        "from google.colab import files\n",
        "files.download('eos.png')"
      ]
    },
    {
      "cell_type": "code",
      "execution_count": null,
      "metadata": {
        "id": "cVEpD91fuMKX"
      },
      "outputs": [],
      "source": []
    }
  ],
  "metadata": {
    "colab": {
      "provenance": []
    },
    "kernelspec": {
      "display_name": "Python 3",
      "name": "python3"
    },
    "language_info": {
      "name": "python"
    }
  },
  "nbformat": 4,
  "nbformat_minor": 0
}
