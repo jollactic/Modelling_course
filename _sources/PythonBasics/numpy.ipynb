{
 "cells": [
  {
   "attachments": {},
   "cell_type": "markdown",
   "metadata": {},
   "source": [
    "# Numpy\n",
    "\n",
    "(adapted from CHEM 1000 - Spring 2023 by Prof. Geoffrey Hutchison, University of Pittsburgh)\n",
    "\n",
    "\n",
    "Many applications of Python to science, statistics, engineering, etc. are built on top of the [`numpy`](https://numpy.org/devdocs/user/quickstart.html) module. \n",
    "\n",
    "**Learning Objectives**\n",
    "\n",
    "- Understand how to create `numpy` arrays from lists, or regular sets of numbers\n",
    "- Apply mathematical operations and functions to `numpy` arrays (e.g. for plotting, analysis, vectors, etc.)\n",
    "\n",
    "**Attribution**\n",
    "\n",
    "Some of this material has been adapted from [Mathematical Python by Patrick Wills](https://github.com/patrickwalls/mathematical-python/blob/master/scipy/numpy.ipynb)"
   ]
  },
  {
   "cell_type": "markdown",
   "metadata": {},
   "source": [
    "Before we start, we're going to `import numpy` with a standard shorthand `np`\n",
    "\n",
    "This means that we refer to functions as `np.sin` and not `numpy.sin`, etc. to save some keystrokes..."
   ]
  },
  {
   "cell_type": "code",
   "execution_count": 1,
   "metadata": {},
   "outputs": [],
   "source": [
    "import numpy as np"
   ]
  },
  {
   "cell_type": "markdown",
   "metadata": {},
   "source": [
    "## NumPy Arrays\n",
    "\n",
    "The fundamental type provided by the NumPy package is the `ndarray`, which is an *n*-dimensional array - usually of numbers.\n",
    "\n",
    "Generally, that means we can store:\n",
    "- 1-dimensional lists / vectors\n",
    "- 2-dimensional matrices / grids\n",
    "- 3-dimensional 'cube' or volumes of data\n",
    "- etc. (e.g., cubes of data over time.. maybe an MRI movie or watching a protein move?)\n",
    "\n",
    "That flexibility adds complexity, unfortunately, but in this class, we'll mostly work with 1D and 2D arrays, which is not too bad. It just means that the Numpy documentation can be complicated to read because functions have to work on so many *types* of `ndarray`.\n",
    "\n",
    "### Creating Arrays\n",
    "\n",
    "The function `numpy.array()` creates a NumPy array from a Python list, or a list of lists. \n",
    "\n",
    "For example, maybe we have a list of heights in inches from last week:"
   ]
  },
  {
   "cell_type": "code",
   "execution_count": 2,
   "metadata": {},
   "outputs": [
    {
     "name": "stdout",
     "output_type": "stream",
     "text": [
      "[61, 67, 74, 70, 72, 63, 66]\n",
      "[61 67 74 70 72 63 66]\n"
     ]
    }
   ],
   "source": [
    "heights = [ 5*12 + 1, 5*12+7, 6*12+2, 5*12+10, 6*12, 5*12+3, 5*12+6 ] # I made these up\n",
    "a = np.array(heights)\n",
    "\n",
    "print(heights)\n",
    "print(a)"
   ]
  },
  {
   "cell_type": "markdown",
   "metadata": {},
   "source": [
    "Notice that as a list, Python automatically prints commas between the items. When we print with `numpy` there's just space between them, no commas.\n",
    "\n",
    "We can use the built-in function `type` to verify the variables are different..."
   ]
  },
  {
   "cell_type": "code",
   "execution_count": 3,
   "metadata": {},
   "outputs": [
    {
     "data": {
      "text/plain": [
       "list"
      ]
     },
     "execution_count": 3,
     "metadata": {},
     "output_type": "execute_result"
    }
   ],
   "source": [
    "type(heights)"
   ]
  },
  {
   "cell_type": "code",
   "execution_count": 4,
   "metadata": {},
   "outputs": [
    {
     "data": {
      "text/plain": [
       "numpy.ndarray"
      ]
     },
     "execution_count": 4,
     "metadata": {},
     "output_type": "execute_result"
    }
   ],
   "source": [
    "type(a)"
   ]
  },
  {
   "cell_type": "markdown",
   "metadata": {},
   "source": [
    "We'll spend most of our time now concentrating on 1D arrays, but it's possible to convert lists of lists to 2D arrays (e.g., a matrix):"
   ]
  },
  {
   "cell_type": "code",
   "execution_count": 5,
   "metadata": {},
   "outputs": [
    {
     "name": "stdout",
     "output_type": "stream",
     "text": [
      "[[1 2 3]\n",
      " [4 5 6]]\n"
     ]
    }
   ],
   "source": [
    "M = np.array([[1,2,3],\n",
    "              [4,5,6]])\n",
    "print(M)"
   ]
  },
  {
   "cell_type": "markdown",
   "metadata": {},
   "source": [
    "Sometimes we want to save ourselves some typing, so there are a few methods to help us create standard kinds of `ndarray`:\n",
    "\n",
    "There are several NumPy functions for [creating arrays](https://docs.scipy.org/doc/numpy/user/quickstart.html#array-creation) - here we're using the standard `np` abbreviation for `numpy`:\n",
    "\n",
    "| Function | Description |\n",
    "| ---: | :--- |\n",
    "| `np.array(a)` | Create $n$-dimensional NumPy array from sequence `a` |\n",
    "| `np.linspace(a,b,N)` | Create 1D NumPy array with `N` equally spaced values from `a` to `b` (inclusively)|\n",
    "| `np.arange(a,b,step)` | Create 1D NumPy array with values from `a` to `b` (exclusively) incremented by `step`|\n",
    "| `np.zeros(N)` | Create 1D NumPy array of zeros of length $N$ |\n",
    "| `np.zeros((n,m))` | Create 2D NumPy array of zeros with $n$ rows and $m$ columns |\n",
    "| `np.full(N, value)` | Create 1D NumPy array of `value` of length $N$ |\n",
    "| `np.fill((n,m), value)` | Create 2D NumPy array of `value` with $n$ rows and $m$ columns |\n",
    "| `np.eye(N)` | Create 2D NumPy array with $N$ rows and $N$ columns with ones on the diagonal (ie. the identity matrix of size $N$) |"
   ]
  },
  {
   "cell_type": "markdown",
   "metadata": {},
   "source": [
    "Create a 1D NumPy array with 11 equally spaced values from 0 to 1:"
   ]
  },
  {
   "cell_type": "code",
   "execution_count": 6,
   "metadata": {},
   "outputs": [
    {
     "name": "stdout",
     "output_type": "stream",
     "text": [
      "[0.  0.1 0.2 0.3 0.4 0.5 0.6 0.7 0.8 0.9 1. ]\n"
     ]
    }
   ],
   "source": [
    "x = np.linspace(0, 1, 11) # notice that linspace always includes 0, and 1\n",
    "print(x)"
   ]
  },
  {
   "cell_type": "markdown",
   "metadata": {},
   "source": [
    "Create a 1D NumPy array with values from 0 to 20 (exclusively) incremented by 2.5:"
   ]
  },
  {
   "cell_type": "code",
   "execution_count": 7,
   "metadata": {},
   "outputs": [
    {
     "name": "stdout",
     "output_type": "stream",
     "text": [
      "[ 0.   2.5  5.   7.5 10.  12.5 15.  17.5]\n"
     ]
    }
   ],
   "source": [
    "y = np.arange(0, 20, 2.5) # notice that arange does /not/ include 20\n",
    "print(y)"
   ]
  },
  {
   "cell_type": "markdown",
   "metadata": {},
   "source": [
    "These are the functions that we'll use most often when creating NumPy arrays. (We've used them for graphing.)\n",
    "\n",
    "- `numpy.linspace` works best when we know the *number of points* we want in the array.\n",
    "- `numpy.arange` works best when we know *step size* between values in the array.\n",
    "\n",
    "A few examples of the other methods:"
   ]
  },
  {
   "cell_type": "code",
   "execution_count": 8,
   "metadata": {},
   "outputs": [
    {
     "name": "stdout",
     "output_type": "stream",
     "text": [
      "[0. 0. 0. 0. 0.]\n"
     ]
    }
   ],
   "source": [
    "# Create a 1D NumPy array of zeros of length 5:\n",
    "z = np.zeros(5)\n",
    "print(z)"
   ]
  },
  {
   "cell_type": "code",
   "execution_count": 9,
   "metadata": {},
   "outputs": [
    {
     "name": "stdout",
     "output_type": "stream",
     "text": [
      "[[0. 0. 0. 0. 0.]\n",
      " [0. 0. 0. 0. 0.]]\n"
     ]
    }
   ],
   "source": [
    "# Create a 2D NumPy array of zeros with 2 rows and 5 columns:\n",
    "M = np.zeros((2,5))\n",
    "print(M)"
   ]
  },
  {
   "cell_type": "code",
   "execution_count": 10,
   "metadata": {},
   "outputs": [
    {
     "name": "stdout",
     "output_type": "stream",
     "text": [
      "[0.5 0.5 0.5 0.5 0.5 0.5 0.5]\n"
     ]
    }
   ],
   "source": [
    "# create a 1D array with 7 items, all with 0.5\n",
    "w = np.full(7, 0.5)\n",
    "print(w)"
   ]
  },
  {
   "cell_type": "code",
   "execution_count": 11,
   "metadata": {},
   "outputs": [
    {
     "name": "stdout",
     "output_type": "stream",
     "text": [
      "[[3.14159265 3.14159265]\n",
      " [3.14159265 3.14159265]\n",
      " [3.14159265 3.14159265]]\n"
     ]
    }
   ],
   "source": [
    "# Create a 2D NumPy array with 3 rows and 2 columns, filled with pi\n",
    "N = np.full((3,2), np.pi) # Mmm pies.. 🥧\n",
    "print(N)"
   ]
  },
  {
   "cell_type": "code",
   "execution_count": 12,
   "metadata": {},
   "outputs": [
    {
     "name": "stdout",
     "output_type": "stream",
     "text": [
      "[[1 2 3]\n",
      " [1 2 3]\n",
      " [1 2 3]]\n"
     ]
    }
   ],
   "source": [
    "# full will let values be lists\n",
    "# this will create a 3x3 array with 1, 2, 3 across each row\n",
    "one_two_three = np.full((3, 3), [1, 2, 3])\n",
    "print(one_two_three)"
   ]
  },
  {
   "cell_type": "code",
   "execution_count": 13,
   "metadata": {},
   "outputs": [
    {
     "name": "stdout",
     "output_type": "stream",
     "text": [
      "[[1. 0. 0. 0.]\n",
      " [0. 1. 0. 0.]\n",
      " [0. 0. 1. 0.]\n",
      " [0. 0. 0. 1.]]\n"
     ]
    }
   ],
   "source": [
    "# Create the identity matrix of size 4:\n",
    "I = np.eye(4) # we'll use this again when we get to matrices.. esp. bigger ones\n",
    "print(I)"
   ]
  },
  {
   "attachments": {},
   "cell_type": "markdown",
   "metadata": {},
   "source": [
    "### Dimension, Shape and Size\n",
    "\n",
    "We can think of a 1D NumPy array as a list of numbers, a 2D NumPy array as a matrix, a 3D NumPy array as a cube of numbers, and so on. Given a NumPy array, we can find out how many dimensions it has by accessing its `.ndim` attribute. The result is a number telling us how many dimensions it has.\n",
    "\n",
    "For example - let's check that `I` matrix above:"
   ]
  },
  {
   "cell_type": "code",
   "execution_count": 14,
   "metadata": {},
   "outputs": [
    {
     "data": {
      "text/plain": [
       "2"
      ]
     },
     "execution_count": 14,
     "metadata": {},
     "output_type": "execute_result"
    }
   ],
   "source": [
    "I.ndim"
   ]
  },
  {
   "cell_type": "markdown",
   "metadata": {},
   "source": [
    "The result tells us that `I` has 2 dimensions. The first dimension corresponds to the vertical direction counting the rows and the second dimension corresponds to the horizontal direction counting the columns.\n",
    "\n",
    "We can find out how many rows and columns `M` has by accessing its `.shape` attribute:"
   ]
  },
  {
   "cell_type": "code",
   "execution_count": 15,
   "metadata": {},
   "outputs": [
    {
     "data": {
      "text/plain": [
       "(2, 5)"
      ]
     },
     "execution_count": 15,
     "metadata": {},
     "output_type": "execute_result"
    }
   ],
   "source": [
    "M.shape"
   ]
  },
  {
   "cell_type": "markdown",
   "metadata": {},
   "source": [
    "Of course, we created M to be a $2\\times 5$ matrix, so this may seem pretty silly.. still, for example when multiplying vectors and matrices, we need to know what size they are.\n",
    "\n",
    "We can also use the `.size` attribute to give us the total elements - much like we'd use `len()` on a list."
   ]
  },
  {
   "cell_type": "code",
   "execution_count": 16,
   "metadata": {},
   "outputs": [
    {
     "data": {
      "text/plain": [
       "10"
      ]
     },
     "execution_count": 16,
     "metadata": {},
     "output_type": "execute_result"
    }
   ],
   "source": [
    "M.size"
   ]
  },
  {
   "cell_type": "markdown",
   "metadata": {},
   "source": [
    "## Operations and Functions\n",
    "\n",
    "Of course the point is presumably to help us do math on `ndarray`s, and we can do that.\n",
    "\n",
    "### Array Operations\n",
    "\n",
    "[Arithmetic operators](https://docs.scipy.org/doc/numpy/user/quickstart.html#basic-operations) including addition `+`, subtraction `-`, multiplication `*`, division `/` and exponentiation `**` are applied to arrays *elementwise*. For addition and substraction, these are the familiar vector operations we see in linear algebra:"
   ]
  },
  {
   "cell_type": "code",
   "execution_count": 17,
   "metadata": {},
   "outputs": [],
   "source": [
    "v = np.array([1,2,3])\n",
    "w = np.array([1,0,-1])"
   ]
  },
  {
   "cell_type": "code",
   "execution_count": 18,
   "metadata": {},
   "outputs": [
    {
     "data": {
      "text/plain": [
       "array([2, 2, 2])"
      ]
     },
     "execution_count": 18,
     "metadata": {},
     "output_type": "execute_result"
    }
   ],
   "source": [
    "v + w"
   ]
  },
  {
   "cell_type": "code",
   "execution_count": 19,
   "metadata": {},
   "outputs": [
    {
     "data": {
      "text/plain": [
       "array([0, 2, 4])"
      ]
     },
     "execution_count": 19,
     "metadata": {},
     "output_type": "execute_result"
    }
   ],
   "source": [
    "v - w"
   ]
  },
  {
   "cell_type": "markdown",
   "metadata": {},
   "source": [
    "This also works for multiplying or dividing by scalar numbers:"
   ]
  },
  {
   "cell_type": "code",
   "execution_count": 20,
   "metadata": {},
   "outputs": [
    {
     "data": {
      "text/plain": [
       "array([2, 4, 6])"
      ]
     },
     "execution_count": 20,
     "metadata": {},
     "output_type": "execute_result"
    }
   ],
   "source": [
    "2*v"
   ]
  },
  {
   "cell_type": "code",
   "execution_count": 21,
   "metadata": {},
   "outputs": [
    {
     "data": {
      "text/plain": [
       "array([ 0.5,  0. , -0.5])"
      ]
     },
     "execution_count": 21,
     "metadata": {},
     "output_type": "execute_result"
    }
   ],
   "source": [
    "w / 2"
   ]
  },
  {
   "cell_type": "markdown",
   "metadata": {},
   "source": [
    "The exponent operator ** also acts element by element in the array:"
   ]
  },
  {
   "cell_type": "code",
   "execution_count": 22,
   "metadata": {},
   "outputs": [
    {
     "data": {
      "text/plain": [
       "array([1, 4, 9])"
      ]
     },
     "execution_count": 22,
     "metadata": {},
     "output_type": "execute_result"
    }
   ],
   "source": [
    "v ** 2"
   ]
  },
  {
   "cell_type": "markdown",
   "metadata": {},
   "source": [
    "### Exercise 1 - Convert some heights in an array\n",
    "\n",
    "Up above, we defined a list `heights` in inches (ugh) and we want to convert them to meters.\n",
    "\n",
    "1. Create an `ndarray` of the heights with `np.array()`\n",
    "2. Convert the whole array to meters - remember that one inch is *exactly* defined as 2.54 cm.\n",
    "3. Assign that converted array to the variable `heights_in_meters`\n",
    "4. (Optional) print the new array"
   ]
  },
  {
   "cell_type": "markdown",
   "metadata": {},
   "source": [
    "### Array Functions\n",
    "\n",
    "There are *many* [array functions](https://docs.scipy.org/doc/numpy/reference/routines.html) we can use to compute with NumPy arrays. The following is a partial list and we'll look closer at mathematical functions in the next section. Again, we're using the common shortcut of `np` for `numpy`\n",
    "\n",
    "| | | |\n",
    "| :---: | :---: | :---: |\n",
    "| `np.sum` | `np.prod` | `np.mean` |\n",
    "| `np.max` | `np.min` | `np.std` |"
   ]
  },
  {
   "cell_type": "code",
   "execution_count": 24,
   "metadata": {},
   "outputs": [
    {
     "data": {
      "text/plain": [
       "12.014199999999997"
      ]
     },
     "execution_count": 24,
     "metadata": {},
     "output_type": "execute_result"
    }
   ],
   "source": [
    "nd_heights = np.array(heights)\n",
    "heights_in_meters = nd_heights / (100/2.54)\n",
    "\n",
    "np.sum(heights_in_meters) # probably way too many sig figs"
   ]
  },
  {
   "cell_type": "code",
   "execution_count": 25,
   "metadata": {},
   "outputs": [
    {
     "data": {
      "text/plain": [
       "1.716"
      ]
     },
     "execution_count": 25,
     "metadata": {},
     "output_type": "execute_result"
    }
   ],
   "source": [
    "round(  np.mean(heights_in_meters), 3) # round the result to 3 decimals"
   ]
  },
  {
   "cell_type": "markdown",
   "metadata": {},
   "source": [
    "If you remember, the attribute `.size` at the end of a `ndarray` variable gives us the size:"
   ]
  },
  {
   "cell_type": "code",
   "execution_count": 26,
   "metadata": {},
   "outputs": [
    {
     "name": "stdout",
     "output_type": "stream",
     "text": [
      "1.7163142857142852\n"
     ]
    }
   ],
   "source": [
    "m = np.sum(heights_in_meters) / heights_in_meters.size\n",
    "print(m)"
   ]
  },
  {
   "cell_type": "markdown",
   "metadata": {},
   "source": [
    "Incidentally, tracking the number of significant figures is a bit tedious here. The original heights were in inches, so presumably 2 or 3 sig. figs. Then we convert to meters - with an exact conversion - so the heights in meters have 2-3 significant figures. We add them, so we'd keep the same number of decimals (presumably 2 - for centimeters).. that looks like 4 total singificant figures from `np.sum` and then divide by the `size` .. so presumably, we want 1 number and 3 decimals."
   ]
  },
  {
   "cell_type": "markdown",
   "metadata": {},
   "source": [
    "### Mathematical Functions\n",
    "\n",
    "[Mathematical functions](http://docs.scipy.org/doc/numpy/reference/routines.math.html) in NumPy are called [universal functions](https://docs.scipy.org/doc/numpy/user/quickstart.html#universal-functions) and are *vectorized*. Vectorized functions operate *elementwise* on arrays producing arrays as output and are built to compute values across arrays *very* quickly. The following is a partial list of mathematical functions:\n",
    "\n",
    "| | | |\n",
    "| :---: | :---: | :---: |\n",
    "| `numpy.sin` | `numpy.cos` | `numpy.tan` |\n",
    "| `numpy.exp` | `numpy.log` | `numpy.log10` |\n",
    "| `numpy.arcsin` | `numpy.arccos` | `numpy.arctan` |\n",
    "\n",
    "Compute the values $\\sin(2 \\pi x)$ for $x = 0,0.25,0.5 \\dots, 2.0$:"
   ]
  },
  {
   "cell_type": "code",
   "execution_count": 27,
   "metadata": {},
   "outputs": [
    {
     "name": "stdout",
     "output_type": "stream",
     "text": [
      "[0.   0.25 0.5  0.75 1.   1.25 1.5  1.75 2.  ]\n"
     ]
    }
   ],
   "source": [
    "# I could write out the list\n",
    "l = [0, 0.25, 0.5, 0.75, 1.0, 1.25, 1.5, 1.75, 2.0]\n",
    "\n",
    "# but I'm lazy...\n",
    "x = np.arange(0, 2.1, 0.25) # note that since np.arange goes up to, but doesn't include the end value...\n",
    "print(x)"
   ]
  },
  {
   "cell_type": "code",
   "execution_count": 28,
   "metadata": {},
   "outputs": [
    {
     "data": {
      "text/plain": [
       "array([ 0.0000000e+00,  1.0000000e+00,  1.2246468e-16, -1.0000000e+00,\n",
       "       -2.4492936e-16,  1.0000000e+00,  3.6739404e-16, -1.0000000e+00,\n",
       "       -4.8985872e-16])"
      ]
     },
     "execution_count": 28,
     "metadata": {},
     "output_type": "execute_result"
    }
   ],
   "source": [
    "np.sin(2*np.pi*x)"
   ]
  },
  {
   "cell_type": "markdown",
   "metadata": {},
   "source": [
    "We might expect the array `[0. 1. 0. -1. 0. …]` however there is (as always with floating point numbers on a computer) some rounding errors in the result. In numerical computing, we can interpret a number close to $\\approx 10^{-16}$ as $0$.\n",
    "\n",
    "In any case, that's what we have been when plotting functions:\n",
    "- Create an array of x values with the resolution we want - usually with `np.arange()` or `np.linspace()`\n",
    "- Create an array of our function by typing out a formula\n",
    "- Call `matplotlib` to plot"
   ]
  },
  {
   "cell_type": "code",
   "execution_count": 29,
   "metadata": {},
   "outputs": [
    {
     "name": "stdout",
     "output_type": "stream",
     "text": [
      "[    1    10   100  1000 10000]\n"
     ]
    }
   ],
   "source": [
    "# Compute the values $\\log_{10}(x)$ for $x = 1,10,100,1000,10000$:\n",
    "x = np.array([1,10,100,1000,10000])\n",
    "print(x)"
   ]
  },
  {
   "cell_type": "code",
   "execution_count": 30,
   "metadata": {},
   "outputs": [
    {
     "data": {
      "text/plain": [
       "array([0., 1., 2., 3., 4.])"
      ]
     },
     "execution_count": 30,
     "metadata": {},
     "output_type": "execute_result"
    }
   ],
   "source": [
    "np.log10(x)"
   ]
  },
  {
   "cell_type": "markdown",
   "metadata": {},
   "source": [
    "## Meshgrids\n",
    "\n",
    "Many times, it's useful to apply functions on a 2D grid. We could, of course create some huge 2D array with np.zeros() or something.\n",
    "\n",
    "But what we generally want is something like `np.arange()` or `np.linspace()` do in 1D - create a set of points with equal spacing.\n",
    "\n",
    "For this, we can use `np.meshgrid(x, y)` which takes two arrays (in x and y) and produces two 2D arrays with the X and Y coordinates for all the points in the mesh.\n",
    "\n",
    "It's probably easier to just demonstrate:"
   ]
  },
  {
   "cell_type": "code",
   "execution_count": 31,
   "metadata": {},
   "outputs": [
    {
     "name": "stdout",
     "output_type": "stream",
     "text": [
      "[[-5.  -4.9 -4.8 ...  4.7  4.8  4.9]\n",
      " [-5.  -4.9 -4.8 ...  4.7  4.8  4.9]\n",
      " [-5.  -4.9 -4.8 ...  4.7  4.8  4.9]\n",
      " ...\n",
      " [-5.  -4.9 -4.8 ...  4.7  4.8  4.9]\n",
      " [-5.  -4.9 -4.8 ...  4.7  4.8  4.9]\n",
      " [-5.  -4.9 -4.8 ...  4.7  4.8  4.9]]\n"
     ]
    }
   ],
   "source": [
    "x = np.arange(-5, 5, 0.1) # -5 to 5 with 0.1 grid spacing - remember, it won't include 5.0\n",
    "y = np.arange(-3, 3, 0.1) # -3 to 3 with 0.1 grid spacing - again, won't include 3.0\n",
    "\n",
    "xx, yy = np.meshgrid(x, y) # xx will now include the x-values for all the points, etc.\n",
    "\n",
    "print(xx) # notice xx goes from -5 to 4.9"
   ]
  },
  {
   "cell_type": "code",
   "execution_count": 32,
   "metadata": {},
   "outputs": [
    {
     "name": "stdout",
     "output_type": "stream",
     "text": [
      "[[-3.  -3.  -3.  ... -3.  -3.  -3. ]\n",
      " [-2.9 -2.9 -2.9 ... -2.9 -2.9 -2.9]\n",
      " [-2.8 -2.8 -2.8 ... -2.8 -2.8 -2.8]\n",
      " ...\n",
      " [ 2.7  2.7  2.7 ...  2.7  2.7  2.7]\n",
      " [ 2.8  2.8  2.8 ...  2.8  2.8  2.8]\n",
      " [ 2.9  2.9  2.9 ...  2.9  2.9  2.9]]\n"
     ]
    }
   ],
   "source": [
    "print(yy) # notice yy goes from -3 to 2.9"
   ]
  },
  {
   "cell_type": "markdown",
   "metadata": {},
   "source": [
    "The key thing with the meshgrid is that both xx and yy are exactly the same size 2D arrays:"
   ]
  },
  {
   "cell_type": "code",
   "execution_count": 33,
   "metadata": {},
   "outputs": [
    {
     "name": "stdout",
     "output_type": "stream",
     "text": [
      "(60, 100) (60, 100)\n"
     ]
    }
   ],
   "source": [
    "print(xx.shape, yy.shape)"
   ]
  },
  {
   "cell_type": "code",
   "execution_count": 34,
   "metadata": {},
   "outputs": [
    {
     "name": "stdout",
     "output_type": "stream",
     "text": [
      "[[ 0.01556126  0.03028564  0.018238   ... -0.0102987   0.018238\n",
      "   0.03028564]\n",
      " [ 0.02728967  0.02602298  0.00108321 ... -0.02600417  0.00108321\n",
      "   0.02602298]\n",
      " [ 0.03012349  0.01320471 -0.0165362  ... -0.03329104 -0.0165362\n",
      "   0.01320471]\n",
      " ...\n",
      " [ 0.02375191 -0.00369543 -0.02917031 ... -0.0304208  -0.02917031\n",
      "  -0.00369543]\n",
      " [ 0.03012349  0.01320471 -0.0165362  ... -0.03329104 -0.0165362\n",
      "   0.01320471]\n",
      " [ 0.02728967  0.02602298  0.00108321 ... -0.02600417  0.00108321\n",
      "   0.02602298]]\n"
     ]
    }
   ],
   "source": [
    "z = np.sin(xx**2 + yy**2) / (xx**2 + yy**2) # evaluate the z = f(x,y)\n",
    "print(z)"
   ]
  },
  {
   "cell_type": "markdown",
   "metadata": {},
   "source": [
    "We can plot that!"
   ]
  },
  {
   "cell_type": "code",
   "execution_count": 35,
   "metadata": {},
   "outputs": [
    {
     "data": {
      "image/png": "[encoded data removed]",
      "text/plain": [
       "<Figure size 640x480 with 1 Axes>"
      ]
     },
     "metadata": {},
     "output_type": "display_data"
    }
   ],
   "source": [
    "import matplotlib.pyplot as plt\n",
    "h = plt.contourf(x,y,z) # this creates a contour plot of z = f(x,y)\n",
    "plt.show()"
   ]
  },
  {
   "attachments": {},
   "cell_type": "markdown",
   "metadata": {},
   "source": [
    "-------\n",
    "This notebook is adapted from Prof. Geoffrey Hutchison, University of Pittsburgh\n",
    "https://github.com/ghutchis/chem1000\n",
    "\n",
    "Portions have been adapted from [Mathematical Python by Patrick Wills](https://github.com/patrickwalls/mathematical-python/tree/master/scipy)\n",
    "\n",
    "<a rel=\"license\" href=\"http://creativecommons.org/licenses/by/4.0/\"><img alt=\"Creative Commons License\" style=\"border-width:0\" src=\"https://i.creativecommons.org/l/by/4.0/88x31.png\" /></a>"
   ]
  }
 ],
 "metadata": {
  "kernelspec": {
   "display_name": "base",
   "language": "python",
   "name": "python3"
  },
  "language_info": {
   "codemirror_mode": {
    "name": "ipython",
    "version": 3
   },
   "file_extension": ".py",
   "mimetype": "text/x-python",
   "name": "python",
   "nbconvert_exporter": "python",
   "pygments_lexer": "ipython3",
   "version": "3.9.7"
  },
  "toc": {
   "base_numbering": 1,
   "nav_menu": {},
   "number_sections": false,
   "sideBar": false,
   "skip_h1_title": false,
   "title_cell": "Table of Contents",
   "title_sidebar": "Contents",
   "toc_cell": false,
   "toc_position": {},
   "toc_section_display": false,
   "toc_window_display": false
  },
  "vscode": {
   "interpreter": {
    "hash": "a7322cd65eec679d3161492e85e84add5ac4e3cc28e76a062695347f6d4d8f6c"
   }
  }
 },
 "nbformat": 4,
 "nbformat_minor": 4
}
